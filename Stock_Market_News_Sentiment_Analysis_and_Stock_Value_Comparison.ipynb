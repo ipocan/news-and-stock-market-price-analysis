{
  "nbformat": 4,
  "nbformat_minor": 0,
  "metadata": {
    "colab": {
      "name": "Stock Market News Sentiment Analysis and Stock Value Comparison.ipynb",
      "provenance": [],
      "collapsed_sections": [],
      "toc_visible": true
    },
    "kernelspec": {
      "name": "python3",
      "display_name": "Python 3"
    }
  },
  "cells": [
    {
      "cell_type": "markdown",
      "metadata": {
        "id": "JEoo3k2ZhqAv"
      },
      "source": [
        "# Introduction\r\n",
        "The aim of this project is to compare the sentimens of stock market news with stock prices and figure out the relation between two different datasets.I will try to answer **\"Is there any relationship between stock market news and stock market prices?\"**\r\n",
        "\r\n",
        "I will get the news by web scraping on [The Business Times](https://www.businesstimes.com.sg/). I will analyse **Facebook, Amazon, Apple, Tesla and Netflix** companies."
      ]
    },
    {
      "cell_type": "markdown",
      "metadata": {
        "id": "RoFsa3JPkSVG"
      },
      "source": [
        "##Importing Libraries"
      ]
    },
    {
      "cell_type": "code",
      "metadata": {
        "colab": {
          "base_uri": "https://localhost:8080/"
        },
        "id": "fIKJOnPLkkiO",
        "outputId": "a363573e-4d52-40de-ec13-3b9e251f3c19"
      },
      "source": [
        "import pandas_datareader as web\r\n",
        "import numpy as np\r\n",
        "import pandas as pd\r\n",
        "import matplotlib.pyplot as plt\r\n",
        "import nltk\r\n",
        "nltk.download('stopwords')\r\n",
        "from nltk.corpus import stopwords\r\n",
        "stop_words = stopwords.words('english')\r\n",
        "import string\r\n",
        "import re\r\n",
        "nltk.download('vader_lexicon')\r\n",
        "\r\n",
        "from nltk.sentiment.vader import SentimentIntensityAnalyzer\r\n",
        "vader = SentimentIntensityAnalyzer()\r\n",
        "\r\n",
        "plt.style.use('fivethirtyeight')"
      ],
      "execution_count": null,
      "outputs": [
        {
          "output_type": "stream",
          "text": [
            "[nltk_data] Downloading package stopwords to /root/nltk_data...\n",
            "[nltk_data]   Package stopwords is already up-to-date!\n",
            "[nltk_data] Downloading package vader_lexicon to /root/nltk_data...\n",
            "[nltk_data]   Package vader_lexicon is already up-to-date!\n"
          ],
          "name": "stdout"
        }
      ]
    },
    {
      "cell_type": "code",
      "metadata": {
        "colab": {
          "base_uri": "https://localhost:8080/"
        },
        "id": "t5o-5OUakoMb",
        "outputId": "6609564f-5cf2-4157-d069-5b129d9f03f5"
      },
      "source": [
        "from google.colab import drive\r\n",
        "drive.mount(\"/content/drive\")"
      ],
      "execution_count": null,
      "outputs": [
        {
          "output_type": "stream",
          "text": [
            "Drive already mounted at /content/drive; to attempt to forcibly remount, call drive.mount(\"/content/drive\", force_remount=True).\n"
          ],
          "name": "stdout"
        }
      ]
    },
    {
      "cell_type": "markdown",
      "metadata": {
        "id": "inYTTGyZkMbS"
      },
      "source": [
        "## Getting the News and Stock Prices"
      ]
    },
    {
      "cell_type": "code",
      "metadata": {
        "id": "WjJkyZPpIGtd"
      },
      "source": [
        "def scraper(query):\r\n",
        "\r\n",
        "  \"\"\"This functions extracts news headline, summaries, dates and urls from Business Times website and creates a dataframe.\"\"\"\r\n",
        "\r\n",
        "  from urllib.request import urlopen\r\n",
        "  from bs4 import BeautifulSoup\r\n",
        "  import pandas as pd\r\n",
        "  import time\r\n",
        "  from time import sleep\r\n",
        "  \r\n",
        "  urls = []\r\n",
        "  dates = []\r\n",
        "  headlines = []\r\n",
        "  summaries = []\r\n",
        "  \r\n",
        "  for i in range(1,11):\r\n",
        "        \r\n",
        "       page = urlopen(\"https://www.businesstimes.com.sg/search/\"+str(query)+\"?page=\"+str(i)).read()\r\n",
        "       soup = BeautifulSoup(page, features=\"html.parser\")\r\n",
        "       all_news = soup.findAll(\"div\", {\"class\": \"media-body\"})\r\n",
        "        \r\n",
        "       for news in all_news:\r\n",
        "\r\n",
        "           time.sleep(1)\r\n",
        "         \r\n",
        "           url = news.a['href']\r\n",
        "           urls.append(url)\r\n",
        "         \r\n",
        "           date = news.time.text\r\n",
        "           dates.append(date)\r\n",
        "         \r\n",
        "           headline = news.a.text\r\n",
        "           headlines.append(headline)\r\n",
        "         \r\n",
        "           summary = news.p.text\r\n",
        "           summaries.append(summary)\r\n",
        "      \r\n",
        "  news_dict = {'date':dates,'headline':headlines,'summary':summaries,'url':urls}\r\n",
        "  news_df = pd.DataFrame(data=news_dict) \r\n",
        "  \r\n",
        "  return news_df"
      ],
      "execution_count": null,
      "outputs": []
    },
    {
      "cell_type": "markdown",
      "metadata": {
        "id": "QEAcuLv1yOSW"
      },
      "source": [
        "### Facebook"
      ]
    },
    {
      "cell_type": "code",
      "metadata": {
        "id": "RNku7XLhMk4L"
      },
      "source": [
        "fb_df = scraper('facebook')"
      ],
      "execution_count": null,
      "outputs": []
    },
    {
      "cell_type": "code",
      "metadata": {
        "colab": {
          "base_uri": "https://localhost:8080/",
          "height": 202
        },
        "id": "QlkW3TaWfymA",
        "outputId": "14fe541b-24a0-458c-f837-5adbbfd03f58"
      },
      "source": [
        "fb_df.head()"
      ],
      "execution_count": null,
      "outputs": [
        {
          "output_type": "execute_result",
          "data": {
            "text/html": [
              "<div>\n",
              "<style scoped>\n",
              "    .dataframe tbody tr th:only-of-type {\n",
              "        vertical-align: middle;\n",
              "    }\n",
              "\n",
              "    .dataframe tbody tr th {\n",
              "        vertical-align: top;\n",
              "    }\n",
              "\n",
              "    .dataframe thead th {\n",
              "        text-align: right;\n",
              "    }\n",
              "</style>\n",
              "<table border=\"1\" class=\"dataframe\">\n",
              "  <thead>\n",
              "    <tr style=\"text-align: right;\">\n",
              "      <th></th>\n",
              "      <th>date</th>\n",
              "      <th>headline</th>\n",
              "      <th>summary</th>\n",
              "      <th>url</th>\n",
              "    </tr>\n",
              "  </thead>\n",
              "  <tbody>\n",
              "    <tr>\n",
              "      <th>0</th>\n",
              "      <td>12 Dec 2020</td>\n",
              "      <td>Yes, Facebook has become a menace</td>\n",
              "      <td>IT'S about time, even if it's been a very long...</td>\n",
              "      <td>https://www.businesstimes.com.sg/opinion/yes-f...</td>\n",
              "    </tr>\n",
              "    <tr>\n",
              "      <th>1</th>\n",
              "      <td>10 Dec 2020</td>\n",
              "      <td>US crackdown on Facebook gets thumbs up from E...</td>\n",
              "      <td>[BRUSSELS] Margrethe Vestager, the European Un...</td>\n",
              "      <td>https://www.businesstimes.com.sg/technology/us...</td>\n",
              "    </tr>\n",
              "    <tr>\n",
              "      <th>2</th>\n",
              "      <td>10 Dec 2020</td>\n",
              "      <td>Facebook antitrust suits seek to divest Instag...</td>\n",
              "      <td>[WASHINGTON] US federal and state antitrust en...</td>\n",
              "      <td>https://www.businesstimes.com.sg/technology/fa...</td>\n",
              "    </tr>\n",
              "    <tr>\n",
              "      <th>3</th>\n",
              "      <td>10 Dec 2020</td>\n",
              "      <td>Google, Facebook win concession in law to pay ...</td>\n",
              "      <td>GOOGLE and Facebook Inc won a key concession i...</td>\n",
              "      <td>https://www.businesstimes.com.sg/consumer/goog...</td>\n",
              "    </tr>\n",
              "    <tr>\n",
              "      <th>4</th>\n",
              "      <td>09 Dec 2020</td>\n",
              "      <td>Google, Facebook win key concession in law to ...</td>\n",
              "      <td>[SYDNEY] Google and Facebook won a key concess...</td>\n",
              "      <td>https://www.businesstimes.com.sg/consumer/goog...</td>\n",
              "    </tr>\n",
              "  </tbody>\n",
              "</table>\n",
              "</div>"
            ],
            "text/plain": [
              "          date  ...                                                url\n",
              "0  12 Dec 2020  ...  https://www.businesstimes.com.sg/opinion/yes-f...\n",
              "1  10 Dec 2020  ...  https://www.businesstimes.com.sg/technology/us...\n",
              "2  10 Dec 2020  ...  https://www.businesstimes.com.sg/technology/fa...\n",
              "3  10 Dec 2020  ...  https://www.businesstimes.com.sg/consumer/goog...\n",
              "4  09 Dec 2020  ...  https://www.businesstimes.com.sg/consumer/goog...\n",
              "\n",
              "[5 rows x 4 columns]"
            ]
          },
          "metadata": {
            "tags": []
          },
          "execution_count": 5
        }
      ]
    },
    {
      "cell_type": "code",
      "metadata": {
        "colab": {
          "base_uri": "https://localhost:8080/",
          "height": 202
        },
        "id": "Sj77oObpe6aI",
        "outputId": "4a443854-bcdf-488a-dca3-e738f4269831"
      },
      "source": [
        "fb_df.tail()"
      ],
      "execution_count": null,
      "outputs": [
        {
          "output_type": "execute_result",
          "data": {
            "text/html": [
              "<div>\n",
              "<style scoped>\n",
              "    .dataframe tbody tr th:only-of-type {\n",
              "        vertical-align: middle;\n",
              "    }\n",
              "\n",
              "    .dataframe tbody tr th {\n",
              "        vertical-align: top;\n",
              "    }\n",
              "\n",
              "    .dataframe thead th {\n",
              "        text-align: right;\n",
              "    }\n",
              "</style>\n",
              "<table border=\"1\" class=\"dataframe\">\n",
              "  <thead>\n",
              "    <tr style=\"text-align: right;\">\n",
              "      <th></th>\n",
              "      <th>date</th>\n",
              "      <th>headline</th>\n",
              "      <th>summary</th>\n",
              "      <th>url</th>\n",
              "    </tr>\n",
              "  </thead>\n",
              "  <tbody>\n",
              "    <tr>\n",
              "      <th>95</th>\n",
              "      <td>03 Jul 2020</td>\n",
              "      <td>Facebook, YouTube, Twitter to face same EU rul...</td>\n",
              "      <td>[BRUSSELS] Facebook, Alphabet-owned YouTube, T...</td>\n",
              "      <td>https://www.businesstimes.com.sg/technology/fa...</td>\n",
              "    </tr>\n",
              "    <tr>\n",
              "      <th>96</th>\n",
              "      <td>03 Jul 2020</td>\n",
              "      <td>Facebook to advise use of masks amid latest vi...</td>\n",
              "      <td>[WASHINGTON] Facebook said on Thursday it woul...</td>\n",
              "      <td>https://www.businesstimes.com.sg/technology/fa...</td>\n",
              "    </tr>\n",
              "    <tr>\n",
              "      <th>97</th>\n",
              "      <td>01 Jul 2020</td>\n",
              "      <td>Facebook frustrates advertisers as boycott ove...</td>\n",
              "      <td>[NEW YORK] Advertisements for more than 400 br...</td>\n",
              "      <td>https://www.businesstimes.com.sg/technology/fa...</td>\n",
              "    </tr>\n",
              "    <tr>\n",
              "      <th>98</th>\n",
              "      <td>01 Jul 2020</td>\n",
              "      <td>Volkswagen, Adidas, Puma join Facebook ad boyc...</td>\n",
              "      <td>[FRANKFURT AM MAIN] German giants Volkswagen, ...</td>\n",
              "      <td>https://www.businesstimes.com.sg/technology/vo...</td>\n",
              "    </tr>\n",
              "    <tr>\n",
              "      <th>99</th>\n",
              "      <td>30 Jun 2020</td>\n",
              "      <td>Facebook co-founder's B Capital closes second ...</td>\n",
              "      <td>B CAPITAL Group has closed its US$820 million ...</td>\n",
              "      <td>https://www.businesstimes.com.sg/garage/facebo...</td>\n",
              "    </tr>\n",
              "  </tbody>\n",
              "</table>\n",
              "</div>"
            ],
            "text/plain": [
              "           date  ...                                                url\n",
              "95  03 Jul 2020  ...  https://www.businesstimes.com.sg/technology/fa...\n",
              "96  03 Jul 2020  ...  https://www.businesstimes.com.sg/technology/fa...\n",
              "97  01 Jul 2020  ...  https://www.businesstimes.com.sg/technology/fa...\n",
              "98  01 Jul 2020  ...  https://www.businesstimes.com.sg/technology/vo...\n",
              "99  30 Jun 2020  ...  https://www.businesstimes.com.sg/garage/facebo...\n",
              "\n",
              "[5 rows x 4 columns]"
            ]
          },
          "metadata": {
            "tags": []
          },
          "execution_count": 6
        }
      ]
    },
    {
      "cell_type": "code",
      "metadata": {
        "colab": {
          "base_uri": "https://localhost:8080/"
        },
        "id": "x7zXp5c2cw8K",
        "outputId": "a5e234d4-79eb-483e-d804-305844b49456"
      },
      "source": [
        "fb_df.shape"
      ],
      "execution_count": null,
      "outputs": [
        {
          "output_type": "execute_result",
          "data": {
            "text/plain": [
              "(100, 4)"
            ]
          },
          "metadata": {
            "tags": []
          },
          "execution_count": 7
        }
      ]
    },
    {
      "cell_type": "code",
      "metadata": {
        "id": "FSYWaFwXlHMU"
      },
      "source": [
        "fb_df.to_csv(\"/content/drive/MyDrive/Data Science/Stock News Scraping & Analysis/datasets/facebook_news.csv\", index=True)"
      ],
      "execution_count": null,
      "outputs": []
    },
    {
      "cell_type": "code",
      "metadata": {
        "colab": {
          "base_uri": "https://localhost:8080/",
          "height": 233
        },
        "id": "tD8yzvhimt8N",
        "outputId": "af4bc0f3-73e4-41e1-a722-c648d0ea9be0"
      },
      "source": [
        "fb_stock = web.DataReader('FB', data_source='yahoo', start='2020-06-30',end='2020-12-12')\r\n",
        "fb_stock.head()"
      ],
      "execution_count": null,
      "outputs": [
        {
          "output_type": "execute_result",
          "data": {
            "text/html": [
              "<div>\n",
              "<style scoped>\n",
              "    .dataframe tbody tr th:only-of-type {\n",
              "        vertical-align: middle;\n",
              "    }\n",
              "\n",
              "    .dataframe tbody tr th {\n",
              "        vertical-align: top;\n",
              "    }\n",
              "\n",
              "    .dataframe thead th {\n",
              "        text-align: right;\n",
              "    }\n",
              "</style>\n",
              "<table border=\"1\" class=\"dataframe\">\n",
              "  <thead>\n",
              "    <tr style=\"text-align: right;\">\n",
              "      <th></th>\n",
              "      <th>High</th>\n",
              "      <th>Low</th>\n",
              "      <th>Open</th>\n",
              "      <th>Close</th>\n",
              "      <th>Volume</th>\n",
              "      <th>Adj Close</th>\n",
              "    </tr>\n",
              "    <tr>\n",
              "      <th>Date</th>\n",
              "      <th></th>\n",
              "      <th></th>\n",
              "      <th></th>\n",
              "      <th></th>\n",
              "      <th></th>\n",
              "      <th></th>\n",
              "    </tr>\n",
              "  </thead>\n",
              "  <tbody>\n",
              "    <tr>\n",
              "      <th>2020-06-30</th>\n",
              "      <td>227.500000</td>\n",
              "      <td>218.470001</td>\n",
              "      <td>220.589996</td>\n",
              "      <td>227.070007</td>\n",
              "      <td>33927100</td>\n",
              "      <td>227.070007</td>\n",
              "    </tr>\n",
              "    <tr>\n",
              "      <th>2020-07-01</th>\n",
              "      <td>239.000000</td>\n",
              "      <td>227.559998</td>\n",
              "      <td>228.500000</td>\n",
              "      <td>237.550003</td>\n",
              "      <td>43399700</td>\n",
              "      <td>237.550003</td>\n",
              "    </tr>\n",
              "    <tr>\n",
              "      <th>2020-07-02</th>\n",
              "      <td>240.000000</td>\n",
              "      <td>232.610001</td>\n",
              "      <td>239.000000</td>\n",
              "      <td>233.419998</td>\n",
              "      <td>30633600</td>\n",
              "      <td>233.419998</td>\n",
              "    </tr>\n",
              "    <tr>\n",
              "      <th>2020-07-06</th>\n",
              "      <td>240.399994</td>\n",
              "      <td>232.270004</td>\n",
              "      <td>233.759995</td>\n",
              "      <td>240.279999</td>\n",
              "      <td>26206200</td>\n",
              "      <td>240.279999</td>\n",
              "    </tr>\n",
              "    <tr>\n",
              "      <th>2020-07-07</th>\n",
              "      <td>247.649994</td>\n",
              "      <td>238.820007</td>\n",
              "      <td>239.410004</td>\n",
              "      <td>240.860001</td>\n",
              "      <td>27887800</td>\n",
              "      <td>240.860001</td>\n",
              "    </tr>\n",
              "  </tbody>\n",
              "</table>\n",
              "</div>"
            ],
            "text/plain": [
              "                  High         Low  ...    Volume   Adj Close\n",
              "Date                                ...                      \n",
              "2020-06-30  227.500000  218.470001  ...  33927100  227.070007\n",
              "2020-07-01  239.000000  227.559998  ...  43399700  237.550003\n",
              "2020-07-02  240.000000  232.610001  ...  30633600  233.419998\n",
              "2020-07-06  240.399994  232.270004  ...  26206200  240.279999\n",
              "2020-07-07  247.649994  238.820007  ...  27887800  240.860001\n",
              "\n",
              "[5 rows x 6 columns]"
            ]
          },
          "metadata": {
            "tags": []
          },
          "execution_count": 9
        }
      ]
    },
    {
      "cell_type": "code",
      "metadata": {
        "id": "fP3JidppmuBD"
      },
      "source": [
        "fb_stock.to_csv(\"/content/drive/MyDrive/Data Science/Stock News Scraping & Analysis/datasets/facebook_stocks.csv\", index=True)"
      ],
      "execution_count": null,
      "outputs": []
    },
    {
      "cell_type": "markdown",
      "metadata": {
        "id": "IevqwN-qyVP-"
      },
      "source": [
        "### Amazon"
      ]
    },
    {
      "cell_type": "code",
      "metadata": {
        "id": "H7cd1qUzf1EH"
      },
      "source": [
        "amzn_df = scraper('amazon')"
      ],
      "execution_count": null,
      "outputs": []
    },
    {
      "cell_type": "code",
      "metadata": {
        "colab": {
          "base_uri": "https://localhost:8080/",
          "height": 202
        },
        "id": "s_KROgbrgEyI",
        "outputId": "6e48ba86-072a-4f1d-87d2-6c3709755aaf"
      },
      "source": [
        "amzn_df.head()"
      ],
      "execution_count": null,
      "outputs": [
        {
          "output_type": "execute_result",
          "data": {
            "text/html": [
              "<div>\n",
              "<style scoped>\n",
              "    .dataframe tbody tr th:only-of-type {\n",
              "        vertical-align: middle;\n",
              "    }\n",
              "\n",
              "    .dataframe tbody tr th {\n",
              "        vertical-align: top;\n",
              "    }\n",
              "\n",
              "    .dataframe thead th {\n",
              "        text-align: right;\n",
              "    }\n",
              "</style>\n",
              "<table border=\"1\" class=\"dataframe\">\n",
              "  <thead>\n",
              "    <tr style=\"text-align: right;\">\n",
              "      <th></th>\n",
              "      <th>date</th>\n",
              "      <th>headline</th>\n",
              "      <th>summary</th>\n",
              "      <th>url</th>\n",
              "    </tr>\n",
              "  </thead>\n",
              "  <tbody>\n",
              "    <tr>\n",
              "      <th>0</th>\n",
              "      <td>11 Dec 2020</td>\n",
              "      <td>Google, Amazon fined total of 135 million euro...</td>\n",
              "      <td>GOOGLE racked up another record fine in the Eu...</td>\n",
              "      <td>https://www.businesstimes.com.sg/technology/go...</td>\n",
              "    </tr>\n",
              "    <tr>\n",
              "      <th>1</th>\n",
              "      <td>10 Dec 2020</td>\n",
              "      <td>Google, Amazon fined 100m euros by French data...</td>\n",
              "      <td>[LUXEMBOURG] Google racked up another record E...</td>\n",
              "      <td>https://www.businesstimes.com.sg/technology/go...</td>\n",
              "    </tr>\n",
              "    <tr>\n",
              "      <th>2</th>\n",
              "      <td>09 Dec 2020</td>\n",
              "      <td>Amazon eyes potential US$100m investment in In...</td>\n",
              "      <td>[BENGALURU] Amazon.com Inc is considering a ne...</td>\n",
              "      <td>https://www.businesstimes.com.sg/consumer/amaz...</td>\n",
              "    </tr>\n",
              "    <tr>\n",
              "      <th>3</th>\n",
              "      <td>04 Dec 2020</td>\n",
              "      <td>More than 400 lawmakers from 34 countries back...</td>\n",
              "      <td>[LONDON] More than 400 lawmakers from 34 count...</td>\n",
              "      <td>https://www.businesstimes.com.sg/consumer/more...</td>\n",
              "    </tr>\n",
              "    <tr>\n",
              "      <th>4</th>\n",
              "      <td>02 Dec 2020</td>\n",
              "      <td>BlackBerry, Amazon team up on smart car softwa...</td>\n",
              "      <td>[SAN FRANCISCO] BlackBerry and Amazon on Tuesd...</td>\n",
              "      <td>https://www.businesstimes.com.sg/transport/bla...</td>\n",
              "    </tr>\n",
              "  </tbody>\n",
              "</table>\n",
              "</div>"
            ],
            "text/plain": [
              "          date  ...                                                url\n",
              "0  11 Dec 2020  ...  https://www.businesstimes.com.sg/technology/go...\n",
              "1  10 Dec 2020  ...  https://www.businesstimes.com.sg/technology/go...\n",
              "2  09 Dec 2020  ...  https://www.businesstimes.com.sg/consumer/amaz...\n",
              "3  04 Dec 2020  ...  https://www.businesstimes.com.sg/consumer/more...\n",
              "4  02 Dec 2020  ...  https://www.businesstimes.com.sg/transport/bla...\n",
              "\n",
              "[5 rows x 4 columns]"
            ]
          },
          "metadata": {
            "tags": []
          },
          "execution_count": 12
        }
      ]
    },
    {
      "cell_type": "code",
      "metadata": {
        "colab": {
          "base_uri": "https://localhost:8080/",
          "height": 202
        },
        "id": "TPVZEdq7gGjv",
        "outputId": "86faab0b-74ad-462a-bf74-7bd8bd8012e5"
      },
      "source": [
        "amzn_df.tail()"
      ],
      "execution_count": null,
      "outputs": [
        {
          "output_type": "execute_result",
          "data": {
            "text/html": [
              "<div>\n",
              "<style scoped>\n",
              "    .dataframe tbody tr th:only-of-type {\n",
              "        vertical-align: middle;\n",
              "    }\n",
              "\n",
              "    .dataframe tbody tr th {\n",
              "        vertical-align: top;\n",
              "    }\n",
              "\n",
              "    .dataframe thead th {\n",
              "        text-align: right;\n",
              "    }\n",
              "</style>\n",
              "<table border=\"1\" class=\"dataframe\">\n",
              "  <thead>\n",
              "    <tr style=\"text-align: right;\">\n",
              "      <th></th>\n",
              "      <th>date</th>\n",
              "      <th>headline</th>\n",
              "      <th>summary</th>\n",
              "      <th>url</th>\n",
              "    </tr>\n",
              "  </thead>\n",
              "  <tbody>\n",
              "    <tr>\n",
              "      <th>95</th>\n",
              "      <td>11 Jul 2020</td>\n",
              "      <td>Netflix, Amazon and Nvidia get Street-high tar...</td>\n",
              "      <td>[NEW YORK] A trio of companies that have been ...</td>\n",
              "      <td>https://www.businesstimes.com.sg/technology/ne...</td>\n",
              "    </tr>\n",
              "    <tr>\n",
              "      <th>96</th>\n",
              "      <td>11 Jul 2020</td>\n",
              "      <td>Amazon's Kuiper satellite plan wins backing of...</td>\n",
              "      <td>[WASHINGTON] Amazon.com's plan for a fleet of ...</td>\n",
              "      <td>https://www.businesstimes.com.sg/technology/am...</td>\n",
              "    </tr>\n",
              "    <tr>\n",
              "      <th>97</th>\n",
              "      <td>11 Jul 2020</td>\n",
              "      <td>Amazon.com bans, then un-bans TikTok app from ...</td>\n",
              "      <td>[SAN FRANCISCO] In the span of a few hours on ...</td>\n",
              "      <td>https://www.businesstimes.com.sg/technology/am...</td>\n",
              "    </tr>\n",
              "    <tr>\n",
              "      <th>98</th>\n",
              "      <td>08 Jul 2020</td>\n",
              "      <td>Amazon India's unit gets 23.1b rupees in fresh...</td>\n",
              "      <td>[BENGALURU] Amazon.com has invested 23.10 bill...</td>\n",
              "      <td>https://www.businesstimes.com.sg/technology/am...</td>\n",
              "    </tr>\n",
              "    <tr>\n",
              "      <th>99</th>\n",
              "      <td>07 Jul 2020</td>\n",
              "      <td>Indonesia imposes 10% VAT on Amazon, Google, N...</td>\n",
              "      <td>[JAKARTA] Indonesia imposed a 10 per cent valu...</td>\n",
              "      <td>https://www.businesstimes.com.sg/government-ec...</td>\n",
              "    </tr>\n",
              "  </tbody>\n",
              "</table>\n",
              "</div>"
            ],
            "text/plain": [
              "           date  ...                                                url\n",
              "95  11 Jul 2020  ...  https://www.businesstimes.com.sg/technology/ne...\n",
              "96  11 Jul 2020  ...  https://www.businesstimes.com.sg/technology/am...\n",
              "97  11 Jul 2020  ...  https://www.businesstimes.com.sg/technology/am...\n",
              "98  08 Jul 2020  ...  https://www.businesstimes.com.sg/technology/am...\n",
              "99  07 Jul 2020  ...  https://www.businesstimes.com.sg/government-ec...\n",
              "\n",
              "[5 rows x 4 columns]"
            ]
          },
          "metadata": {
            "tags": []
          },
          "execution_count": 13
        }
      ]
    },
    {
      "cell_type": "code",
      "metadata": {
        "colab": {
          "base_uri": "https://localhost:8080/"
        },
        "id": "RstMcGH_gI4P",
        "outputId": "f78f2fe8-3e71-4507-d3d4-dee04bb7eb42"
      },
      "source": [
        "amzn_df.shape"
      ],
      "execution_count": null,
      "outputs": [
        {
          "output_type": "execute_result",
          "data": {
            "text/plain": [
              "(100, 4)"
            ]
          },
          "metadata": {
            "tags": []
          },
          "execution_count": 14
        }
      ]
    },
    {
      "cell_type": "code",
      "metadata": {
        "id": "IVD19r5ZmMBk"
      },
      "source": [
        "amzn_df.to_csv(\"/content/drive/MyDrive/Data Science/Stock News Scraping & Analysis/datasets/amazon_news.csv\", index=True)"
      ],
      "execution_count": null,
      "outputs": []
    },
    {
      "cell_type": "code",
      "metadata": {
        "colab": {
          "base_uri": "https://localhost:8080/",
          "height": 233
        },
        "id": "JL6sHf1Hn2yJ",
        "outputId": "6bc801d2-40c5-4cd8-8a1d-2b1adaee7699"
      },
      "source": [
        "amzn_stock = web.DataReader('AMZN', data_source='yahoo', start='2020-07-07',end='2020-12-12')\r\n",
        "amzn_stock.head()"
      ],
      "execution_count": null,
      "outputs": [
        {
          "output_type": "execute_result",
          "data": {
            "text/html": [
              "<div>\n",
              "<style scoped>\n",
              "    .dataframe tbody tr th:only-of-type {\n",
              "        vertical-align: middle;\n",
              "    }\n",
              "\n",
              "    .dataframe tbody tr th {\n",
              "        vertical-align: top;\n",
              "    }\n",
              "\n",
              "    .dataframe thead th {\n",
              "        text-align: right;\n",
              "    }\n",
              "</style>\n",
              "<table border=\"1\" class=\"dataframe\">\n",
              "  <thead>\n",
              "    <tr style=\"text-align: right;\">\n",
              "      <th></th>\n",
              "      <th>High</th>\n",
              "      <th>Low</th>\n",
              "      <th>Open</th>\n",
              "      <th>Close</th>\n",
              "      <th>Volume</th>\n",
              "      <th>Adj Close</th>\n",
              "    </tr>\n",
              "    <tr>\n",
              "      <th>Date</th>\n",
              "      <th></th>\n",
              "      <th></th>\n",
              "      <th></th>\n",
              "      <th></th>\n",
              "      <th></th>\n",
              "      <th></th>\n",
              "    </tr>\n",
              "  </thead>\n",
              "  <tbody>\n",
              "    <tr>\n",
              "      <th>2020-07-07</th>\n",
              "      <td>3069.550049</td>\n",
              "      <td>2990.000000</td>\n",
              "      <td>3058.550049</td>\n",
              "      <td>3000.120117</td>\n",
              "      <td>5257500</td>\n",
              "      <td>3000.120117</td>\n",
              "    </tr>\n",
              "    <tr>\n",
              "      <th>2020-07-08</th>\n",
              "      <td>3083.969971</td>\n",
              "      <td>3012.429932</td>\n",
              "      <td>3022.610107</td>\n",
              "      <td>3081.110107</td>\n",
              "      <td>5037600</td>\n",
              "      <td>3081.110107</td>\n",
              "    </tr>\n",
              "    <tr>\n",
              "      <th>2020-07-09</th>\n",
              "      <td>3193.879883</td>\n",
              "      <td>3074.000000</td>\n",
              "      <td>3115.989990</td>\n",
              "      <td>3182.629883</td>\n",
              "      <td>6388700</td>\n",
              "      <td>3182.629883</td>\n",
              "    </tr>\n",
              "    <tr>\n",
              "      <th>2020-07-10</th>\n",
              "      <td>3215.000000</td>\n",
              "      <td>3135.699951</td>\n",
              "      <td>3191.760010</td>\n",
              "      <td>3200.000000</td>\n",
              "      <td>5486000</td>\n",
              "      <td>3200.000000</td>\n",
              "    </tr>\n",
              "    <tr>\n",
              "      <th>2020-07-13</th>\n",
              "      <td>3344.290039</td>\n",
              "      <td>3068.389893</td>\n",
              "      <td>3251.060059</td>\n",
              "      <td>3104.000000</td>\n",
              "      <td>7720400</td>\n",
              "      <td>3104.000000</td>\n",
              "    </tr>\n",
              "  </tbody>\n",
              "</table>\n",
              "</div>"
            ],
            "text/plain": [
              "                   High          Low  ...   Volume    Adj Close\n",
              "Date                                  ...                      \n",
              "2020-07-07  3069.550049  2990.000000  ...  5257500  3000.120117\n",
              "2020-07-08  3083.969971  3012.429932  ...  5037600  3081.110107\n",
              "2020-07-09  3193.879883  3074.000000  ...  6388700  3182.629883\n",
              "2020-07-10  3215.000000  3135.699951  ...  5486000  3200.000000\n",
              "2020-07-13  3344.290039  3068.389893  ...  7720400  3104.000000\n",
              "\n",
              "[5 rows x 6 columns]"
            ]
          },
          "metadata": {
            "tags": []
          },
          "execution_count": 16
        }
      ]
    },
    {
      "cell_type": "code",
      "metadata": {
        "id": "WTKNeksZn21w"
      },
      "source": [
        "amzn_stock.to_csv(\"/content/drive/MyDrive/Data Science/Stock News Scraping & Analysis/datasets/amazon_stocks.csv\", index=True)"
      ],
      "execution_count": null,
      "outputs": []
    },
    {
      "cell_type": "markdown",
      "metadata": {
        "id": "cdZZh8-fyX4m"
      },
      "source": [
        "### Apple"
      ]
    },
    {
      "cell_type": "code",
      "metadata": {
        "id": "3oZUcF-kgNLP"
      },
      "source": [
        "apple_df = scraper('apple')"
      ],
      "execution_count": null,
      "outputs": []
    },
    {
      "cell_type": "code",
      "metadata": {
        "colab": {
          "base_uri": "https://localhost:8080/",
          "height": 202
        },
        "id": "iwe_j7zUgTZQ",
        "outputId": "ced3e034-f65e-4ab2-fbb9-31456e4912e4"
      },
      "source": [
        "apple_df.head()"
      ],
      "execution_count": null,
      "outputs": [
        {
          "output_type": "execute_result",
          "data": {
            "text/html": [
              "<div>\n",
              "<style scoped>\n",
              "    .dataframe tbody tr th:only-of-type {\n",
              "        vertical-align: middle;\n",
              "    }\n",
              "\n",
              "    .dataframe tbody tr th {\n",
              "        vertical-align: top;\n",
              "    }\n",
              "\n",
              "    .dataframe thead th {\n",
              "        text-align: right;\n",
              "    }\n",
              "</style>\n",
              "<table border=\"1\" class=\"dataframe\">\n",
              "  <thead>\n",
              "    <tr style=\"text-align: right;\">\n",
              "      <th></th>\n",
              "      <th>date</th>\n",
              "      <th>headline</th>\n",
              "      <th>summary</th>\n",
              "      <th>url</th>\n",
              "    </tr>\n",
              "  </thead>\n",
              "  <tbody>\n",
              "    <tr>\n",
              "      <th>0</th>\n",
              "      <td>12 Dec 2020</td>\n",
              "      <td>Apple's greatest chip challenge yet: replacing...</td>\n",
              "      <td>[SAN FRANCISCO] Apple has become a chip powerh...</td>\n",
              "      <td>https://www.businesstimes.com.sg/technology/ap...</td>\n",
              "    </tr>\n",
              "    <tr>\n",
              "      <th>1</th>\n",
              "      <td>08 Dec 2020</td>\n",
              "      <td>Apple could block apps that don't comply with ...</td>\n",
              "      <td>[STOCKHOLM] Apple threatened on Tuesday to rem...</td>\n",
              "      <td>https://www.businesstimes.com.sg/consumer/appl...</td>\n",
              "    </tr>\n",
              "    <tr>\n",
              "      <th>2</th>\n",
              "      <td>08 Dec 2020</td>\n",
              "      <td>Apple launches US$550 over-ear headphones into...</td>\n",
              "      <td>[CUPERTINO] Apple launched its first over-ear ...</td>\n",
              "      <td>https://www.businesstimes.com.sg/technology/ap...</td>\n",
              "    </tr>\n",
              "    <tr>\n",
              "      <th>3</th>\n",
              "      <td>04 Dec 2020</td>\n",
              "      <td>Apple Pay targeted in Dutch antitrust probe in...</td>\n",
              "      <td>[AMSTERDAM] Apple phones face scrutiny from Du...</td>\n",
              "      <td>https://www.businesstimes.com.sg/consumer/appl...</td>\n",
              "    </tr>\n",
              "    <tr>\n",
              "      <th>4</th>\n",
              "      <td>01 Dec 2020</td>\n",
              "      <td>Amazon unveils cloud service to power Apple ap...</td>\n",
              "      <td>[SEATTLE] Amazon.com's cloud business unveiled...</td>\n",
              "      <td>https://www.businesstimes.com.sg/technology/am...</td>\n",
              "    </tr>\n",
              "  </tbody>\n",
              "</table>\n",
              "</div>"
            ],
            "text/plain": [
              "          date  ...                                                url\n",
              "0  12 Dec 2020  ...  https://www.businesstimes.com.sg/technology/ap...\n",
              "1  08 Dec 2020  ...  https://www.businesstimes.com.sg/consumer/appl...\n",
              "2  08 Dec 2020  ...  https://www.businesstimes.com.sg/technology/ap...\n",
              "3  04 Dec 2020  ...  https://www.businesstimes.com.sg/consumer/appl...\n",
              "4  01 Dec 2020  ...  https://www.businesstimes.com.sg/technology/am...\n",
              "\n",
              "[5 rows x 4 columns]"
            ]
          },
          "metadata": {
            "tags": []
          },
          "execution_count": 19
        }
      ]
    },
    {
      "cell_type": "code",
      "metadata": {
        "colab": {
          "base_uri": "https://localhost:8080/",
          "height": 202
        },
        "id": "VW-96dOigWCw",
        "outputId": "e3241a32-c9b3-4bf4-8036-bfd4b45c8772"
      },
      "source": [
        "apple_df.tail()"
      ],
      "execution_count": null,
      "outputs": [
        {
          "output_type": "execute_result",
          "data": {
            "text/html": [
              "<div>\n",
              "<style scoped>\n",
              "    .dataframe tbody tr th:only-of-type {\n",
              "        vertical-align: middle;\n",
              "    }\n",
              "\n",
              "    .dataframe tbody tr th {\n",
              "        vertical-align: top;\n",
              "    }\n",
              "\n",
              "    .dataframe thead th {\n",
              "        text-align: right;\n",
              "    }\n",
              "</style>\n",
              "<table border=\"1\" class=\"dataframe\">\n",
              "  <thead>\n",
              "    <tr style=\"text-align: right;\">\n",
              "      <th></th>\n",
              "      <th>date</th>\n",
              "      <th>headline</th>\n",
              "      <th>summary</th>\n",
              "      <th>url</th>\n",
              "    </tr>\n",
              "  </thead>\n",
              "  <tbody>\n",
              "    <tr>\n",
              "      <th>95</th>\n",
              "      <td>01 Aug 2020</td>\n",
              "      <td>Apple buys startup to turn iPhones into paymen...</td>\n",
              "      <td>[CUPERTINO] Apple Inc has acquired Mobeewave I...</td>\n",
              "      <td>https://www.businesstimes.com.sg/garage/apple-...</td>\n",
              "    </tr>\n",
              "    <tr>\n",
              "      <th>96</th>\n",
              "      <td>31 Jul 2020</td>\n",
              "      <td>Huawei, Apple gain bigger share of shrinking C...</td>\n",
              "      <td>[SHENZHEN] Huawei Technologies and Apple both ...</td>\n",
              "      <td>https://www.businesstimes.com.sg/consumer/huaw...</td>\n",
              "    </tr>\n",
              "    <tr>\n",
              "      <th>97</th>\n",
              "      <td>31 Jul 2020</td>\n",
              "      <td>Apple delivers blowout earnings amid Covid-19,...</td>\n",
              "      <td>[CALIFORNIA] Apple on Thursday delivered blowo...</td>\n",
              "      <td>https://www.businesstimes.com.sg/technology/ap...</td>\n",
              "    </tr>\n",
              "    <tr>\n",
              "      <th>98</th>\n",
              "      <td>21 Jul 2020</td>\n",
              "      <td>Apple pledges to be fully carbon neutral by 2030</td>\n",
              "      <td>[SAN FRANCISCO] Apple pledged Tuesday to be ca...</td>\n",
              "      <td>https://www.businesstimes.com.sg/consumer/appl...</td>\n",
              "    </tr>\n",
              "    <tr>\n",
              "      <th>99</th>\n",
              "      <td>21 Jul 2020</td>\n",
              "      <td>Microsoft president raised Apple issues to US ...</td>\n",
              "      <td>[SEATTLE] Microsoft President Brad Smith raise...</td>\n",
              "      <td>https://www.businesstimes.com.sg/technology/mi...</td>\n",
              "    </tr>\n",
              "  </tbody>\n",
              "</table>\n",
              "</div>"
            ],
            "text/plain": [
              "           date  ...                                                url\n",
              "95  01 Aug 2020  ...  https://www.businesstimes.com.sg/garage/apple-...\n",
              "96  31 Jul 2020  ...  https://www.businesstimes.com.sg/consumer/huaw...\n",
              "97  31 Jul 2020  ...  https://www.businesstimes.com.sg/technology/ap...\n",
              "98  21 Jul 2020  ...  https://www.businesstimes.com.sg/consumer/appl...\n",
              "99  21 Jul 2020  ...  https://www.businesstimes.com.sg/technology/mi...\n",
              "\n",
              "[5 rows x 4 columns]"
            ]
          },
          "metadata": {
            "tags": []
          },
          "execution_count": 20
        }
      ]
    },
    {
      "cell_type": "code",
      "metadata": {
        "colab": {
          "base_uri": "https://localhost:8080/"
        },
        "id": "34XNfdXsgak4",
        "outputId": "c79e6ace-79c8-473c-a120-4b154494ec4c"
      },
      "source": [
        "apple_df.shape"
      ],
      "execution_count": null,
      "outputs": [
        {
          "output_type": "execute_result",
          "data": {
            "text/plain": [
              "(100, 4)"
            ]
          },
          "metadata": {
            "tags": []
          },
          "execution_count": 21
        }
      ]
    },
    {
      "cell_type": "code",
      "metadata": {
        "id": "zRtVb353mR0Z"
      },
      "source": [
        "apple_df.to_csv(\"/content/drive/MyDrive/Data Science/Stock News Scraping & Analysis/datasets/apple_news.csv\", index=True)"
      ],
      "execution_count": null,
      "outputs": []
    },
    {
      "cell_type": "code",
      "metadata": {
        "colab": {
          "base_uri": "https://localhost:8080/",
          "height": 233
        },
        "id": "fYIQFeH8oOBr",
        "outputId": "de721411-78e8-4c4b-ce13-ffc5678c91e6"
      },
      "source": [
        "apple_stock = web.DataReader('AAPL', data_source='yahoo', start='2020-07-21',end='2020-12-12')\r\n",
        "apple_stock.head()"
      ],
      "execution_count": null,
      "outputs": [
        {
          "output_type": "execute_result",
          "data": {
            "text/html": [
              "<div>\n",
              "<style scoped>\n",
              "    .dataframe tbody tr th:only-of-type {\n",
              "        vertical-align: middle;\n",
              "    }\n",
              "\n",
              "    .dataframe tbody tr th {\n",
              "        vertical-align: top;\n",
              "    }\n",
              "\n",
              "    .dataframe thead th {\n",
              "        text-align: right;\n",
              "    }\n",
              "</style>\n",
              "<table border=\"1\" class=\"dataframe\">\n",
              "  <thead>\n",
              "    <tr style=\"text-align: right;\">\n",
              "      <th></th>\n",
              "      <th>High</th>\n",
              "      <th>Low</th>\n",
              "      <th>Open</th>\n",
              "      <th>Close</th>\n",
              "      <th>Volume</th>\n",
              "      <th>Adj Close</th>\n",
              "    </tr>\n",
              "    <tr>\n",
              "      <th>Date</th>\n",
              "      <th></th>\n",
              "      <th></th>\n",
              "      <th></th>\n",
              "      <th></th>\n",
              "      <th></th>\n",
              "      <th></th>\n",
              "    </tr>\n",
              "  </thead>\n",
              "  <tbody>\n",
              "    <tr>\n",
              "      <th>2020-07-21</th>\n",
              "      <td>99.250000</td>\n",
              "      <td>96.742500</td>\n",
              "      <td>99.172501</td>\n",
              "      <td>97.000000</td>\n",
              "      <td>103646000.0</td>\n",
              "      <td>96.658661</td>\n",
              "    </tr>\n",
              "    <tr>\n",
              "      <th>2020-07-22</th>\n",
              "      <td>97.974998</td>\n",
              "      <td>96.602501</td>\n",
              "      <td>96.692497</td>\n",
              "      <td>97.272499</td>\n",
              "      <td>89001600.0</td>\n",
              "      <td>96.930199</td>\n",
              "    </tr>\n",
              "    <tr>\n",
              "      <th>2020-07-23</th>\n",
              "      <td>97.077499</td>\n",
              "      <td>92.010002</td>\n",
              "      <td>96.997498</td>\n",
              "      <td>92.845001</td>\n",
              "      <td>197004400.0</td>\n",
              "      <td>92.518288</td>\n",
              "    </tr>\n",
              "    <tr>\n",
              "      <th>2020-07-24</th>\n",
              "      <td>92.970001</td>\n",
              "      <td>89.144997</td>\n",
              "      <td>90.987503</td>\n",
              "      <td>92.614998</td>\n",
              "      <td>185438800.0</td>\n",
              "      <td>92.289093</td>\n",
              "    </tr>\n",
              "    <tr>\n",
              "      <th>2020-07-27</th>\n",
              "      <td>94.904999</td>\n",
              "      <td>93.480003</td>\n",
              "      <td>93.709999</td>\n",
              "      <td>94.809998</td>\n",
              "      <td>121214000.0</td>\n",
              "      <td>94.476364</td>\n",
              "    </tr>\n",
              "  </tbody>\n",
              "</table>\n",
              "</div>"
            ],
            "text/plain": [
              "                 High        Low       Open      Close       Volume  Adj Close\n",
              "Date                                                                          \n",
              "2020-07-21  99.250000  96.742500  99.172501  97.000000  103646000.0  96.658661\n",
              "2020-07-22  97.974998  96.602501  96.692497  97.272499   89001600.0  96.930199\n",
              "2020-07-23  97.077499  92.010002  96.997498  92.845001  197004400.0  92.518288\n",
              "2020-07-24  92.970001  89.144997  90.987503  92.614998  185438800.0  92.289093\n",
              "2020-07-27  94.904999  93.480003  93.709999  94.809998  121214000.0  94.476364"
            ]
          },
          "metadata": {
            "tags": []
          },
          "execution_count": 23
        }
      ]
    },
    {
      "cell_type": "code",
      "metadata": {
        "id": "8fIIb3ZroVD1"
      },
      "source": [
        "apple_stock.to_csv(\"/content/drive/MyDrive/Data Science/Stock News Scraping & Analysis/datasets/apple_stocks.csv\", index=True)"
      ],
      "execution_count": null,
      "outputs": []
    },
    {
      "cell_type": "markdown",
      "metadata": {
        "id": "4Ul5BsFtyeGB"
      },
      "source": [
        "### Tesla"
      ]
    },
    {
      "cell_type": "code",
      "metadata": {
        "id": "5vD5WnHygdR_"
      },
      "source": [
        "tesla_df = scraper('tesla')"
      ],
      "execution_count": null,
      "outputs": []
    },
    {
      "cell_type": "code",
      "metadata": {
        "colab": {
          "base_uri": "https://localhost:8080/",
          "height": 202
        },
        "id": "-eC4pUTHgkNH",
        "outputId": "219d6ca8-c1b7-4403-a3d4-27ce20bd51cd"
      },
      "source": [
        "tesla_df.head()"
      ],
      "execution_count": null,
      "outputs": [
        {
          "output_type": "execute_result",
          "data": {
            "text/html": [
              "<div>\n",
              "<style scoped>\n",
              "    .dataframe tbody tr th:only-of-type {\n",
              "        vertical-align: middle;\n",
              "    }\n",
              "\n",
              "    .dataframe tbody tr th {\n",
              "        vertical-align: top;\n",
              "    }\n",
              "\n",
              "    .dataframe thead th {\n",
              "        text-align: right;\n",
              "    }\n",
              "</style>\n",
              "<table border=\"1\" class=\"dataframe\">\n",
              "  <thead>\n",
              "    <tr style=\"text-align: right;\">\n",
              "      <th></th>\n",
              "      <th>date</th>\n",
              "      <th>headline</th>\n",
              "      <th>summary</th>\n",
              "      <th>url</th>\n",
              "    </tr>\n",
              "  </thead>\n",
              "  <tbody>\n",
              "    <tr>\n",
              "      <th>0</th>\n",
              "      <td>13 Dec 2020</td>\n",
              "      <td>Are Tesla's shares worth US$90 or US$780? Wall...</td>\n",
              "      <td>[NEW YORK] For all the headline-making drama s...</td>\n",
              "      <td>https://www.businesstimes.com.sg/transport/are...</td>\n",
              "    </tr>\n",
              "    <tr>\n",
              "      <th>1</th>\n",
              "      <td>12 Dec 2020</td>\n",
              "      <td>Short sellers crushed in 2020 as Tesla, Modern...</td>\n",
              "      <td>SHORT sellers won some high-profile victories ...</td>\n",
              "      <td>https://www.businesstimes.com.sg/wealth-invest...</td>\n",
              "    </tr>\n",
              "    <tr>\n",
              "      <th>2</th>\n",
              "      <td>09 Dec 2020</td>\n",
              "      <td>No model for sale here, but India's small inve...</td>\n",
              "      <td>[MUMBAI] Mom-and-pop Indian investors increasi...</td>\n",
              "      <td>https://www.businesstimes.com.sg/stocks/no-mod...</td>\n",
              "    </tr>\n",
              "    <tr>\n",
              "      <th>3</th>\n",
              "      <td>08 Dec 2020</td>\n",
              "      <td>Tesla raising up to US$5b in third share sale ...</td>\n",
              "      <td>[SAN CARLOS] Tesla is taking advantage of its ...</td>\n",
              "      <td>https://www.businesstimes.com.sg/transport/tes...</td>\n",
              "    </tr>\n",
              "    <tr>\n",
              "      <th>4</th>\n",
              "      <td>04 Dec 2020</td>\n",
              "      <td>Tesla skeptic regrets betting against Musk: re...</td>\n",
              "      <td>[NEW YORK] Prominent investor Jim Chanos ackno...</td>\n",
              "      <td>https://www.businesstimes.com.sg/transport/tes...</td>\n",
              "    </tr>\n",
              "  </tbody>\n",
              "</table>\n",
              "</div>"
            ],
            "text/plain": [
              "          date  ...                                                url\n",
              "0  13 Dec 2020  ...  https://www.businesstimes.com.sg/transport/are...\n",
              "1  12 Dec 2020  ...  https://www.businesstimes.com.sg/wealth-invest...\n",
              "2  09 Dec 2020  ...  https://www.businesstimes.com.sg/stocks/no-mod...\n",
              "3  08 Dec 2020  ...  https://www.businesstimes.com.sg/transport/tes...\n",
              "4  04 Dec 2020  ...  https://www.businesstimes.com.sg/transport/tes...\n",
              "\n",
              "[5 rows x 4 columns]"
            ]
          },
          "metadata": {
            "tags": []
          },
          "execution_count": 26
        }
      ]
    },
    {
      "cell_type": "code",
      "metadata": {
        "colab": {
          "base_uri": "https://localhost:8080/",
          "height": 202
        },
        "id": "0NeAsU8Sglvo",
        "outputId": "48f91fe0-1504-4912-d68a-0aa0743a46e1"
      },
      "source": [
        "tesla_df.tail()"
      ],
      "execution_count": null,
      "outputs": [
        {
          "output_type": "execute_result",
          "data": {
            "text/html": [
              "<div>\n",
              "<style scoped>\n",
              "    .dataframe tbody tr th:only-of-type {\n",
              "        vertical-align: middle;\n",
              "    }\n",
              "\n",
              "    .dataframe tbody tr th {\n",
              "        vertical-align: top;\n",
              "    }\n",
              "\n",
              "    .dataframe thead th {\n",
              "        text-align: right;\n",
              "    }\n",
              "</style>\n",
              "<table border=\"1\" class=\"dataframe\">\n",
              "  <thead>\n",
              "    <tr style=\"text-align: right;\">\n",
              "      <th></th>\n",
              "      <th>date</th>\n",
              "      <th>headline</th>\n",
              "      <th>summary</th>\n",
              "      <th>url</th>\n",
              "    </tr>\n",
              "  </thead>\n",
              "  <tbody>\n",
              "    <tr>\n",
              "      <th>95</th>\n",
              "      <td>25 Feb 2020</td>\n",
              "      <td>Tesla rival sets out to banish 160-year-old le...</td>\n",
              "      <td>YOUR sleek new Tesla Model S or electronic BMW...</td>\n",
              "      <td>https://www.businesstimes.com.sg/transport/tes...</td>\n",
              "    </tr>\n",
              "    <tr>\n",
              "      <th>96</th>\n",
              "      <td>21 Feb 2020</td>\n",
              "      <td>Tesla gets court approval to clear forest for ...</td>\n",
              "      <td>[BERLIN] Tesla Inc got approval from a German ...</td>\n",
              "      <td>https://www.businesstimes.com.sg/transport/tes...</td>\n",
              "    </tr>\n",
              "    <tr>\n",
              "      <th>97</th>\n",
              "      <td>17 Feb 2020</td>\n",
              "      <td>Big run in Tesla a warning for dull Singapore ...</td>\n",
              "      <td>AFTER hearing about all the money that some of...</td>\n",
              "      <td>https://www.businesstimes.com.sg/companies-mar...</td>\n",
              "    </tr>\n",
              "    <tr>\n",
              "      <th>98</th>\n",
              "      <td>14 Feb 2020</td>\n",
              "      <td>Tesla shifts gears with plans to issue more sh...</td>\n",
              "      <td>[SAN FRANCISCO] Tesla shifted gears on Thursda...</td>\n",
              "      <td>https://www.businesstimes.com.sg/transport/tes...</td>\n",
              "    </tr>\n",
              "    <tr>\n",
              "      <th>99</th>\n",
              "      <td>07 Feb 2020</td>\n",
              "      <td>Europe pushes on with gigafactory plan to riva...</td>\n",
              "      <td>[BERLIN] Germany and France set out a blueprin...</td>\n",
              "      <td>https://www.businesstimes.com.sg/transport/eur...</td>\n",
              "    </tr>\n",
              "  </tbody>\n",
              "</table>\n",
              "</div>"
            ],
            "text/plain": [
              "           date  ...                                                url\n",
              "95  25 Feb 2020  ...  https://www.businesstimes.com.sg/transport/tes...\n",
              "96  21 Feb 2020  ...  https://www.businesstimes.com.sg/transport/tes...\n",
              "97  17 Feb 2020  ...  https://www.businesstimes.com.sg/companies-mar...\n",
              "98  14 Feb 2020  ...  https://www.businesstimes.com.sg/transport/tes...\n",
              "99  07 Feb 2020  ...  https://www.businesstimes.com.sg/transport/eur...\n",
              "\n",
              "[5 rows x 4 columns]"
            ]
          },
          "metadata": {
            "tags": []
          },
          "execution_count": 27
        }
      ]
    },
    {
      "cell_type": "code",
      "metadata": {
        "colab": {
          "base_uri": "https://localhost:8080/"
        },
        "id": "c3324lUMgnQX",
        "outputId": "de18a9e1-03c2-46f5-c6e8-93d1692f28de"
      },
      "source": [
        "tesla_df.shape"
      ],
      "execution_count": null,
      "outputs": [
        {
          "output_type": "execute_result",
          "data": {
            "text/plain": [
              "(100, 4)"
            ]
          },
          "metadata": {
            "tags": []
          },
          "execution_count": 28
        }
      ]
    },
    {
      "cell_type": "code",
      "metadata": {
        "id": "9nJGDN3nmX1y"
      },
      "source": [
        "tesla_df.to_csv(\"/content/drive/MyDrive/Data Science/Stock News Scraping & Analysis/datasets/tesla_news.csv\", index=True)"
      ],
      "execution_count": null,
      "outputs": []
    },
    {
      "cell_type": "code",
      "metadata": {
        "colab": {
          "base_uri": "https://localhost:8080/",
          "height": 233
        },
        "id": "OUrxjHdnogIa",
        "outputId": "1b5622cf-a1c6-4974-c73a-eff332d406c6"
      },
      "source": [
        "tesla_stock = web.DataReader('TSLA', data_source='yahoo', start='2020-02-07',end='2020-12-12')\r\n",
        "tesla_stock.head()"
      ],
      "execution_count": null,
      "outputs": [
        {
          "output_type": "execute_result",
          "data": {
            "text/html": [
              "<div>\n",
              "<style scoped>\n",
              "    .dataframe tbody tr th:only-of-type {\n",
              "        vertical-align: middle;\n",
              "    }\n",
              "\n",
              "    .dataframe tbody tr th {\n",
              "        vertical-align: top;\n",
              "    }\n",
              "\n",
              "    .dataframe thead th {\n",
              "        text-align: right;\n",
              "    }\n",
              "</style>\n",
              "<table border=\"1\" class=\"dataframe\">\n",
              "  <thead>\n",
              "    <tr style=\"text-align: right;\">\n",
              "      <th></th>\n",
              "      <th>High</th>\n",
              "      <th>Low</th>\n",
              "      <th>Open</th>\n",
              "      <th>Close</th>\n",
              "      <th>Volume</th>\n",
              "      <th>Adj Close</th>\n",
              "    </tr>\n",
              "    <tr>\n",
              "      <th>Date</th>\n",
              "      <th></th>\n",
              "      <th></th>\n",
              "      <th></th>\n",
              "      <th></th>\n",
              "      <th></th>\n",
              "      <th></th>\n",
              "    </tr>\n",
              "  </thead>\n",
              "  <tbody>\n",
              "    <tr>\n",
              "      <th>2020-02-07</th>\n",
              "      <td>153.949997</td>\n",
              "      <td>146.000000</td>\n",
              "      <td>146.110001</td>\n",
              "      <td>149.613998</td>\n",
              "      <td>85317500.0</td>\n",
              "      <td>149.613998</td>\n",
              "    </tr>\n",
              "    <tr>\n",
              "      <th>2020-02-10</th>\n",
              "      <td>163.998001</td>\n",
              "      <td>150.479996</td>\n",
              "      <td>160.000000</td>\n",
              "      <td>154.255997</td>\n",
              "      <td>123446000.0</td>\n",
              "      <td>154.255997</td>\n",
              "    </tr>\n",
              "    <tr>\n",
              "      <th>2020-02-11</th>\n",
              "      <td>156.701996</td>\n",
              "      <td>151.600006</td>\n",
              "      <td>153.757996</td>\n",
              "      <td>154.876007</td>\n",
              "      <td>58487500.0</td>\n",
              "      <td>154.876007</td>\n",
              "    </tr>\n",
              "    <tr>\n",
              "      <th>2020-02-12</th>\n",
              "      <td>157.949997</td>\n",
              "      <td>152.673996</td>\n",
              "      <td>155.574005</td>\n",
              "      <td>153.457993</td>\n",
              "      <td>60112500.0</td>\n",
              "      <td>153.457993</td>\n",
              "    </tr>\n",
              "    <tr>\n",
              "      <th>2020-02-13</th>\n",
              "      <td>163.600006</td>\n",
              "      <td>147.000000</td>\n",
              "      <td>148.367996</td>\n",
              "      <td>160.800003</td>\n",
              "      <td>131446500.0</td>\n",
              "      <td>160.800003</td>\n",
              "    </tr>\n",
              "  </tbody>\n",
              "</table>\n",
              "</div>"
            ],
            "text/plain": [
              "                  High         Low  ...       Volume   Adj Close\n",
              "Date                                ...                         \n",
              "2020-02-07  153.949997  146.000000  ...   85317500.0  149.613998\n",
              "2020-02-10  163.998001  150.479996  ...  123446000.0  154.255997\n",
              "2020-02-11  156.701996  151.600006  ...   58487500.0  154.876007\n",
              "2020-02-12  157.949997  152.673996  ...   60112500.0  153.457993\n",
              "2020-02-13  163.600006  147.000000  ...  131446500.0  160.800003\n",
              "\n",
              "[5 rows x 6 columns]"
            ]
          },
          "metadata": {
            "tags": []
          },
          "execution_count": 30
        }
      ]
    },
    {
      "cell_type": "code",
      "metadata": {
        "id": "sWaPEaKwoghD"
      },
      "source": [
        "tesla_stock.to_csv(\"/content/drive/MyDrive/Data Science/Stock News Scraping & Analysis/datasets/tesla_stocks.csv\", index=True)"
      ],
      "execution_count": null,
      "outputs": []
    },
    {
      "cell_type": "markdown",
      "metadata": {
        "id": "SiCnDdCxyhT-"
      },
      "source": [
        "### Netflix"
      ]
    },
    {
      "cell_type": "code",
      "metadata": {
        "id": "CBA-I1IngpCH"
      },
      "source": [
        "netflix_df = scraper('netflix')"
      ],
      "execution_count": null,
      "outputs": []
    },
    {
      "cell_type": "code",
      "metadata": {
        "colab": {
          "base_uri": "https://localhost:8080/",
          "height": 202
        },
        "id": "6pvVY9d3hBEP",
        "outputId": "bdf7259c-48ef-4564-929b-62cdea42c37a"
      },
      "source": [
        "netflix_df.head()"
      ],
      "execution_count": null,
      "outputs": [
        {
          "output_type": "execute_result",
          "data": {
            "text/html": [
              "<div>\n",
              "<style scoped>\n",
              "    .dataframe tbody tr th:only-of-type {\n",
              "        vertical-align: middle;\n",
              "    }\n",
              "\n",
              "    .dataframe tbody tr th {\n",
              "        vertical-align: top;\n",
              "    }\n",
              "\n",
              "    .dataframe thead th {\n",
              "        text-align: right;\n",
              "    }\n",
              "</style>\n",
              "<table border=\"1\" class=\"dataframe\">\n",
              "  <thead>\n",
              "    <tr style=\"text-align: right;\">\n",
              "      <th></th>\n",
              "      <th>date</th>\n",
              "      <th>headline</th>\n",
              "      <th>summary</th>\n",
              "      <th>url</th>\n",
              "    </tr>\n",
              "  </thead>\n",
              "  <tbody>\n",
              "    <tr>\n",
              "      <th>0</th>\n",
              "      <td>09 Dec 2020</td>\n",
              "      <td>Viacom poised to win suit over Netflix talent ...</td>\n",
              "      <td>[LOS ANGELES] A ViacomCBS unit is poised to wi...</td>\n",
              "      <td>https://www.businesstimes.com.sg/consumer/viac...</td>\n",
              "    </tr>\n",
              "    <tr>\n",
              "      <th>1</th>\n",
              "      <td>04 Dec 2020</td>\n",
              "      <td>Netflix hit 'The Crown' blasted for anti-Charl...</td>\n",
              "      <td>[LONDON] The fourth season of Netflix hit The ...</td>\n",
              "      <td>https://www.businesstimes.com.sg/life-culture/...</td>\n",
              "    </tr>\n",
              "    <tr>\n",
              "      <th>2</th>\n",
              "      <td>03 Dec 2020</td>\n",
              "      <td>Netflix plans to double its spending on origin...</td>\n",
              "      <td>NETFLIX Inc is planning to double its spending...</td>\n",
              "      <td>https://www.businesstimes.com.sg/consumer/netf...</td>\n",
              "    </tr>\n",
              "    <tr>\n",
              "      <th>3</th>\n",
              "      <td>03 Nov 2020</td>\n",
              "      <td>Will Mank be Netflix's first Best Picture winner?</td>\n",
              "      <td>CITIZEN Kane has cast a vast cinematic shadow ...</td>\n",
              "      <td>https://www.businesstimes.com.sg/life-culture/...</td>\n",
              "    </tr>\n",
              "    <tr>\n",
              "      <th>4</th>\n",
              "      <td>24 Oct 2020</td>\n",
              "      <td>Apple and Netflix discussed acquiring 'Bond' m...</td>\n",
              "      <td>[LOS ANGELES] Metro-Goldwyn-Mayer held discuss...</td>\n",
              "      <td>https://www.businesstimes.com.sg/technology/ap...</td>\n",
              "    </tr>\n",
              "  </tbody>\n",
              "</table>\n",
              "</div>"
            ],
            "text/plain": [
              "          date  ...                                                url\n",
              "0  09 Dec 2020  ...  https://www.businesstimes.com.sg/consumer/viac...\n",
              "1  04 Dec 2020  ...  https://www.businesstimes.com.sg/life-culture/...\n",
              "2  03 Dec 2020  ...  https://www.businesstimes.com.sg/consumer/netf...\n",
              "3  03 Nov 2020  ...  https://www.businesstimes.com.sg/life-culture/...\n",
              "4  24 Oct 2020  ...  https://www.businesstimes.com.sg/technology/ap...\n",
              "\n",
              "[5 rows x 4 columns]"
            ]
          },
          "metadata": {
            "tags": []
          },
          "execution_count": 33
        }
      ]
    },
    {
      "cell_type": "code",
      "metadata": {
        "colab": {
          "base_uri": "https://localhost:8080/",
          "height": 202
        },
        "id": "cjm612GihE9P",
        "outputId": "82da62ce-13b0-4540-9944-eea0b8e7fbb0"
      },
      "source": [
        "netflix_df.tail()"
      ],
      "execution_count": null,
      "outputs": [
        {
          "output_type": "execute_result",
          "data": {
            "text/html": [
              "<div>\n",
              "<style scoped>\n",
              "    .dataframe tbody tr th:only-of-type {\n",
              "        vertical-align: middle;\n",
              "    }\n",
              "\n",
              "    .dataframe tbody tr th {\n",
              "        vertical-align: top;\n",
              "    }\n",
              "\n",
              "    .dataframe thead th {\n",
              "        text-align: right;\n",
              "    }\n",
              "</style>\n",
              "<table border=\"1\" class=\"dataframe\">\n",
              "  <thead>\n",
              "    <tr style=\"text-align: right;\">\n",
              "      <th></th>\n",
              "      <th>date</th>\n",
              "      <th>headline</th>\n",
              "      <th>summary</th>\n",
              "      <th>url</th>\n",
              "    </tr>\n",
              "  </thead>\n",
              "  <tbody>\n",
              "    <tr>\n",
              "      <th>95</th>\n",
              "      <td>19 Oct 2018</td>\n",
              "      <td>Netflix takes cash-fuelled road to streaming d...</td>\n",
              "      <td>HERE are some notable numbers from Netflix:</td>\n",
              "      <td>https://www.businesstimes.com.sg/consumer/netf...</td>\n",
              "    </tr>\n",
              "    <tr>\n",
              "      <th>96</th>\n",
              "      <td>18 Oct 2018</td>\n",
              "      <td>Netflix's subscriber gains dazzle in Q3</td>\n",
              "      <td>NETFLIX INC analysts predict further growth ne...</td>\n",
              "      <td>https://www.businesstimes.com.sg/technology/ne...</td>\n",
              "    </tr>\n",
              "    <tr>\n",
              "      <th>97</th>\n",
              "      <td>17 Oct 2018</td>\n",
              "      <td>Netflix crushes estimates with record quarter,...</td>\n",
              "      <td>[LOS ANGELES] Netflix's Cinderella story isn't...</td>\n",
              "      <td>https://www.businesstimes.com.sg/consumer/netf...</td>\n",
              "    </tr>\n",
              "    <tr>\n",
              "      <th>98</th>\n",
              "      <td>17 Oct 2018</td>\n",
              "      <td>Netflix surges on user gains, strong profits</td>\n",
              "      <td>[SAN FRANCISCO] Netflix reported on Tuesday a ...</td>\n",
              "      <td>https://www.businesstimes.com.sg/consumer/netf...</td>\n",
              "    </tr>\n",
              "    <tr>\n",
              "      <th>99</th>\n",
              "      <td>16 Oct 2018</td>\n",
              "      <td>Bond bears see gains in shorting Netflix debt</td>\n",
              "      <td>IN MARCH, noted shortseller Andrew Left took a...</td>\n",
              "      <td>https://www.businesstimes.com.sg/companies-mar...</td>\n",
              "    </tr>\n",
              "  </tbody>\n",
              "</table>\n",
              "</div>"
            ],
            "text/plain": [
              "           date  ...                                                url\n",
              "95  19 Oct 2018  ...  https://www.businesstimes.com.sg/consumer/netf...\n",
              "96  18 Oct 2018  ...  https://www.businesstimes.com.sg/technology/ne...\n",
              "97  17 Oct 2018  ...  https://www.businesstimes.com.sg/consumer/netf...\n",
              "98  17 Oct 2018  ...  https://www.businesstimes.com.sg/consumer/netf...\n",
              "99  16 Oct 2018  ...  https://www.businesstimes.com.sg/companies-mar...\n",
              "\n",
              "[5 rows x 4 columns]"
            ]
          },
          "metadata": {
            "tags": []
          },
          "execution_count": 34
        }
      ]
    },
    {
      "cell_type": "code",
      "metadata": {
        "colab": {
          "base_uri": "https://localhost:8080/"
        },
        "id": "RSwvxTuQhG-3",
        "outputId": "98902fde-0a06-4926-81c2-5b5bb7c115af"
      },
      "source": [
        "netflix_df.shape"
      ],
      "execution_count": null,
      "outputs": [
        {
          "output_type": "execute_result",
          "data": {
            "text/plain": [
              "(100, 4)"
            ]
          },
          "metadata": {
            "tags": []
          },
          "execution_count": 35
        }
      ]
    },
    {
      "cell_type": "code",
      "metadata": {
        "id": "b3xkA8uQhJN_"
      },
      "source": [
        "netflix_df.to_csv(\"/content/drive/MyDrive/Data Science/Stock News Scraping & Analysis/datasets/netflix_news.csv\", index=True)"
      ],
      "execution_count": null,
      "outputs": []
    },
    {
      "cell_type": "code",
      "metadata": {
        "colab": {
          "base_uri": "https://localhost:8080/",
          "height": 233
        },
        "id": "sf643EWHmf42",
        "outputId": "f2ebc7b6-2db6-48ab-affc-fbfc06344265"
      },
      "source": [
        "netflix_stock = web.DataReader('NFLX', data_source='yahoo', start='2018-10-16',end='2020-12-10')\r\n",
        "netflix_stock.head()"
      ],
      "execution_count": null,
      "outputs": [
        {
          "output_type": "execute_result",
          "data": {
            "text/html": [
              "<div>\n",
              "<style scoped>\n",
              "    .dataframe tbody tr th:only-of-type {\n",
              "        vertical-align: middle;\n",
              "    }\n",
              "\n",
              "    .dataframe tbody tr th {\n",
              "        vertical-align: top;\n",
              "    }\n",
              "\n",
              "    .dataframe thead th {\n",
              "        text-align: right;\n",
              "    }\n",
              "</style>\n",
              "<table border=\"1\" class=\"dataframe\">\n",
              "  <thead>\n",
              "    <tr style=\"text-align: right;\">\n",
              "      <th></th>\n",
              "      <th>High</th>\n",
              "      <th>Low</th>\n",
              "      <th>Open</th>\n",
              "      <th>Close</th>\n",
              "      <th>Volume</th>\n",
              "      <th>Adj Close</th>\n",
              "    </tr>\n",
              "    <tr>\n",
              "      <th>Date</th>\n",
              "      <th></th>\n",
              "      <th></th>\n",
              "      <th></th>\n",
              "      <th></th>\n",
              "      <th></th>\n",
              "      <th></th>\n",
              "    </tr>\n",
              "  </thead>\n",
              "  <tbody>\n",
              "    <tr>\n",
              "      <th>2018-10-16</th>\n",
              "      <td>347.950012</td>\n",
              "      <td>330.559998</td>\n",
              "      <td>337.239990</td>\n",
              "      <td>346.399994</td>\n",
              "      <td>20156400</td>\n",
              "      <td>346.399994</td>\n",
              "    </tr>\n",
              "    <tr>\n",
              "      <th>2018-10-17</th>\n",
              "      <td>380.000000</td>\n",
              "      <td>356.500000</td>\n",
              "      <td>378.329987</td>\n",
              "      <td>364.700012</td>\n",
              "      <td>32610900</td>\n",
              "      <td>364.700012</td>\n",
              "    </tr>\n",
              "    <tr>\n",
              "      <th>2018-10-18</th>\n",
              "      <td>362.200012</td>\n",
              "      <td>346.049988</td>\n",
              "      <td>360.670013</td>\n",
              "      <td>346.709991</td>\n",
              "      <td>18461000</td>\n",
              "      <td>346.709991</td>\n",
              "    </tr>\n",
              "    <tr>\n",
              "      <th>2018-10-19</th>\n",
              "      <td>355.799988</td>\n",
              "      <td>332.200012</td>\n",
              "      <td>351.000000</td>\n",
              "      <td>332.670013</td>\n",
              "      <td>16717200</td>\n",
              "      <td>332.670013</td>\n",
              "    </tr>\n",
              "    <tr>\n",
              "      <th>2018-10-22</th>\n",
              "      <td>335.799988</td>\n",
              "      <td>320.339996</td>\n",
              "      <td>333.100006</td>\n",
              "      <td>329.540009</td>\n",
              "      <td>17097200</td>\n",
              "      <td>329.540009</td>\n",
              "    </tr>\n",
              "  </tbody>\n",
              "</table>\n",
              "</div>"
            ],
            "text/plain": [
              "                  High         Low  ...    Volume   Adj Close\n",
              "Date                                ...                      \n",
              "2018-10-16  347.950012  330.559998  ...  20156400  346.399994\n",
              "2018-10-17  380.000000  356.500000  ...  32610900  364.700012\n",
              "2018-10-18  362.200012  346.049988  ...  18461000  346.709991\n",
              "2018-10-19  355.799988  332.200012  ...  16717200  332.670013\n",
              "2018-10-22  335.799988  320.339996  ...  17097200  329.540009\n",
              "\n",
              "[5 rows x 6 columns]"
            ]
          },
          "metadata": {
            "tags": []
          },
          "execution_count": 37
        }
      ]
    },
    {
      "cell_type": "code",
      "metadata": {
        "id": "B0ZM-yycpGwn"
      },
      "source": [
        "netflix_stock.to_csv(\"/content/drive/MyDrive/Data Science/Stock News Scraping & Analysis/datasets/netflix_stocks.csv\", index=True)"
      ],
      "execution_count": null,
      "outputs": []
    },
    {
      "cell_type": "markdown",
      "metadata": {
        "id": "SkFnxiTLzQWC"
      },
      "source": [
        "## Analysis"
      ]
    },
    {
      "cell_type": "code",
      "metadata": {
        "id": "PzIEuvauzVxd"
      },
      "source": [
        "def text_cleaner(text):\r\n",
        "    \"\"\"\r\n",
        "    Takes in a string of text, then performs the following:\r\n",
        "    1. Makes the text lowercase\r\n",
        "    2. Remove all punctuation\r\n",
        "    3. Remove all stopwords\r\n",
        "    4. Return the cleaned text\r\n",
        "    \"\"\"\r\n",
        "    # let's make text lowercase\r\n",
        "    text = text.lower()\r\n",
        "\r\n",
        "    # Check characters to see if they are in punctuation\r\n",
        "    nopunc = [char for char in text if char not in string.punctuation]\r\n",
        "\r\n",
        "    # Join the characters again to form the string.\r\n",
        "    nopunc = ''.join(nopunc)\r\n",
        "\r\n",
        "   \r\n",
        "    # Now just remove any stopwords\r\n",
        "    text = [word for word in nopunc.split() if word.lower() not in stop_words]\r\n",
        "    text = \" \".join(text)\r\n",
        "    return text"
      ],
      "execution_count": null,
      "outputs": []
    },
    {
      "cell_type": "markdown",
      "metadata": {
        "id": "I1b4YZAu-CYI"
      },
      "source": [
        "### Facebook "
      ]
    },
    {
      "cell_type": "markdown",
      "metadata": {
        "id": "HOYdS9MXCAxA"
      },
      "source": [
        "#### Pre-processing and Data Preparation"
      ]
    },
    {
      "cell_type": "code",
      "metadata": {
        "colab": {
          "base_uri": "https://localhost:8080/",
          "height": 202
        },
        "id": "3V6h1XoX6NAi",
        "outputId": "39e4202c-922b-471a-dcd9-54899e2136b1"
      },
      "source": [
        "fb_df.head()"
      ],
      "execution_count": null,
      "outputs": [
        {
          "output_type": "execute_result",
          "data": {
            "text/html": [
              "<div>\n",
              "<style scoped>\n",
              "    .dataframe tbody tr th:only-of-type {\n",
              "        vertical-align: middle;\n",
              "    }\n",
              "\n",
              "    .dataframe tbody tr th {\n",
              "        vertical-align: top;\n",
              "    }\n",
              "\n",
              "    .dataframe thead th {\n",
              "        text-align: right;\n",
              "    }\n",
              "</style>\n",
              "<table border=\"1\" class=\"dataframe\">\n",
              "  <thead>\n",
              "    <tr style=\"text-align: right;\">\n",
              "      <th></th>\n",
              "      <th>date</th>\n",
              "      <th>headline</th>\n",
              "      <th>summary</th>\n",
              "      <th>url</th>\n",
              "    </tr>\n",
              "  </thead>\n",
              "  <tbody>\n",
              "    <tr>\n",
              "      <th>0</th>\n",
              "      <td>12 Dec 2020</td>\n",
              "      <td>Yes, Facebook has become a menace</td>\n",
              "      <td>IT'S about time, even if it's been a very long...</td>\n",
              "      <td>https://www.businesstimes.com.sg/opinion/yes-f...</td>\n",
              "    </tr>\n",
              "    <tr>\n",
              "      <th>1</th>\n",
              "      <td>10 Dec 2020</td>\n",
              "      <td>US crackdown on Facebook gets thumbs up from E...</td>\n",
              "      <td>[BRUSSELS] Margrethe Vestager, the European Un...</td>\n",
              "      <td>https://www.businesstimes.com.sg/technology/us...</td>\n",
              "    </tr>\n",
              "    <tr>\n",
              "      <th>2</th>\n",
              "      <td>10 Dec 2020</td>\n",
              "      <td>Facebook antitrust suits seek to divest Instag...</td>\n",
              "      <td>[WASHINGTON] US federal and state antitrust en...</td>\n",
              "      <td>https://www.businesstimes.com.sg/technology/fa...</td>\n",
              "    </tr>\n",
              "    <tr>\n",
              "      <th>3</th>\n",
              "      <td>10 Dec 2020</td>\n",
              "      <td>Google, Facebook win concession in law to pay ...</td>\n",
              "      <td>GOOGLE and Facebook Inc won a key concession i...</td>\n",
              "      <td>https://www.businesstimes.com.sg/consumer/goog...</td>\n",
              "    </tr>\n",
              "    <tr>\n",
              "      <th>4</th>\n",
              "      <td>09 Dec 2020</td>\n",
              "      <td>Google, Facebook win key concession in law to ...</td>\n",
              "      <td>[SYDNEY] Google and Facebook won a key concess...</td>\n",
              "      <td>https://www.businesstimes.com.sg/consumer/goog...</td>\n",
              "    </tr>\n",
              "  </tbody>\n",
              "</table>\n",
              "</div>"
            ],
            "text/plain": [
              "          date  ...                                                url\n",
              "0  12 Dec 2020  ...  https://www.businesstimes.com.sg/opinion/yes-f...\n",
              "1  10 Dec 2020  ...  https://www.businesstimes.com.sg/technology/us...\n",
              "2  10 Dec 2020  ...  https://www.businesstimes.com.sg/technology/fa...\n",
              "3  10 Dec 2020  ...  https://www.businesstimes.com.sg/consumer/goog...\n",
              "4  09 Dec 2020  ...  https://www.businesstimes.com.sg/consumer/goog...\n",
              "\n",
              "[5 rows x 4 columns]"
            ]
          },
          "metadata": {
            "tags": []
          },
          "execution_count": 74
        }
      ]
    },
    {
      "cell_type": "code",
      "metadata": {
        "colab": {
          "base_uri": "https://localhost:8080/",
          "height": 202
        },
        "id": "Uav2XAe9-Kuq",
        "outputId": "0a786524-ee00-4ed3-c758-8dd9a7a71e19"
      },
      "source": [
        "fb_df['combined'] = fb_df['headline'] + ' ' + fb_df['summary']\r\n",
        "fb_df.head()"
      ],
      "execution_count": null,
      "outputs": [
        {
          "output_type": "execute_result",
          "data": {
            "text/html": [
              "<div>\n",
              "<style scoped>\n",
              "    .dataframe tbody tr th:only-of-type {\n",
              "        vertical-align: middle;\n",
              "    }\n",
              "\n",
              "    .dataframe tbody tr th {\n",
              "        vertical-align: top;\n",
              "    }\n",
              "\n",
              "    .dataframe thead th {\n",
              "        text-align: right;\n",
              "    }\n",
              "</style>\n",
              "<table border=\"1\" class=\"dataframe\">\n",
              "  <thead>\n",
              "    <tr style=\"text-align: right;\">\n",
              "      <th></th>\n",
              "      <th>date</th>\n",
              "      <th>headline</th>\n",
              "      <th>summary</th>\n",
              "      <th>url</th>\n",
              "      <th>combined</th>\n",
              "    </tr>\n",
              "  </thead>\n",
              "  <tbody>\n",
              "    <tr>\n",
              "      <th>0</th>\n",
              "      <td>12 Dec 2020</td>\n",
              "      <td>Yes, Facebook has become a menace</td>\n",
              "      <td>IT'S about time, even if it's been a very long...</td>\n",
              "      <td>https://www.businesstimes.com.sg/opinion/yes-f...</td>\n",
              "      <td>Yes, Facebook has become a menace IT'S about t...</td>\n",
              "    </tr>\n",
              "    <tr>\n",
              "      <th>1</th>\n",
              "      <td>10 Dec 2020</td>\n",
              "      <td>US crackdown on Facebook gets thumbs up from E...</td>\n",
              "      <td>[BRUSSELS] Margrethe Vestager, the European Un...</td>\n",
              "      <td>https://www.businesstimes.com.sg/technology/us...</td>\n",
              "      <td>US crackdown on Facebook gets thumbs up from E...</td>\n",
              "    </tr>\n",
              "    <tr>\n",
              "      <th>2</th>\n",
              "      <td>10 Dec 2020</td>\n",
              "      <td>Facebook antitrust suits seek to divest Instag...</td>\n",
              "      <td>[WASHINGTON] US federal and state antitrust en...</td>\n",
              "      <td>https://www.businesstimes.com.sg/technology/fa...</td>\n",
              "      <td>Facebook antitrust suits seek to divest Instag...</td>\n",
              "    </tr>\n",
              "    <tr>\n",
              "      <th>3</th>\n",
              "      <td>10 Dec 2020</td>\n",
              "      <td>Google, Facebook win concession in law to pay ...</td>\n",
              "      <td>GOOGLE and Facebook Inc won a key concession i...</td>\n",
              "      <td>https://www.businesstimes.com.sg/consumer/goog...</td>\n",
              "      <td>Google, Facebook win concession in law to pay ...</td>\n",
              "    </tr>\n",
              "    <tr>\n",
              "      <th>4</th>\n",
              "      <td>09 Dec 2020</td>\n",
              "      <td>Google, Facebook win key concession in law to ...</td>\n",
              "      <td>[SYDNEY] Google and Facebook won a key concess...</td>\n",
              "      <td>https://www.businesstimes.com.sg/consumer/goog...</td>\n",
              "      <td>Google, Facebook win key concession in law to ...</td>\n",
              "    </tr>\n",
              "  </tbody>\n",
              "</table>\n",
              "</div>"
            ],
            "text/plain": [
              "          date  ...                                           combined\n",
              "0  12 Dec 2020  ...  Yes, Facebook has become a menace IT'S about t...\n",
              "1  10 Dec 2020  ...  US crackdown on Facebook gets thumbs up from E...\n",
              "2  10 Dec 2020  ...  Facebook antitrust suits seek to divest Instag...\n",
              "3  10 Dec 2020  ...  Google, Facebook win concession in law to pay ...\n",
              "4  09 Dec 2020  ...  Google, Facebook win key concession in law to ...\n",
              "\n",
              "[5 rows x 5 columns]"
            ]
          },
          "metadata": {
            "tags": []
          },
          "execution_count": 75
        }
      ]
    },
    {
      "cell_type": "code",
      "metadata": {
        "colab": {
          "base_uri": "https://localhost:8080/",
          "height": 202
        },
        "id": "jMxVCW0z-nAD",
        "outputId": "5ff894aa-521c-4e8c-ed56-f77db6636e21"
      },
      "source": [
        "fb_df['date'] = pd.to_datetime(fb_df['date']).dt.date\r\n",
        "fb_df.head()"
      ],
      "execution_count": null,
      "outputs": [
        {
          "output_type": "execute_result",
          "data": {
            "text/html": [
              "<div>\n",
              "<style scoped>\n",
              "    .dataframe tbody tr th:only-of-type {\n",
              "        vertical-align: middle;\n",
              "    }\n",
              "\n",
              "    .dataframe tbody tr th {\n",
              "        vertical-align: top;\n",
              "    }\n",
              "\n",
              "    .dataframe thead th {\n",
              "        text-align: right;\n",
              "    }\n",
              "</style>\n",
              "<table border=\"1\" class=\"dataframe\">\n",
              "  <thead>\n",
              "    <tr style=\"text-align: right;\">\n",
              "      <th></th>\n",
              "      <th>date</th>\n",
              "      <th>headline</th>\n",
              "      <th>summary</th>\n",
              "      <th>url</th>\n",
              "      <th>combined</th>\n",
              "    </tr>\n",
              "  </thead>\n",
              "  <tbody>\n",
              "    <tr>\n",
              "      <th>0</th>\n",
              "      <td>2020-12-12</td>\n",
              "      <td>Yes, Facebook has become a menace</td>\n",
              "      <td>IT'S about time, even if it's been a very long...</td>\n",
              "      <td>https://www.businesstimes.com.sg/opinion/yes-f...</td>\n",
              "      <td>Yes, Facebook has become a menace IT'S about t...</td>\n",
              "    </tr>\n",
              "    <tr>\n",
              "      <th>1</th>\n",
              "      <td>2020-12-10</td>\n",
              "      <td>US crackdown on Facebook gets thumbs up from E...</td>\n",
              "      <td>[BRUSSELS] Margrethe Vestager, the European Un...</td>\n",
              "      <td>https://www.businesstimes.com.sg/technology/us...</td>\n",
              "      <td>US crackdown on Facebook gets thumbs up from E...</td>\n",
              "    </tr>\n",
              "    <tr>\n",
              "      <th>2</th>\n",
              "      <td>2020-12-10</td>\n",
              "      <td>Facebook antitrust suits seek to divest Instag...</td>\n",
              "      <td>[WASHINGTON] US federal and state antitrust en...</td>\n",
              "      <td>https://www.businesstimes.com.sg/technology/fa...</td>\n",
              "      <td>Facebook antitrust suits seek to divest Instag...</td>\n",
              "    </tr>\n",
              "    <tr>\n",
              "      <th>3</th>\n",
              "      <td>2020-12-10</td>\n",
              "      <td>Google, Facebook win concession in law to pay ...</td>\n",
              "      <td>GOOGLE and Facebook Inc won a key concession i...</td>\n",
              "      <td>https://www.businesstimes.com.sg/consumer/goog...</td>\n",
              "      <td>Google, Facebook win concession in law to pay ...</td>\n",
              "    </tr>\n",
              "    <tr>\n",
              "      <th>4</th>\n",
              "      <td>2020-12-09</td>\n",
              "      <td>Google, Facebook win key concession in law to ...</td>\n",
              "      <td>[SYDNEY] Google and Facebook won a key concess...</td>\n",
              "      <td>https://www.businesstimes.com.sg/consumer/goog...</td>\n",
              "      <td>Google, Facebook win key concession in law to ...</td>\n",
              "    </tr>\n",
              "  </tbody>\n",
              "</table>\n",
              "</div>"
            ],
            "text/plain": [
              "         date  ...                                           combined\n",
              "0  2020-12-12  ...  Yes, Facebook has become a menace IT'S about t...\n",
              "1  2020-12-10  ...  US crackdown on Facebook gets thumbs up from E...\n",
              "2  2020-12-10  ...  Facebook antitrust suits seek to divest Instag...\n",
              "3  2020-12-10  ...  Google, Facebook win concession in law to pay ...\n",
              "4  2020-12-09  ...  Google, Facebook win key concession in law to ...\n",
              "\n",
              "[5 rows x 5 columns]"
            ]
          },
          "metadata": {
            "tags": []
          },
          "execution_count": 81
        }
      ]
    },
    {
      "cell_type": "code",
      "metadata": {
        "colab": {
          "base_uri": "https://localhost:8080/",
          "height": 202
        },
        "id": "RM6OJp22_MQ_",
        "outputId": "5a6099e1-e7aa-4132-c77a-8ceeb8a1b8b3"
      },
      "source": [
        "fb_df['clean'] = fb_df['combined'].apply(text_cleaner)\r\n",
        "fb_df.head()"
      ],
      "execution_count": null,
      "outputs": [
        {
          "output_type": "execute_result",
          "data": {
            "text/html": [
              "<div>\n",
              "<style scoped>\n",
              "    .dataframe tbody tr th:only-of-type {\n",
              "        vertical-align: middle;\n",
              "    }\n",
              "\n",
              "    .dataframe tbody tr th {\n",
              "        vertical-align: top;\n",
              "    }\n",
              "\n",
              "    .dataframe thead th {\n",
              "        text-align: right;\n",
              "    }\n",
              "</style>\n",
              "<table border=\"1\" class=\"dataframe\">\n",
              "  <thead>\n",
              "    <tr style=\"text-align: right;\">\n",
              "      <th></th>\n",
              "      <th>date</th>\n",
              "      <th>headline</th>\n",
              "      <th>summary</th>\n",
              "      <th>url</th>\n",
              "      <th>combined</th>\n",
              "      <th>clean</th>\n",
              "    </tr>\n",
              "  </thead>\n",
              "  <tbody>\n",
              "    <tr>\n",
              "      <th>0</th>\n",
              "      <td>2020-12-12</td>\n",
              "      <td>Yes, Facebook has become a menace</td>\n",
              "      <td>IT'S about time, even if it's been a very long...</td>\n",
              "      <td>https://www.businesstimes.com.sg/opinion/yes-f...</td>\n",
              "      <td>Yes, Facebook has become a menace IT'S about t...</td>\n",
              "      <td>yes facebook become menace time even long 22 y...</td>\n",
              "    </tr>\n",
              "    <tr>\n",
              "      <th>1</th>\n",
              "      <td>2020-12-10</td>\n",
              "      <td>US crackdown on Facebook gets thumbs up from E...</td>\n",
              "      <td>[BRUSSELS] Margrethe Vestager, the European Un...</td>\n",
              "      <td>https://www.businesstimes.com.sg/technology/us...</td>\n",
              "      <td>US crackdown on Facebook gets thumbs up from E...</td>\n",
              "      <td>us crackdown facebook gets thumbs eus vestager...</td>\n",
              "    </tr>\n",
              "    <tr>\n",
              "      <th>2</th>\n",
              "      <td>2020-12-10</td>\n",
              "      <td>Facebook antitrust suits seek to divest Instag...</td>\n",
              "      <td>[WASHINGTON] US federal and state antitrust en...</td>\n",
              "      <td>https://www.businesstimes.com.sg/technology/fa...</td>\n",
              "      <td>Facebook antitrust suits seek to divest Instag...</td>\n",
              "      <td>facebook antitrust suits seek divest instagram...</td>\n",
              "    </tr>\n",
              "    <tr>\n",
              "      <th>3</th>\n",
              "      <td>2020-12-10</td>\n",
              "      <td>Google, Facebook win concession in law to pay ...</td>\n",
              "      <td>GOOGLE and Facebook Inc won a key concession i...</td>\n",
              "      <td>https://www.businesstimes.com.sg/consumer/goog...</td>\n",
              "      <td>Google, Facebook win concession in law to pay ...</td>\n",
              "      <td>google facebook win concession law pay news au...</td>\n",
              "    </tr>\n",
              "    <tr>\n",
              "      <th>4</th>\n",
              "      <td>2020-12-09</td>\n",
              "      <td>Google, Facebook win key concession in law to ...</td>\n",
              "      <td>[SYDNEY] Google and Facebook won a key concess...</td>\n",
              "      <td>https://www.businesstimes.com.sg/consumer/goog...</td>\n",
              "      <td>Google, Facebook win key concession in law to ...</td>\n",
              "      <td>google facebook win key concession law pay new...</td>\n",
              "    </tr>\n",
              "  </tbody>\n",
              "</table>\n",
              "</div>"
            ],
            "text/plain": [
              "         date  ...                                              clean\n",
              "0  2020-12-12  ...  yes facebook become menace time even long 22 y...\n",
              "1  2020-12-10  ...  us crackdown facebook gets thumbs eus vestager...\n",
              "2  2020-12-10  ...  facebook antitrust suits seek divest instagram...\n",
              "3  2020-12-10  ...  google facebook win concession law pay news au...\n",
              "4  2020-12-09  ...  google facebook win key concession law pay new...\n",
              "\n",
              "[5 rows x 6 columns]"
            ]
          },
          "metadata": {
            "tags": []
          },
          "execution_count": 82
        }
      ]
    },
    {
      "cell_type": "code",
      "metadata": {
        "colab": {
          "base_uri": "https://localhost:8080/",
          "height": 233
        },
        "id": "CGy8rWmurKZx",
        "outputId": "0ff0d7d0-0d70-4a31-c2a4-b89c077a98c4"
      },
      "source": [
        "fb_stock['Change']=fb_stock['Close'].diff()\r\n",
        "fb_stock.head()"
      ],
      "execution_count": null,
      "outputs": [
        {
          "output_type": "execute_result",
          "data": {
            "text/html": [
              "<div>\n",
              "<style scoped>\n",
              "    .dataframe tbody tr th:only-of-type {\n",
              "        vertical-align: middle;\n",
              "    }\n",
              "\n",
              "    .dataframe tbody tr th {\n",
              "        vertical-align: top;\n",
              "    }\n",
              "\n",
              "    .dataframe thead th {\n",
              "        text-align: right;\n",
              "    }\n",
              "</style>\n",
              "<table border=\"1\" class=\"dataframe\">\n",
              "  <thead>\n",
              "    <tr style=\"text-align: right;\">\n",
              "      <th></th>\n",
              "      <th>High</th>\n",
              "      <th>Low</th>\n",
              "      <th>Open</th>\n",
              "      <th>Close</th>\n",
              "      <th>Volume</th>\n",
              "      <th>Adj Close</th>\n",
              "      <th>Change</th>\n",
              "    </tr>\n",
              "    <tr>\n",
              "      <th>Date</th>\n",
              "      <th></th>\n",
              "      <th></th>\n",
              "      <th></th>\n",
              "      <th></th>\n",
              "      <th></th>\n",
              "      <th></th>\n",
              "      <th></th>\n",
              "    </tr>\n",
              "  </thead>\n",
              "  <tbody>\n",
              "    <tr>\n",
              "      <th>2020-06-30</th>\n",
              "      <td>227.500000</td>\n",
              "      <td>218.470001</td>\n",
              "      <td>220.589996</td>\n",
              "      <td>227.070007</td>\n",
              "      <td>33927100</td>\n",
              "      <td>227.070007</td>\n",
              "      <td>NaN</td>\n",
              "    </tr>\n",
              "    <tr>\n",
              "      <th>2020-07-01</th>\n",
              "      <td>239.000000</td>\n",
              "      <td>227.559998</td>\n",
              "      <td>228.500000</td>\n",
              "      <td>237.550003</td>\n",
              "      <td>43399700</td>\n",
              "      <td>237.550003</td>\n",
              "      <td>10.479996</td>\n",
              "    </tr>\n",
              "    <tr>\n",
              "      <th>2020-07-02</th>\n",
              "      <td>240.000000</td>\n",
              "      <td>232.610001</td>\n",
              "      <td>239.000000</td>\n",
              "      <td>233.419998</td>\n",
              "      <td>30633600</td>\n",
              "      <td>233.419998</td>\n",
              "      <td>-4.130005</td>\n",
              "    </tr>\n",
              "    <tr>\n",
              "      <th>2020-07-06</th>\n",
              "      <td>240.399994</td>\n",
              "      <td>232.270004</td>\n",
              "      <td>233.759995</td>\n",
              "      <td>240.279999</td>\n",
              "      <td>26206200</td>\n",
              "      <td>240.279999</td>\n",
              "      <td>6.860001</td>\n",
              "    </tr>\n",
              "    <tr>\n",
              "      <th>2020-07-07</th>\n",
              "      <td>247.649994</td>\n",
              "      <td>238.820007</td>\n",
              "      <td>239.410004</td>\n",
              "      <td>240.860001</td>\n",
              "      <td>27887800</td>\n",
              "      <td>240.860001</td>\n",
              "      <td>0.580002</td>\n",
              "    </tr>\n",
              "  </tbody>\n",
              "</table>\n",
              "</div>"
            ],
            "text/plain": [
              "                  High         Low        Open  ...    Volume   Adj Close     Change\n",
              "Date                                            ...                                 \n",
              "2020-06-30  227.500000  218.470001  220.589996  ...  33927100  227.070007        NaN\n",
              "2020-07-01  239.000000  227.559998  228.500000  ...  43399700  237.550003  10.479996\n",
              "2020-07-02  240.000000  232.610001  239.000000  ...  30633600  233.419998  -4.130005\n",
              "2020-07-06  240.399994  232.270004  233.759995  ...  26206200  240.279999   6.860001\n",
              "2020-07-07  247.649994  238.820007  239.410004  ...  27887800  240.860001   0.580002\n",
              "\n",
              "[5 rows x 7 columns]"
            ]
          },
          "metadata": {
            "tags": []
          },
          "execution_count": 163
        }
      ]
    },
    {
      "cell_type": "code",
      "metadata": {
        "colab": {
          "base_uri": "https://localhost:8080/",
          "height": 110
        },
        "id": "NPfAbRnvtAQm",
        "outputId": "87876fb8-1d17-4df1-bfdb-02de793ba320"
      },
      "source": [
        "web.DataReader('FB', data_source='yahoo', start='2020-06-29',end='2020-06-29')"
      ],
      "execution_count": null,
      "outputs": [
        {
          "output_type": "execute_result",
          "data": {
            "text/html": [
              "<div>\n",
              "<style scoped>\n",
              "    .dataframe tbody tr th:only-of-type {\n",
              "        vertical-align: middle;\n",
              "    }\n",
              "\n",
              "    .dataframe tbody tr th {\n",
              "        vertical-align: top;\n",
              "    }\n",
              "\n",
              "    .dataframe thead th {\n",
              "        text-align: right;\n",
              "    }\n",
              "</style>\n",
              "<table border=\"1\" class=\"dataframe\">\n",
              "  <thead>\n",
              "    <tr style=\"text-align: right;\">\n",
              "      <th></th>\n",
              "      <th>High</th>\n",
              "      <th>Low</th>\n",
              "      <th>Open</th>\n",
              "      <th>Close</th>\n",
              "      <th>Volume</th>\n",
              "      <th>Adj Close</th>\n",
              "    </tr>\n",
              "    <tr>\n",
              "      <th>Date</th>\n",
              "      <th></th>\n",
              "      <th></th>\n",
              "      <th></th>\n",
              "      <th></th>\n",
              "      <th></th>\n",
              "      <th></th>\n",
              "    </tr>\n",
              "  </thead>\n",
              "  <tbody>\n",
              "    <tr>\n",
              "      <th>2020-06-29</th>\n",
              "      <td>220.75</td>\n",
              "      <td>207.110001</td>\n",
              "      <td>209.75</td>\n",
              "      <td>220.639999</td>\n",
              "      <td>58514300</td>\n",
              "      <td>220.639999</td>\n",
              "    </tr>\n",
              "  </tbody>\n",
              "</table>\n",
              "</div>"
            ],
            "text/plain": [
              "              High         Low    Open       Close    Volume   Adj Close\n",
              "Date                                                                    \n",
              "2020-06-29  220.75  207.110001  209.75  220.639999  58514300  220.639999"
            ]
          },
          "metadata": {
            "tags": []
          },
          "execution_count": 176
        }
      ]
    },
    {
      "cell_type": "code",
      "metadata": {
        "colab": {
          "base_uri": "https://localhost:8080/",
          "height": 337
        },
        "id": "aSS2lr17rkA5",
        "outputId": "4651236c-882a-41b3-f116-191b2c0fe2d2"
      },
      "source": [
        "fb_stock.iloc[:1]['Change'] = fb_stock.iloc[:1]['Close'] - 220.639999\r\n",
        "fb_stock.head()"
      ],
      "execution_count": null,
      "outputs": [
        {
          "output_type": "stream",
          "text": [
            "/usr/local/lib/python3.6/dist-packages/ipykernel_launcher.py:1: SettingWithCopyWarning: \n",
            "A value is trying to be set on a copy of a slice from a DataFrame.\n",
            "Try using .loc[row_indexer,col_indexer] = value instead\n",
            "\n",
            "See the caveats in the documentation: https://pandas.pydata.org/pandas-docs/stable/user_guide/indexing.html#returning-a-view-versus-a-copy\n",
            "  \"\"\"Entry point for launching an IPython kernel.\n"
          ],
          "name": "stderr"
        },
        {
          "output_type": "execute_result",
          "data": {
            "text/html": [
              "<div>\n",
              "<style scoped>\n",
              "    .dataframe tbody tr th:only-of-type {\n",
              "        vertical-align: middle;\n",
              "    }\n",
              "\n",
              "    .dataframe tbody tr th {\n",
              "        vertical-align: top;\n",
              "    }\n",
              "\n",
              "    .dataframe thead th {\n",
              "        text-align: right;\n",
              "    }\n",
              "</style>\n",
              "<table border=\"1\" class=\"dataframe\">\n",
              "  <thead>\n",
              "    <tr style=\"text-align: right;\">\n",
              "      <th></th>\n",
              "      <th>High</th>\n",
              "      <th>Low</th>\n",
              "      <th>Open</th>\n",
              "      <th>Close</th>\n",
              "      <th>Volume</th>\n",
              "      <th>Adj Close</th>\n",
              "      <th>Change</th>\n",
              "    </tr>\n",
              "    <tr>\n",
              "      <th>Date</th>\n",
              "      <th></th>\n",
              "      <th></th>\n",
              "      <th></th>\n",
              "      <th></th>\n",
              "      <th></th>\n",
              "      <th></th>\n",
              "      <th></th>\n",
              "    </tr>\n",
              "  </thead>\n",
              "  <tbody>\n",
              "    <tr>\n",
              "      <th>2020-06-30</th>\n",
              "      <td>227.500000</td>\n",
              "      <td>218.470001</td>\n",
              "      <td>220.589996</td>\n",
              "      <td>227.070007</td>\n",
              "      <td>33927100</td>\n",
              "      <td>227.070007</td>\n",
              "      <td>6.430008</td>\n",
              "    </tr>\n",
              "    <tr>\n",
              "      <th>2020-07-01</th>\n",
              "      <td>239.000000</td>\n",
              "      <td>227.559998</td>\n",
              "      <td>228.500000</td>\n",
              "      <td>237.550003</td>\n",
              "      <td>43399700</td>\n",
              "      <td>237.550003</td>\n",
              "      <td>10.479996</td>\n",
              "    </tr>\n",
              "    <tr>\n",
              "      <th>2020-07-02</th>\n",
              "      <td>240.000000</td>\n",
              "      <td>232.610001</td>\n",
              "      <td>239.000000</td>\n",
              "      <td>233.419998</td>\n",
              "      <td>30633600</td>\n",
              "      <td>233.419998</td>\n",
              "      <td>-4.130005</td>\n",
              "    </tr>\n",
              "    <tr>\n",
              "      <th>2020-07-06</th>\n",
              "      <td>240.399994</td>\n",
              "      <td>232.270004</td>\n",
              "      <td>233.759995</td>\n",
              "      <td>240.279999</td>\n",
              "      <td>26206200</td>\n",
              "      <td>240.279999</td>\n",
              "      <td>6.860001</td>\n",
              "    </tr>\n",
              "    <tr>\n",
              "      <th>2020-07-07</th>\n",
              "      <td>247.649994</td>\n",
              "      <td>238.820007</td>\n",
              "      <td>239.410004</td>\n",
              "      <td>240.860001</td>\n",
              "      <td>27887800</td>\n",
              "      <td>240.860001</td>\n",
              "      <td>0.580002</td>\n",
              "    </tr>\n",
              "  </tbody>\n",
              "</table>\n",
              "</div>"
            ],
            "text/plain": [
              "                  High         Low        Open  ...    Volume   Adj Close     Change\n",
              "Date                                            ...                                 \n",
              "2020-06-30  227.500000  218.470001  220.589996  ...  33927100  227.070007   6.430008\n",
              "2020-07-01  239.000000  227.559998  228.500000  ...  43399700  237.550003  10.479996\n",
              "2020-07-02  240.000000  232.610001  239.000000  ...  30633600  233.419998  -4.130005\n",
              "2020-07-06  240.399994  232.270004  233.759995  ...  26206200  240.279999   6.860001\n",
              "2020-07-07  247.649994  238.820007  239.410004  ...  27887800  240.860001   0.580002\n",
              "\n",
              "[5 rows x 7 columns]"
            ]
          },
          "metadata": {
            "tags": []
          },
          "execution_count": 238
        }
      ]
    },
    {
      "cell_type": "markdown",
      "metadata": {
        "id": "jNAWSCn5CLqH"
      },
      "source": [
        "#### Sentiment Analysis"
      ]
    },
    {
      "cell_type": "code",
      "metadata": {
        "colab": {
          "base_uri": "https://localhost:8080/",
          "height": 202
        },
        "id": "VNiS3_MUBEGv",
        "outputId": "02367c07-48f0-42de-a58c-9d2f4f967d10"
      },
      "source": [
        "fb_df['sentiment_score'] = fb_df['clean'].apply(lambda news: vader.polarity_scores(news)['compound'])\r\n",
        "fb_df.head()"
      ],
      "execution_count": null,
      "outputs": [
        {
          "output_type": "execute_result",
          "data": {
            "text/html": [
              "<div>\n",
              "<style scoped>\n",
              "    .dataframe tbody tr th:only-of-type {\n",
              "        vertical-align: middle;\n",
              "    }\n",
              "\n",
              "    .dataframe tbody tr th {\n",
              "        vertical-align: top;\n",
              "    }\n",
              "\n",
              "    .dataframe thead th {\n",
              "        text-align: right;\n",
              "    }\n",
              "</style>\n",
              "<table border=\"1\" class=\"dataframe\">\n",
              "  <thead>\n",
              "    <tr style=\"text-align: right;\">\n",
              "      <th></th>\n",
              "      <th>date</th>\n",
              "      <th>headline</th>\n",
              "      <th>summary</th>\n",
              "      <th>url</th>\n",
              "      <th>combined</th>\n",
              "      <th>clean</th>\n",
              "      <th>sentiment_score</th>\n",
              "    </tr>\n",
              "  </thead>\n",
              "  <tbody>\n",
              "    <tr>\n",
              "      <th>0</th>\n",
              "      <td>2020-12-12</td>\n",
              "      <td>Yes, Facebook has become a menace</td>\n",
              "      <td>IT'S about time, even if it's been a very long...</td>\n",
              "      <td>https://www.businesstimes.com.sg/opinion/yes-f...</td>\n",
              "      <td>Yes, Facebook has become a menace IT'S about t...</td>\n",
              "      <td>yes facebook become menace time even long 22 y...</td>\n",
              "      <td>0.2960</td>\n",
              "    </tr>\n",
              "    <tr>\n",
              "      <th>1</th>\n",
              "      <td>2020-12-10</td>\n",
              "      <td>US crackdown on Facebook gets thumbs up from E...</td>\n",
              "      <td>[BRUSSELS] Margrethe Vestager, the European Un...</td>\n",
              "      <td>https://www.businesstimes.com.sg/technology/us...</td>\n",
              "      <td>US crackdown on Facebook gets thumbs up from E...</td>\n",
              "      <td>us crackdown facebook gets thumbs eus vestager...</td>\n",
              "      <td>0.4767</td>\n",
              "    </tr>\n",
              "    <tr>\n",
              "      <th>2</th>\n",
              "      <td>2020-12-10</td>\n",
              "      <td>Facebook antitrust suits seek to divest Instag...</td>\n",
              "      <td>[WASHINGTON] US federal and state antitrust en...</td>\n",
              "      <td>https://www.businesstimes.com.sg/technology/fa...</td>\n",
              "      <td>Facebook antitrust suits seek to divest Instag...</td>\n",
              "      <td>facebook antitrust suits seek divest instagram...</td>\n",
              "      <td>-0.5106</td>\n",
              "    </tr>\n",
              "    <tr>\n",
              "      <th>3</th>\n",
              "      <td>2020-12-10</td>\n",
              "      <td>Google, Facebook win concession in law to pay ...</td>\n",
              "      <td>GOOGLE and Facebook Inc won a key concession i...</td>\n",
              "      <td>https://www.businesstimes.com.sg/consumer/goog...</td>\n",
              "      <td>Google, Facebook win concession in law to pay ...</td>\n",
              "      <td>google facebook win concession law pay news au...</td>\n",
              "      <td>0.4588</td>\n",
              "    </tr>\n",
              "    <tr>\n",
              "      <th>4</th>\n",
              "      <td>2020-12-09</td>\n",
              "      <td>Google, Facebook win key concession in law to ...</td>\n",
              "      <td>[SYDNEY] Google and Facebook won a key concess...</td>\n",
              "      <td>https://www.businesstimes.com.sg/consumer/goog...</td>\n",
              "      <td>Google, Facebook win key concession in law to ...</td>\n",
              "      <td>google facebook win key concession law pay new...</td>\n",
              "      <td>0.4588</td>\n",
              "    </tr>\n",
              "  </tbody>\n",
              "</table>\n",
              "</div>"
            ],
            "text/plain": [
              "         date  ... sentiment_score\n",
              "0  2020-12-12  ...          0.2960\n",
              "1  2020-12-10  ...          0.4767\n",
              "2  2020-12-10  ...         -0.5106\n",
              "3  2020-12-10  ...          0.4588\n",
              "4  2020-12-09  ...          0.4588\n",
              "\n",
              "[5 rows x 7 columns]"
            ]
          },
          "metadata": {
            "tags": []
          },
          "execution_count": 96
        }
      ]
    },
    {
      "cell_type": "markdown",
      "metadata": {
        "id": "GbzA1DxiCPVh"
      },
      "source": [
        "#### Visualisation"
      ]
    },
    {
      "cell_type": "code",
      "metadata": {
        "colab": {
          "base_uri": "https://localhost:8080/",
          "height": 666
        },
        "id": "7X_WWioqCmSn",
        "outputId": "2e1a1250-1040-45a8-df6a-24b8943ce698"
      },
      "source": [
        "fig = plt.figure(figsize=(14,8))\r\n",
        "ax = fig.add_axes([0,0,1,1])\r\n",
        "ax.bar(fb_df['date'], fb_df['sentiment_score'])\r\n",
        "ax.set_xlabel('Date')\r\n",
        "ax.set_ylabel('Sentiment Scores')\r\n",
        "ax.set_title('Facebook - Sentiment Visualisation')\r\n",
        "plt.show()"
      ],
      "execution_count": null,
      "outputs": [
        {
          "output_type": "display_data",
          "data": {
            "image/png": "[encoded data removed]",
            "text/plain": [
              "<Figure size 1008x576 with 1 Axes>"
            ]
          },
          "metadata": {
            "tags": []
          }
        }
      ]
    },
    {
      "cell_type": "code",
      "metadata": {
        "colab": {
          "base_uri": "https://localhost:8080/",
          "height": 553
        },
        "id": "Pr99tImrDGPO",
        "outputId": "f89538d3-0766-4150-8f5a-3b08d0c8d49e"
      },
      "source": [
        "plt.figure(figsize=(16,8))\r\n",
        "plt.plot(fb_stock['Close'])\r\n",
        "plt.title('Facebook Close Price History',fontsize = 18)\r\n",
        "plt.xlabel('Date',fontsize=14)\r\n",
        "plt.ylabel('Close Price USD ($)', fontsize = 14)\r\n",
        "plt.show()"
      ],
      "execution_count": null,
      "outputs": [
        {
          "output_type": "display_data",
          "data": {
            "image/png": "[encoded data removed]",
            "text/plain": [
              "<Figure size 1152x576 with 1 Axes>"
            ]
          },
          "metadata": {
            "tags": []
          }
        }
      ]
    },
    {
      "cell_type": "code",
      "metadata": {
        "colab": {
          "base_uri": "https://localhost:8080/"
        },
        "id": "B2-bis7Pufv-",
        "outputId": "3cd8a2f4-efdc-4371-e6ce-13f718123c61"
      },
      "source": [
        "fb_df.sentiment_score.sort_values()"
      ],
      "execution_count": null,
      "outputs": [
        {
          "output_type": "execute_result",
          "data": {
            "text/plain": [
              "97   -0.9607\n",
              "16   -0.9460\n",
              "53   -0.9201\n",
              "62   -0.8979\n",
              "17   -0.8979\n",
              "       ...  \n",
              "34    0.7906\n",
              "90    0.7964\n",
              "86    0.8316\n",
              "70    0.8807\n",
              "68    0.8860\n",
              "Name: sentiment_score, Length: 100, dtype: float64"
            ]
          },
          "metadata": {
            "tags": []
          },
          "execution_count": 188
        }
      ]
    },
    {
      "cell_type": "code",
      "metadata": {
        "colab": {
          "base_uri": "https://localhost:8080/",
          "height": 80
        },
        "id": "G6coyM6pv7id",
        "outputId": "25b12773-7d46-496e-bbaf-9aebf8a53ca3"
      },
      "source": [
        "fb_df[fb_df['sentiment_score']== -0.9201]"
      ],
      "execution_count": null,
      "outputs": [
        {
          "output_type": "execute_result",
          "data": {
            "text/html": [
              "<div>\n",
              "<style scoped>\n",
              "    .dataframe tbody tr th:only-of-type {\n",
              "        vertical-align: middle;\n",
              "    }\n",
              "\n",
              "    .dataframe tbody tr th {\n",
              "        vertical-align: top;\n",
              "    }\n",
              "\n",
              "    .dataframe thead th {\n",
              "        text-align: right;\n",
              "    }\n",
              "</style>\n",
              "<table border=\"1\" class=\"dataframe\">\n",
              "  <thead>\n",
              "    <tr style=\"text-align: right;\">\n",
              "      <th></th>\n",
              "      <th>date</th>\n",
              "      <th>headline</th>\n",
              "      <th>summary</th>\n",
              "      <th>url</th>\n",
              "      <th>combined</th>\n",
              "      <th>clean</th>\n",
              "      <th>sentiment_score</th>\n",
              "    </tr>\n",
              "  </thead>\n",
              "  <tbody>\n",
              "    <tr>\n",
              "      <th>53</th>\n",
              "      <td>2020-09-03</td>\n",
              "      <td>Facebook bans Indian ruling party politician f...</td>\n",
              "      <td>[NEW DELHI] Facebook has banned a member of In...</td>\n",
              "      <td>https://www.businesstimes.com.sg/technology/fa...</td>\n",
              "      <td>Facebook bans Indian ruling party politician f...</td>\n",
              "      <td>facebook bans indian ruling party politician p...</td>\n",
              "      <td>-0.9201</td>\n",
              "    </tr>\n",
              "  </tbody>\n",
              "</table>\n",
              "</div>"
            ],
            "text/plain": [
              "          date  ... sentiment_score\n",
              "53  2020-09-03  ...         -0.9201\n",
              "\n",
              "[1 rows x 7 columns]"
            ]
          },
          "metadata": {
            "tags": []
          },
          "execution_count": 203
        }
      ]
    },
    {
      "cell_type": "code",
      "metadata": {
        "colab": {
          "base_uri": "https://localhost:8080/"
        },
        "id": "NKiTy6qtunOr",
        "outputId": "39ae6c2f-0475-4ab6-f20d-c0036d32f87f"
      },
      "source": [
        "print(fb_df.iloc[53]['combined'])"
      ],
      "execution_count": null,
      "outputs": [
        {
          "output_type": "stream",
          "text": [
            "Facebook bans Indian ruling party politician for policy violation [NEW DELHI] Facebook has banned a member of India's ruling party for violating its policies covering violence and hate, as Mark Zuckerberg's company finds itself caught in a debate over how it handles political content in its biggest market.\r\n",
            "\n"
          ],
          "name": "stdout"
        }
      ]
    },
    {
      "cell_type": "code",
      "metadata": {
        "colab": {
          "base_uri": "https://localhost:8080/",
          "height": 110
        },
        "id": "_yNa7lqNunh6",
        "outputId": "e2a1576a-a6f0-469e-c990-22527ca3a008"
      },
      "source": [
        "fb_stock[fb_stock.index == '2020-09-03']"
      ],
      "execution_count": null,
      "outputs": [
        {
          "output_type": "execute_result",
          "data": {
            "text/html": [
              "<div>\n",
              "<style scoped>\n",
              "    .dataframe tbody tr th:only-of-type {\n",
              "        vertical-align: middle;\n",
              "    }\n",
              "\n",
              "    .dataframe tbody tr th {\n",
              "        vertical-align: top;\n",
              "    }\n",
              "\n",
              "    .dataframe thead th {\n",
              "        text-align: right;\n",
              "    }\n",
              "</style>\n",
              "<table border=\"1\" class=\"dataframe\">\n",
              "  <thead>\n",
              "    <tr style=\"text-align: right;\">\n",
              "      <th></th>\n",
              "      <th>High</th>\n",
              "      <th>Low</th>\n",
              "      <th>Open</th>\n",
              "      <th>Close</th>\n",
              "      <th>Volume</th>\n",
              "      <th>Adj Close</th>\n",
              "      <th>Change</th>\n",
              "    </tr>\n",
              "    <tr>\n",
              "      <th>Date</th>\n",
              "      <th></th>\n",
              "      <th></th>\n",
              "      <th></th>\n",
              "      <th></th>\n",
              "      <th></th>\n",
              "      <th></th>\n",
              "      <th></th>\n",
              "    </tr>\n",
              "  </thead>\n",
              "  <tbody>\n",
              "    <tr>\n",
              "      <th>2020-09-03</th>\n",
              "      <td>297.600006</td>\n",
              "      <td>283.630005</td>\n",
              "      <td>295.98999</td>\n",
              "      <td>291.119995</td>\n",
              "      <td>32294100</td>\n",
              "      <td>291.119995</td>\n",
              "      <td>-11.380005</td>\n",
              "    </tr>\n",
              "  </tbody>\n",
              "</table>\n",
              "</div>"
            ],
            "text/plain": [
              "                  High         Low       Open  ...    Volume   Adj Close     Change\n",
              "Date                                           ...                                 \n",
              "2020-09-03  297.600006  283.630005  295.98999  ...  32294100  291.119995 -11.380005\n",
              "\n",
              "[1 rows x 7 columns]"
            ]
          },
          "metadata": {
            "tags": []
          },
          "execution_count": 193
        }
      ]
    },
    {
      "cell_type": "code",
      "metadata": {
        "colab": {
          "base_uri": "https://localhost:8080/",
          "height": 80
        },
        "id": "Z4nv3eqhun1x",
        "outputId": "ea3aa970-552c-4fdd-f0f3-4c922ad555e3"
      },
      "source": [
        "fb_df[fb_df['sentiment_score']== 0.8807]"
      ],
      "execution_count": null,
      "outputs": [
        {
          "output_type": "execute_result",
          "data": {
            "text/html": [
              "<div>\n",
              "<style scoped>\n",
              "    .dataframe tbody tr th:only-of-type {\n",
              "        vertical-align: middle;\n",
              "    }\n",
              "\n",
              "    .dataframe tbody tr th {\n",
              "        vertical-align: top;\n",
              "    }\n",
              "\n",
              "    .dataframe thead th {\n",
              "        text-align: right;\n",
              "    }\n",
              "</style>\n",
              "<table border=\"1\" class=\"dataframe\">\n",
              "  <thead>\n",
              "    <tr style=\"text-align: right;\">\n",
              "      <th></th>\n",
              "      <th>date</th>\n",
              "      <th>headline</th>\n",
              "      <th>summary</th>\n",
              "      <th>url</th>\n",
              "      <th>combined</th>\n",
              "      <th>clean</th>\n",
              "      <th>sentiment_score</th>\n",
              "    </tr>\n",
              "  </thead>\n",
              "  <tbody>\n",
              "    <tr>\n",
              "      <th>70</th>\n",
              "      <td>2020-08-11</td>\n",
              "      <td>Facebook creates unit devoted to financial ser...</td>\n",
              "      <td>[SAN FRANCISCO] Facebook on Monday said it has...</td>\n",
              "      <td>https://www.businesstimes.com.sg/technology/fa...</td>\n",
              "      <td>Facebook creates unit devoted to financial ser...</td>\n",
              "      <td>facebook creates unit devoted financial servic...</td>\n",
              "      <td>0.8807</td>\n",
              "    </tr>\n",
              "  </tbody>\n",
              "</table>\n",
              "</div>"
            ],
            "text/plain": [
              "          date  ... sentiment_score\n",
              "70  2020-08-11  ...          0.8807\n",
              "\n",
              "[1 rows x 7 columns]"
            ]
          },
          "metadata": {
            "tags": []
          },
          "execution_count": 220
        }
      ]
    },
    {
      "cell_type": "code",
      "metadata": {
        "colab": {
          "base_uri": "https://localhost:8080/"
        },
        "id": "d8G_KnWTwM2K",
        "outputId": "e7015404-979e-408e-9b8a-0d025ffab43c"
      },
      "source": [
        "print(fb_df.iloc[70]['combined'])"
      ],
      "execution_count": null,
      "outputs": [
        {
          "output_type": "stream",
          "text": [
            "Facebook creates unit devoted to financial services [SAN FRANCISCO] Facebook on Monday said it has created a new unit devoted to financial services to harmonize payment systems on its platform.\r\n",
            "\n"
          ],
          "name": "stdout"
        }
      ]
    },
    {
      "cell_type": "code",
      "metadata": {
        "colab": {
          "base_uri": "https://localhost:8080/",
          "height": 110
        },
        "id": "8cfTmtNNwNFf",
        "outputId": "e80bb436-17c3-43fd-c7cb-e5103a9a914b"
      },
      "source": [
        "fb_stock[fb_stock.index == '2020-08-12']"
      ],
      "execution_count": null,
      "outputs": [
        {
          "output_type": "execute_result",
          "data": {
            "text/html": [
              "<div>\n",
              "<style scoped>\n",
              "    .dataframe tbody tr th:only-of-type {\n",
              "        vertical-align: middle;\n",
              "    }\n",
              "\n",
              "    .dataframe tbody tr th {\n",
              "        vertical-align: top;\n",
              "    }\n",
              "\n",
              "    .dataframe thead th {\n",
              "        text-align: right;\n",
              "    }\n",
              "</style>\n",
              "<table border=\"1\" class=\"dataframe\">\n",
              "  <thead>\n",
              "    <tr style=\"text-align: right;\">\n",
              "      <th></th>\n",
              "      <th>High</th>\n",
              "      <th>Low</th>\n",
              "      <th>Open</th>\n",
              "      <th>Close</th>\n",
              "      <th>Volume</th>\n",
              "      <th>Adj Close</th>\n",
              "      <th>Change</th>\n",
              "    </tr>\n",
              "    <tr>\n",
              "      <th>Date</th>\n",
              "      <th></th>\n",
              "      <th></th>\n",
              "      <th></th>\n",
              "      <th></th>\n",
              "      <th></th>\n",
              "      <th></th>\n",
              "      <th></th>\n",
              "    </tr>\n",
              "  </thead>\n",
              "  <tbody>\n",
              "    <tr>\n",
              "      <th>2020-08-12</th>\n",
              "      <td>263.899994</td>\n",
              "      <td>258.109985</td>\n",
              "      <td>258.970001</td>\n",
              "      <td>259.890015</td>\n",
              "      <td>21428300</td>\n",
              "      <td>259.890015</td>\n",
              "      <td>3.76001</td>\n",
              "    </tr>\n",
              "  </tbody>\n",
              "</table>\n",
              "</div>"
            ],
            "text/plain": [
              "                  High         Low        Open  ...    Volume   Adj Close   Change\n",
              "Date                                            ...                               \n",
              "2020-08-12  263.899994  258.109985  258.970001  ...  21428300  259.890015  3.76001\n",
              "\n",
              "[1 rows x 7 columns]"
            ]
          },
          "metadata": {
            "tags": []
          },
          "execution_count": 225
        }
      ]
    },
    {
      "cell_type": "markdown",
      "metadata": {
        "id": "bmQUEpSXK-50"
      },
      "source": [
        "### Amazon"
      ]
    },
    {
      "cell_type": "markdown",
      "metadata": {
        "id": "aoSZTQUPLGZE"
      },
      "source": [
        "#### Pre-processing and Data Preparation"
      ]
    },
    {
      "cell_type": "code",
      "metadata": {
        "colab": {
          "base_uri": "https://localhost:8080/",
          "height": 202
        },
        "id": "QrDljUX_LXXK",
        "outputId": "90b3b22d-2a11-4357-96a7-b8618ab07503"
      },
      "source": [
        "amzn_df.head()"
      ],
      "execution_count": null,
      "outputs": [
        {
          "output_type": "execute_result",
          "data": {
            "text/html": [
              "<div>\n",
              "<style scoped>\n",
              "    .dataframe tbody tr th:only-of-type {\n",
              "        vertical-align: middle;\n",
              "    }\n",
              "\n",
              "    .dataframe tbody tr th {\n",
              "        vertical-align: top;\n",
              "    }\n",
              "\n",
              "    .dataframe thead th {\n",
              "        text-align: right;\n",
              "    }\n",
              "</style>\n",
              "<table border=\"1\" class=\"dataframe\">\n",
              "  <thead>\n",
              "    <tr style=\"text-align: right;\">\n",
              "      <th></th>\n",
              "      <th>date</th>\n",
              "      <th>headline</th>\n",
              "      <th>summary</th>\n",
              "      <th>url</th>\n",
              "    </tr>\n",
              "  </thead>\n",
              "  <tbody>\n",
              "    <tr>\n",
              "      <th>0</th>\n",
              "      <td>11 Dec 2020</td>\n",
              "      <td>Google, Amazon fined total of 135 million euro...</td>\n",
              "      <td>GOOGLE racked up another record fine in the Eu...</td>\n",
              "      <td>https://www.businesstimes.com.sg/technology/go...</td>\n",
              "    </tr>\n",
              "    <tr>\n",
              "      <th>1</th>\n",
              "      <td>10 Dec 2020</td>\n",
              "      <td>Google, Amazon fined 100m euros by French data...</td>\n",
              "      <td>[LUXEMBOURG] Google racked up another record E...</td>\n",
              "      <td>https://www.businesstimes.com.sg/technology/go...</td>\n",
              "    </tr>\n",
              "    <tr>\n",
              "      <th>2</th>\n",
              "      <td>09 Dec 2020</td>\n",
              "      <td>Amazon eyes potential US$100m investment in In...</td>\n",
              "      <td>[BENGALURU] Amazon.com Inc is considering a ne...</td>\n",
              "      <td>https://www.businesstimes.com.sg/consumer/amaz...</td>\n",
              "    </tr>\n",
              "    <tr>\n",
              "      <th>3</th>\n",
              "      <td>04 Dec 2020</td>\n",
              "      <td>More than 400 lawmakers from 34 countries back...</td>\n",
              "      <td>[LONDON] More than 400 lawmakers from 34 count...</td>\n",
              "      <td>https://www.businesstimes.com.sg/consumer/more...</td>\n",
              "    </tr>\n",
              "    <tr>\n",
              "      <th>4</th>\n",
              "      <td>02 Dec 2020</td>\n",
              "      <td>BlackBerry, Amazon team up on smart car softwa...</td>\n",
              "      <td>[SAN FRANCISCO] BlackBerry and Amazon on Tuesd...</td>\n",
              "      <td>https://www.businesstimes.com.sg/transport/bla...</td>\n",
              "    </tr>\n",
              "  </tbody>\n",
              "</table>\n",
              "</div>"
            ],
            "text/plain": [
              "          date  ...                                                url\n",
              "0  11 Dec 2020  ...  https://www.businesstimes.com.sg/technology/go...\n",
              "1  10 Dec 2020  ...  https://www.businesstimes.com.sg/technology/go...\n",
              "2  09 Dec 2020  ...  https://www.businesstimes.com.sg/consumer/amaz...\n",
              "3  04 Dec 2020  ...  https://www.businesstimes.com.sg/consumer/more...\n",
              "4  02 Dec 2020  ...  https://www.businesstimes.com.sg/transport/bla...\n",
              "\n",
              "[5 rows x 4 columns]"
            ]
          },
          "metadata": {
            "tags": []
          },
          "execution_count": 154
        }
      ]
    },
    {
      "cell_type": "code",
      "metadata": {
        "colab": {
          "base_uri": "https://localhost:8080/",
          "height": 202
        },
        "id": "wyXArG4yLaMG",
        "outputId": "d2be6c90-2245-43d0-850c-c4acee508e1b"
      },
      "source": [
        "amzn_df['combined'] = amzn_df['headline'] + ' ' + amzn_df['summary']\r\n",
        "amzn_df['date'] = pd.to_datetime(amzn_df['date']).dt.date\r\n",
        "amzn_df['clean'] = amzn_df['combined'].apply(text_cleaner)\r\n",
        "amzn_df.head()"
      ],
      "execution_count": null,
      "outputs": [
        {
          "output_type": "execute_result",
          "data": {
            "text/html": [
              "<div>\n",
              "<style scoped>\n",
              "    .dataframe tbody tr th:only-of-type {\n",
              "        vertical-align: middle;\n",
              "    }\n",
              "\n",
              "    .dataframe tbody tr th {\n",
              "        vertical-align: top;\n",
              "    }\n",
              "\n",
              "    .dataframe thead th {\n",
              "        text-align: right;\n",
              "    }\n",
              "</style>\n",
              "<table border=\"1\" class=\"dataframe\">\n",
              "  <thead>\n",
              "    <tr style=\"text-align: right;\">\n",
              "      <th></th>\n",
              "      <th>date</th>\n",
              "      <th>headline</th>\n",
              "      <th>summary</th>\n",
              "      <th>url</th>\n",
              "      <th>combined</th>\n",
              "      <th>clean</th>\n",
              "    </tr>\n",
              "  </thead>\n",
              "  <tbody>\n",
              "    <tr>\n",
              "      <th>0</th>\n",
              "      <td>2020-12-11</td>\n",
              "      <td>Google, Amazon fined total of 135 million euro...</td>\n",
              "      <td>GOOGLE racked up another record fine in the Eu...</td>\n",
              "      <td>https://www.businesstimes.com.sg/technology/go...</td>\n",
              "      <td>Google, Amazon fined total of 135 million euro...</td>\n",
              "      <td>google amazon fined total 135 million euros fr...</td>\n",
              "    </tr>\n",
              "    <tr>\n",
              "      <th>1</th>\n",
              "      <td>2020-12-10</td>\n",
              "      <td>Google, Amazon fined 100m euros by French data...</td>\n",
              "      <td>[LUXEMBOURG] Google racked up another record E...</td>\n",
              "      <td>https://www.businesstimes.com.sg/technology/go...</td>\n",
              "      <td>Google, Amazon fined 100m euros by French data...</td>\n",
              "      <td>google amazon fined 100m euros french data wat...</td>\n",
              "    </tr>\n",
              "    <tr>\n",
              "      <th>2</th>\n",
              "      <td>2020-12-09</td>\n",
              "      <td>Amazon eyes potential US$100m investment in In...</td>\n",
              "      <td>[BENGALURU] Amazon.com Inc is considering a ne...</td>\n",
              "      <td>https://www.businesstimes.com.sg/consumer/amaz...</td>\n",
              "      <td>Amazon eyes potential US$100m investment in In...</td>\n",
              "      <td>amazon eyes potential us100m investment indias...</td>\n",
              "    </tr>\n",
              "    <tr>\n",
              "      <th>3</th>\n",
              "      <td>2020-12-04</td>\n",
              "      <td>More than 400 lawmakers from 34 countries back...</td>\n",
              "      <td>[LONDON] More than 400 lawmakers from 34 count...</td>\n",
              "      <td>https://www.businesstimes.com.sg/consumer/more...</td>\n",
              "      <td>More than 400 lawmakers from 34 countries back...</td>\n",
              "      <td>400 lawmakers 34 countries back make amazon pa...</td>\n",
              "    </tr>\n",
              "    <tr>\n",
              "      <th>4</th>\n",
              "      <td>2020-12-02</td>\n",
              "      <td>BlackBerry, Amazon team up on smart car softwa...</td>\n",
              "      <td>[SAN FRANCISCO] BlackBerry and Amazon on Tuesd...</td>\n",
              "      <td>https://www.businesstimes.com.sg/transport/bla...</td>\n",
              "      <td>BlackBerry, Amazon team up on smart car softwa...</td>\n",
              "      <td>blackberry amazon team smart car software plat...</td>\n",
              "    </tr>\n",
              "  </tbody>\n",
              "</table>\n",
              "</div>"
            ],
            "text/plain": [
              "         date  ...                                              clean\n",
              "0  2020-12-11  ...  google amazon fined total 135 million euros fr...\n",
              "1  2020-12-10  ...  google amazon fined 100m euros french data wat...\n",
              "2  2020-12-09  ...  amazon eyes potential us100m investment indias...\n",
              "3  2020-12-04  ...  400 lawmakers 34 countries back make amazon pa...\n",
              "4  2020-12-02  ...  blackberry amazon team smart car software plat...\n",
              "\n",
              "[5 rows x 6 columns]"
            ]
          },
          "metadata": {
            "tags": []
          },
          "execution_count": 155
        }
      ]
    },
    {
      "cell_type": "code",
      "metadata": {
        "colab": {
          "base_uri": "https://localhost:8080/",
          "height": 233
        },
        "id": "BpEIjPPnxZw0",
        "outputId": "204511b8-844c-4f11-c6e6-669995802a63"
      },
      "source": [
        "amzn_stock['Change']=amzn_stock['Close'].diff()\r\n",
        "amzn_stock.head()"
      ],
      "execution_count": null,
      "outputs": [
        {
          "output_type": "execute_result",
          "data": {
            "text/html": [
              "<div>\n",
              "<style scoped>\n",
              "    .dataframe tbody tr th:only-of-type {\n",
              "        vertical-align: middle;\n",
              "    }\n",
              "\n",
              "    .dataframe tbody tr th {\n",
              "        vertical-align: top;\n",
              "    }\n",
              "\n",
              "    .dataframe thead th {\n",
              "        text-align: right;\n",
              "    }\n",
              "</style>\n",
              "<table border=\"1\" class=\"dataframe\">\n",
              "  <thead>\n",
              "    <tr style=\"text-align: right;\">\n",
              "      <th></th>\n",
              "      <th>High</th>\n",
              "      <th>Low</th>\n",
              "      <th>Open</th>\n",
              "      <th>Close</th>\n",
              "      <th>Volume</th>\n",
              "      <th>Adj Close</th>\n",
              "      <th>Change</th>\n",
              "    </tr>\n",
              "    <tr>\n",
              "      <th>Date</th>\n",
              "      <th></th>\n",
              "      <th></th>\n",
              "      <th></th>\n",
              "      <th></th>\n",
              "      <th></th>\n",
              "      <th></th>\n",
              "      <th></th>\n",
              "    </tr>\n",
              "  </thead>\n",
              "  <tbody>\n",
              "    <tr>\n",
              "      <th>2020-07-07</th>\n",
              "      <td>3069.550049</td>\n",
              "      <td>2990.000000</td>\n",
              "      <td>3058.550049</td>\n",
              "      <td>3000.120117</td>\n",
              "      <td>5257500</td>\n",
              "      <td>3000.120117</td>\n",
              "      <td>NaN</td>\n",
              "    </tr>\n",
              "    <tr>\n",
              "      <th>2020-07-08</th>\n",
              "      <td>3083.969971</td>\n",
              "      <td>3012.429932</td>\n",
              "      <td>3022.610107</td>\n",
              "      <td>3081.110107</td>\n",
              "      <td>5037600</td>\n",
              "      <td>3081.110107</td>\n",
              "      <td>80.989990</td>\n",
              "    </tr>\n",
              "    <tr>\n",
              "      <th>2020-07-09</th>\n",
              "      <td>3193.879883</td>\n",
              "      <td>3074.000000</td>\n",
              "      <td>3115.989990</td>\n",
              "      <td>3182.629883</td>\n",
              "      <td>6388700</td>\n",
              "      <td>3182.629883</td>\n",
              "      <td>101.519775</td>\n",
              "    </tr>\n",
              "    <tr>\n",
              "      <th>2020-07-10</th>\n",
              "      <td>3215.000000</td>\n",
              "      <td>3135.699951</td>\n",
              "      <td>3191.760010</td>\n",
              "      <td>3200.000000</td>\n",
              "      <td>5486000</td>\n",
              "      <td>3200.000000</td>\n",
              "      <td>17.370117</td>\n",
              "    </tr>\n",
              "    <tr>\n",
              "      <th>2020-07-13</th>\n",
              "      <td>3344.290039</td>\n",
              "      <td>3068.389893</td>\n",
              "      <td>3251.060059</td>\n",
              "      <td>3104.000000</td>\n",
              "      <td>7720400</td>\n",
              "      <td>3104.000000</td>\n",
              "      <td>-96.000000</td>\n",
              "    </tr>\n",
              "  </tbody>\n",
              "</table>\n",
              "</div>"
            ],
            "text/plain": [
              "                   High          Low  ...    Adj Close      Change\n",
              "Date                                  ...                         \n",
              "2020-07-07  3069.550049  2990.000000  ...  3000.120117         NaN\n",
              "2020-07-08  3083.969971  3012.429932  ...  3081.110107   80.989990\n",
              "2020-07-09  3193.879883  3074.000000  ...  3182.629883  101.519775\n",
              "2020-07-10  3215.000000  3135.699951  ...  3200.000000   17.370117\n",
              "2020-07-13  3344.290039  3068.389893  ...  3104.000000  -96.000000\n",
              "\n",
              "[5 rows x 7 columns]"
            ]
          },
          "metadata": {
            "tags": []
          },
          "execution_count": 226
        }
      ]
    },
    {
      "cell_type": "code",
      "metadata": {
        "colab": {
          "base_uri": "https://localhost:8080/",
          "height": 110
        },
        "id": "sRoxSTb1xjR4",
        "outputId": "bfe48ae5-fb16-4644-98cf-21aa89fc15db"
      },
      "source": [
        "web.DataReader('AMZN', data_source='yahoo', start='2020-07-06',end='2020-07-06')"
      ],
      "execution_count": null,
      "outputs": [
        {
          "output_type": "execute_result",
          "data": {
            "text/html": [
              "<div>\n",
              "<style scoped>\n",
              "    .dataframe tbody tr th:only-of-type {\n",
              "        vertical-align: middle;\n",
              "    }\n",
              "\n",
              "    .dataframe tbody tr th {\n",
              "        vertical-align: top;\n",
              "    }\n",
              "\n",
              "    .dataframe thead th {\n",
              "        text-align: right;\n",
              "    }\n",
              "</style>\n",
              "<table border=\"1\" class=\"dataframe\">\n",
              "  <thead>\n",
              "    <tr style=\"text-align: right;\">\n",
              "      <th></th>\n",
              "      <th>High</th>\n",
              "      <th>Low</th>\n",
              "      <th>Open</th>\n",
              "      <th>Close</th>\n",
              "      <th>Volume</th>\n",
              "      <th>Adj Close</th>\n",
              "    </tr>\n",
              "    <tr>\n",
              "      <th>Date</th>\n",
              "      <th></th>\n",
              "      <th></th>\n",
              "      <th></th>\n",
              "      <th></th>\n",
              "      <th></th>\n",
              "      <th></th>\n",
              "    </tr>\n",
              "  </thead>\n",
              "  <tbody>\n",
              "    <tr>\n",
              "      <th>2020-07-06</th>\n",
              "      <td>3059.879883</td>\n",
              "      <td>2930</td>\n",
              "      <td>2934.969971</td>\n",
              "      <td>3057.040039</td>\n",
              "      <td>6880600</td>\n",
              "      <td>3057.040039</td>\n",
              "    </tr>\n",
              "  </tbody>\n",
              "</table>\n",
              "</div>"
            ],
            "text/plain": [
              "                   High   Low         Open        Close   Volume    Adj Close\n",
              "Date                                                                         \n",
              "2020-07-06  3059.879883  2930  2934.969971  3057.040039  6880600  3057.040039"
            ]
          },
          "metadata": {
            "tags": []
          },
          "execution_count": 227
        }
      ]
    },
    {
      "cell_type": "code",
      "metadata": {
        "colab": {
          "base_uri": "https://localhost:8080/",
          "height": 337
        },
        "id": "LrU0FeLgxjXo",
        "outputId": "007dd2e2-642a-4903-d609-a2d18e862e5a"
      },
      "source": [
        "amzn_stock.iloc[:1]['Change'] = amzn_stock.iloc[:1]['Close'] - 3057.040039\r\n",
        "amzn_stock.head()"
      ],
      "execution_count": null,
      "outputs": [
        {
          "output_type": "stream",
          "text": [
            "/usr/local/lib/python3.6/dist-packages/ipykernel_launcher.py:1: SettingWithCopyWarning: \n",
            "A value is trying to be set on a copy of a slice from a DataFrame.\n",
            "Try using .loc[row_indexer,col_indexer] = value instead\n",
            "\n",
            "See the caveats in the documentation: https://pandas.pydata.org/pandas-docs/stable/user_guide/indexing.html#returning-a-view-versus-a-copy\n",
            "  \"\"\"Entry point for launching an IPython kernel.\n"
          ],
          "name": "stderr"
        },
        {
          "output_type": "execute_result",
          "data": {
            "text/html": [
              "<div>\n",
              "<style scoped>\n",
              "    .dataframe tbody tr th:only-of-type {\n",
              "        vertical-align: middle;\n",
              "    }\n",
              "\n",
              "    .dataframe tbody tr th {\n",
              "        vertical-align: top;\n",
              "    }\n",
              "\n",
              "    .dataframe thead th {\n",
              "        text-align: right;\n",
              "    }\n",
              "</style>\n",
              "<table border=\"1\" class=\"dataframe\">\n",
              "  <thead>\n",
              "    <tr style=\"text-align: right;\">\n",
              "      <th></th>\n",
              "      <th>High</th>\n",
              "      <th>Low</th>\n",
              "      <th>Open</th>\n",
              "      <th>Close</th>\n",
              "      <th>Volume</th>\n",
              "      <th>Adj Close</th>\n",
              "      <th>Change</th>\n",
              "    </tr>\n",
              "    <tr>\n",
              "      <th>Date</th>\n",
              "      <th></th>\n",
              "      <th></th>\n",
              "      <th></th>\n",
              "      <th></th>\n",
              "      <th></th>\n",
              "      <th></th>\n",
              "      <th></th>\n",
              "    </tr>\n",
              "  </thead>\n",
              "  <tbody>\n",
              "    <tr>\n",
              "      <th>2020-07-07</th>\n",
              "      <td>3069.550049</td>\n",
              "      <td>2990.000000</td>\n",
              "      <td>3058.550049</td>\n",
              "      <td>3000.120117</td>\n",
              "      <td>5257500</td>\n",
              "      <td>3000.120117</td>\n",
              "      <td>-56.919922</td>\n",
              "    </tr>\n",
              "    <tr>\n",
              "      <th>2020-07-08</th>\n",
              "      <td>3083.969971</td>\n",
              "      <td>3012.429932</td>\n",
              "      <td>3022.610107</td>\n",
              "      <td>3081.110107</td>\n",
              "      <td>5037600</td>\n",
              "      <td>3081.110107</td>\n",
              "      <td>80.989990</td>\n",
              "    </tr>\n",
              "    <tr>\n",
              "      <th>2020-07-09</th>\n",
              "      <td>3193.879883</td>\n",
              "      <td>3074.000000</td>\n",
              "      <td>3115.989990</td>\n",
              "      <td>3182.629883</td>\n",
              "      <td>6388700</td>\n",
              "      <td>3182.629883</td>\n",
              "      <td>101.519775</td>\n",
              "    </tr>\n",
              "    <tr>\n",
              "      <th>2020-07-10</th>\n",
              "      <td>3215.000000</td>\n",
              "      <td>3135.699951</td>\n",
              "      <td>3191.760010</td>\n",
              "      <td>3200.000000</td>\n",
              "      <td>5486000</td>\n",
              "      <td>3200.000000</td>\n",
              "      <td>17.370117</td>\n",
              "    </tr>\n",
              "    <tr>\n",
              "      <th>2020-07-13</th>\n",
              "      <td>3344.290039</td>\n",
              "      <td>3068.389893</td>\n",
              "      <td>3251.060059</td>\n",
              "      <td>3104.000000</td>\n",
              "      <td>7720400</td>\n",
              "      <td>3104.000000</td>\n",
              "      <td>-96.000000</td>\n",
              "    </tr>\n",
              "  </tbody>\n",
              "</table>\n",
              "</div>"
            ],
            "text/plain": [
              "                   High          Low  ...    Adj Close      Change\n",
              "Date                                  ...                         \n",
              "2020-07-07  3069.550049  2990.000000  ...  3000.120117  -56.919922\n",
              "2020-07-08  3083.969971  3012.429932  ...  3081.110107   80.989990\n",
              "2020-07-09  3193.879883  3074.000000  ...  3182.629883  101.519775\n",
              "2020-07-10  3215.000000  3135.699951  ...  3200.000000   17.370117\n",
              "2020-07-13  3344.290039  3068.389893  ...  3104.000000  -96.000000\n",
              "\n",
              "[5 rows x 7 columns]"
            ]
          },
          "metadata": {
            "tags": []
          },
          "execution_count": 234
        }
      ]
    },
    {
      "cell_type": "markdown",
      "metadata": {
        "id": "Hm961CDfLMDt"
      },
      "source": [
        "#### Sentiment Analysis"
      ]
    },
    {
      "cell_type": "code",
      "metadata": {
        "colab": {
          "base_uri": "https://localhost:8080/",
          "height": 202
        },
        "id": "DuI38rMXLxq_",
        "outputId": "146fc9ca-08c2-4105-9141-d5609312a5db"
      },
      "source": [
        "amzn_df['sentiment_score'] = amzn_df['clean'].apply(lambda news: vader.polarity_scores(news)['compound'])\r\n",
        "amzn_df.head()"
      ],
      "execution_count": null,
      "outputs": [
        {
          "output_type": "execute_result",
          "data": {
            "text/html": [
              "<div>\n",
              "<style scoped>\n",
              "    .dataframe tbody tr th:only-of-type {\n",
              "        vertical-align: middle;\n",
              "    }\n",
              "\n",
              "    .dataframe tbody tr th {\n",
              "        vertical-align: top;\n",
              "    }\n",
              "\n",
              "    .dataframe thead th {\n",
              "        text-align: right;\n",
              "    }\n",
              "</style>\n",
              "<table border=\"1\" class=\"dataframe\">\n",
              "  <thead>\n",
              "    <tr style=\"text-align: right;\">\n",
              "      <th></th>\n",
              "      <th>date</th>\n",
              "      <th>headline</th>\n",
              "      <th>summary</th>\n",
              "      <th>url</th>\n",
              "      <th>combined</th>\n",
              "      <th>clean</th>\n",
              "      <th>sentiment_score</th>\n",
              "    </tr>\n",
              "  </thead>\n",
              "  <tbody>\n",
              "    <tr>\n",
              "      <th>0</th>\n",
              "      <td>2020-12-11</td>\n",
              "      <td>Google, Amazon fined total of 135 million euro...</td>\n",
              "      <td>GOOGLE racked up another record fine in the Eu...</td>\n",
              "      <td>https://www.businesstimes.com.sg/technology/go...</td>\n",
              "      <td>Google, Amazon fined total of 135 million euro...</td>\n",
              "      <td>google amazon fined total 135 million euros fr...</td>\n",
              "      <td>-0.1280</td>\n",
              "    </tr>\n",
              "    <tr>\n",
              "      <th>1</th>\n",
              "      <td>2020-12-10</td>\n",
              "      <td>Google, Amazon fined 100m euros by French data...</td>\n",
              "      <td>[LUXEMBOURG] Google racked up another record E...</td>\n",
              "      <td>https://www.businesstimes.com.sg/technology/go...</td>\n",
              "      <td>Google, Amazon fined 100m euros by French data...</td>\n",
              "      <td>google amazon fined 100m euros french data wat...</td>\n",
              "      <td>-0.1280</td>\n",
              "    </tr>\n",
              "    <tr>\n",
              "      <th>2</th>\n",
              "      <td>2020-12-09</td>\n",
              "      <td>Amazon eyes potential US$100m investment in In...</td>\n",
              "      <td>[BENGALURU] Amazon.com Inc is considering a ne...</td>\n",
              "      <td>https://www.businesstimes.com.sg/consumer/amaz...</td>\n",
              "      <td>Amazon eyes potential US$100m investment in In...</td>\n",
              "      <td>amazon eyes potential us100m investment indias...</td>\n",
              "      <td>0.1779</td>\n",
              "    </tr>\n",
              "    <tr>\n",
              "      <th>3</th>\n",
              "      <td>2020-12-04</td>\n",
              "      <td>More than 400 lawmakers from 34 countries back...</td>\n",
              "      <td>[LONDON] More than 400 lawmakers from 34 count...</td>\n",
              "      <td>https://www.businesstimes.com.sg/consumer/more...</td>\n",
              "      <td>More than 400 lawmakers from 34 countries back...</td>\n",
              "      <td>400 lawmakers 34 countries back make amazon pa...</td>\n",
              "      <td>0.1027</td>\n",
              "    </tr>\n",
              "    <tr>\n",
              "      <th>4</th>\n",
              "      <td>2020-12-02</td>\n",
              "      <td>BlackBerry, Amazon team up on smart car softwa...</td>\n",
              "      <td>[SAN FRANCISCO] BlackBerry and Amazon on Tuesd...</td>\n",
              "      <td>https://www.businesstimes.com.sg/transport/bla...</td>\n",
              "      <td>BlackBerry, Amazon team up on smart car softwa...</td>\n",
              "      <td>blackberry amazon team smart car software plat...</td>\n",
              "      <td>0.7351</td>\n",
              "    </tr>\n",
              "  </tbody>\n",
              "</table>\n",
              "</div>"
            ],
            "text/plain": [
              "         date  ... sentiment_score\n",
              "0  2020-12-11  ...         -0.1280\n",
              "1  2020-12-10  ...         -0.1280\n",
              "2  2020-12-09  ...          0.1779\n",
              "3  2020-12-04  ...          0.1027\n",
              "4  2020-12-02  ...          0.7351\n",
              "\n",
              "[5 rows x 7 columns]"
            ]
          },
          "metadata": {
            "tags": []
          },
          "execution_count": 156
        }
      ]
    },
    {
      "cell_type": "markdown",
      "metadata": {
        "id": "YWnRDrkGLPKP"
      },
      "source": [
        "#### Visualisation"
      ]
    },
    {
      "cell_type": "code",
      "metadata": {
        "colab": {
          "base_uri": "https://localhost:8080/",
          "height": 666
        },
        "id": "vG8IBMVpFHIX",
        "outputId": "f9c1b1b6-b591-4f8b-d1e8-fbbb51601634"
      },
      "source": [
        "fig = plt.figure(figsize=(14,8))\r\n",
        "ax = fig.add_axes([0,0,1,1])\r\n",
        "ax.bar(amzn_df['date'], amzn_df['sentiment_score'])\r\n",
        "ax.set_xlabel('Date')\r\n",
        "ax.set_ylabel('Sentiment Scores')\r\n",
        "ax.set_title('Amazon - Sentiment Visualisation')\r\n",
        "plt.show()"
      ],
      "execution_count": null,
      "outputs": [
        {
          "output_type": "display_data",
          "data": {
            "image/png": "[encoded data removed]",
            "text/plain": [
              "<Figure size 1008x576 with 1 Axes>"
            ]
          },
          "metadata": {
            "tags": []
          }
        }
      ]
    },
    {
      "cell_type": "code",
      "metadata": {
        "colab": {
          "base_uri": "https://localhost:8080/",
          "height": 553
        },
        "id": "2RsGKHchMJ4D",
        "outputId": "d9d9287d-f779-4f23-eede-7131191ef716"
      },
      "source": [
        "plt.figure(figsize=(16,8))\r\n",
        "plt.plot(amzn_stock['Close'])\r\n",
        "plt.title('Amazon Close Price History',fontsize = 18)\r\n",
        "plt.xlabel('Date',fontsize=14)\r\n",
        "plt.ylabel('Close Price USD ($)', fontsize = 14)\r\n",
        "plt.show()"
      ],
      "execution_count": null,
      "outputs": [
        {
          "output_type": "display_data",
          "data": {
            "image/png": "[encoded data removed]",
            "text/plain": [
              "<Figure size 1152x576 with 1 Axes>"
            ]
          },
          "metadata": {
            "tags": []
          }
        }
      ]
    },
    {
      "cell_type": "code",
      "metadata": {
        "colab": {
          "base_uri": "https://localhost:8080/"
        },
        "id": "5Dgqnc2GzOm-",
        "outputId": "c0d8ced7-f8d5-4ea2-a061-3846fce492fd"
      },
      "source": [
        "amzn_df['sentiment_score'].sort_values()"
      ],
      "execution_count": null,
      "outputs": [
        {
          "output_type": "execute_result",
          "data": {
            "text/plain": [
              "39   -0.9022\n",
              "20   -0.8074\n",
              "97   -0.6597\n",
              "53   -0.5859\n",
              "49   -0.5719\n",
              "       ...  \n",
              "64    0.8658\n",
              "85    0.8779\n",
              "12    0.8834\n",
              "13    0.9403\n",
              "9     0.9442\n",
              "Name: sentiment_score, Length: 100, dtype: float64"
            ]
          },
          "metadata": {
            "tags": []
          },
          "execution_count": 240
        }
      ]
    },
    {
      "cell_type": "code",
      "metadata": {
        "colab": {
          "base_uri": "https://localhost:8080/",
          "height": 80
        },
        "id": "yyicFqP9zsgD",
        "outputId": "7c0e26c6-8658-4fcb-be79-3c1bae67ebf8"
      },
      "source": [
        "amzn_df[amzn_df['sentiment_score']== -0.9022]"
      ],
      "execution_count": null,
      "outputs": [
        {
          "output_type": "execute_result",
          "data": {
            "text/html": [
              "<div>\n",
              "<style scoped>\n",
              "    .dataframe tbody tr th:only-of-type {\n",
              "        vertical-align: middle;\n",
              "    }\n",
              "\n",
              "    .dataframe tbody tr th {\n",
              "        vertical-align: top;\n",
              "    }\n",
              "\n",
              "    .dataframe thead th {\n",
              "        text-align: right;\n",
              "    }\n",
              "</style>\n",
              "<table border=\"1\" class=\"dataframe\">\n",
              "  <thead>\n",
              "    <tr style=\"text-align: right;\">\n",
              "      <th></th>\n",
              "      <th>date</th>\n",
              "      <th>headline</th>\n",
              "      <th>summary</th>\n",
              "      <th>url</th>\n",
              "      <th>combined</th>\n",
              "      <th>clean</th>\n",
              "      <th>sentiment_score</th>\n",
              "    </tr>\n",
              "  </thead>\n",
              "  <tbody>\n",
              "    <tr>\n",
              "      <th>39</th>\n",
              "      <td>2020-09-24</td>\n",
              "      <td>Netflix, Amazon Prime are latest weapons in In...</td>\n",
              "      <td>[MUMBAI] India's telecom price war is back, an...</td>\n",
              "      <td>https://www.businesstimes.com.sg/technology/ne...</td>\n",
              "      <td>Netflix, Amazon Prime are latest weapons in In...</td>\n",
              "      <td>netflix amazon prime latest weapons indias tel...</td>\n",
              "      <td>-0.9022</td>\n",
              "    </tr>\n",
              "  </tbody>\n",
              "</table>\n",
              "</div>"
            ],
            "text/plain": [
              "          date  ... sentiment_score\n",
              "39  2020-09-24  ...         -0.9022\n",
              "\n",
              "[1 rows x 7 columns]"
            ]
          },
          "metadata": {
            "tags": []
          },
          "execution_count": 241
        }
      ]
    },
    {
      "cell_type": "code",
      "metadata": {
        "colab": {
          "base_uri": "https://localhost:8080/"
        },
        "id": "1zNGEkPDzsl4",
        "outputId": "b9f81e90-7ac9-48bc-acf7-9cbcb4b829f4"
      },
      "source": [
        "print(amzn_df.iloc[39]['combined'])"
      ],
      "execution_count": null,
      "outputs": [
        {
          "output_type": "stream",
          "text": [
            "Netflix, Amazon Prime are latest weapons in India's telecom war [MUMBAI] India's telecom price war is back, and this time the battle is being fought with freebies.\r\n",
            "\n"
          ],
          "name": "stdout"
        }
      ]
    },
    {
      "cell_type": "code",
      "metadata": {
        "colab": {
          "base_uri": "https://localhost:8080/",
          "height": 110
        },
        "id": "9tqyX7bGrC2B",
        "outputId": "17f979ab-cad5-40cb-d263-e64cc24ae5ad"
      },
      "source": [
        "amzn_stock[amzn_stock.index == '2020-09-24']"
      ],
      "execution_count": null,
      "outputs": [
        {
          "output_type": "execute_result",
          "data": {
            "text/html": [
              "<div>\n",
              "<style scoped>\n",
              "    .dataframe tbody tr th:only-of-type {\n",
              "        vertical-align: middle;\n",
              "    }\n",
              "\n",
              "    .dataframe tbody tr th {\n",
              "        vertical-align: top;\n",
              "    }\n",
              "\n",
              "    .dataframe thead th {\n",
              "        text-align: right;\n",
              "    }\n",
              "</style>\n",
              "<table border=\"1\" class=\"dataframe\">\n",
              "  <thead>\n",
              "    <tr style=\"text-align: right;\">\n",
              "      <th></th>\n",
              "      <th>High</th>\n",
              "      <th>Low</th>\n",
              "      <th>Open</th>\n",
              "      <th>Close</th>\n",
              "      <th>Volume</th>\n",
              "      <th>Adj Close</th>\n",
              "      <th>Change</th>\n",
              "    </tr>\n",
              "    <tr>\n",
              "      <th>Date</th>\n",
              "      <th></th>\n",
              "      <th></th>\n",
              "      <th></th>\n",
              "      <th></th>\n",
              "      <th></th>\n",
              "      <th></th>\n",
              "      <th></th>\n",
              "    </tr>\n",
              "  </thead>\n",
              "  <tbody>\n",
              "    <tr>\n",
              "      <th>2020-09-24</th>\n",
              "      <td>3069.300049</td>\n",
              "      <td>2965.0</td>\n",
              "      <td>2977.790039</td>\n",
              "      <td>3019.790039</td>\n",
              "      <td>5529400</td>\n",
              "      <td>3019.790039</td>\n",
              "      <td>19.929932</td>\n",
              "    </tr>\n",
              "  </tbody>\n",
              "</table>\n",
              "</div>"
            ],
            "text/plain": [
              "                   High     Low         Open  ...   Volume    Adj Close     Change\n",
              "Date                                          ...                                 \n",
              "2020-09-24  3069.300049  2965.0  2977.790039  ...  5529400  3019.790039  19.929932\n",
              "\n",
              "[1 rows x 7 columns]"
            ]
          },
          "metadata": {
            "tags": []
          },
          "execution_count": 248
        }
      ]
    },
    {
      "cell_type": "code",
      "metadata": {
        "colab": {
          "base_uri": "https://localhost:8080/",
          "height": 80
        },
        "id": "gyeP92_r0FRP",
        "outputId": "a2f90b00-1908-4d2d-f40f-f2b45e933965"
      },
      "source": [
        "amzn_df[amzn_df['sentiment_score']== -0.8074]"
      ],
      "execution_count": null,
      "outputs": [
        {
          "output_type": "execute_result",
          "data": {
            "text/html": [
              "<div>\n",
              "<style scoped>\n",
              "    .dataframe tbody tr th:only-of-type {\n",
              "        vertical-align: middle;\n",
              "    }\n",
              "\n",
              "    .dataframe tbody tr th {\n",
              "        vertical-align: top;\n",
              "    }\n",
              "\n",
              "    .dataframe thead th {\n",
              "        text-align: right;\n",
              "    }\n",
              "</style>\n",
              "<table border=\"1\" class=\"dataframe\">\n",
              "  <thead>\n",
              "    <tr style=\"text-align: right;\">\n",
              "      <th></th>\n",
              "      <th>date</th>\n",
              "      <th>headline</th>\n",
              "      <th>summary</th>\n",
              "      <th>url</th>\n",
              "      <th>combined</th>\n",
              "      <th>clean</th>\n",
              "      <th>sentiment_score</th>\n",
              "    </tr>\n",
              "  </thead>\n",
              "  <tbody>\n",
              "    <tr>\n",
              "      <th>20</th>\n",
              "      <td>2020-10-27</td>\n",
              "      <td>In fight with Amazon, India's Future Retail se...</td>\n",
              "      <td>[NEW DELHI] India's Future Retail Ltd (FRL) wi...</td>\n",
              "      <td>https://www.businesstimes.com.sg/consumer/in-f...</td>\n",
              "      <td>In fight with Amazon, India's Future Retail se...</td>\n",
              "      <td>fight amazon indias future retail sees liquida...</td>\n",
              "      <td>-0.8074</td>\n",
              "    </tr>\n",
              "  </tbody>\n",
              "</table>\n",
              "</div>"
            ],
            "text/plain": [
              "          date  ... sentiment_score\n",
              "20  2020-10-27  ...         -0.8074\n",
              "\n",
              "[1 rows x 7 columns]"
            ]
          },
          "metadata": {
            "tags": []
          },
          "execution_count": 249
        }
      ]
    },
    {
      "cell_type": "code",
      "metadata": {
        "colab": {
          "base_uri": "https://localhost:8080/"
        },
        "id": "EGvEa2W_0VGD",
        "outputId": "384889ef-d3e0-4995-a72c-b46a5f1ae6df"
      },
      "source": [
        "print(amzn_df.iloc[20]['combined'])"
      ],
      "execution_count": null,
      "outputs": [
        {
          "output_type": "stream",
          "text": [
            "In fight with Amazon, India's Future Retail sees liquidation if Reliance deal fails [NEW DELHI] India's Future Retail Ltd (FRL) will go into liquidation if its deal to sell assets to Reliance Industries fails, the group told a Singapore arbitrator while arguing against Amazon.com's bid to scupper the deal, a legal order seen by Reuters showed.\r\n",
            "\n"
          ],
          "name": "stdout"
        }
      ]
    },
    {
      "cell_type": "code",
      "metadata": {
        "colab": {
          "base_uri": "https://localhost:8080/",
          "height": 110
        },
        "id": "ULrepiO60VKC",
        "outputId": "7848bc8f-13cd-4dae-9c98-41fc374be795"
      },
      "source": [
        "amzn_stock[amzn_stock.index == '2020-10-28']"
      ],
      "execution_count": null,
      "outputs": [
        {
          "output_type": "execute_result",
          "data": {
            "text/html": [
              "<div>\n",
              "<style scoped>\n",
              "    .dataframe tbody tr th:only-of-type {\n",
              "        vertical-align: middle;\n",
              "    }\n",
              "\n",
              "    .dataframe tbody tr th {\n",
              "        vertical-align: top;\n",
              "    }\n",
              "\n",
              "    .dataframe thead th {\n",
              "        text-align: right;\n",
              "    }\n",
              "</style>\n",
              "<table border=\"1\" class=\"dataframe\">\n",
              "  <thead>\n",
              "    <tr style=\"text-align: right;\">\n",
              "      <th></th>\n",
              "      <th>High</th>\n",
              "      <th>Low</th>\n",
              "      <th>Open</th>\n",
              "      <th>Close</th>\n",
              "      <th>Volume</th>\n",
              "      <th>Adj Close</th>\n",
              "      <th>Change</th>\n",
              "    </tr>\n",
              "    <tr>\n",
              "      <th>Date</th>\n",
              "      <th></th>\n",
              "      <th></th>\n",
              "      <th></th>\n",
              "      <th></th>\n",
              "      <th></th>\n",
              "      <th></th>\n",
              "      <th></th>\n",
              "    </tr>\n",
              "  </thead>\n",
              "  <tbody>\n",
              "    <tr>\n",
              "      <th>2020-10-28</th>\n",
              "      <td>3264.02002</td>\n",
              "      <td>3162.469971</td>\n",
              "      <td>3249.300049</td>\n",
              "      <td>3162.780029</td>\n",
              "      <td>5588300</td>\n",
              "      <td>3162.780029</td>\n",
              "      <td>-123.550049</td>\n",
              "    </tr>\n",
              "  </tbody>\n",
              "</table>\n",
              "</div>"
            ],
            "text/plain": [
              "                  High          Low  ...    Adj Close      Change\n",
              "Date                                 ...                         \n",
              "2020-10-28  3264.02002  3162.469971  ...  3162.780029 -123.550049\n",
              "\n",
              "[1 rows x 7 columns]"
            ]
          },
          "metadata": {
            "tags": []
          },
          "execution_count": 252
        }
      ]
    },
    {
      "cell_type": "code",
      "metadata": {
        "colab": {
          "base_uri": "https://localhost:8080/",
          "height": 80
        },
        "id": "mmu7Vhd10j3f",
        "outputId": "3e8667b1-272b-46db-d2d8-fa5603288521"
      },
      "source": [
        "amzn_df[amzn_df['sentiment_score']== 0.9442]"
      ],
      "execution_count": null,
      "outputs": [
        {
          "output_type": "execute_result",
          "data": {
            "text/html": [
              "<div>\n",
              "<style scoped>\n",
              "    .dataframe tbody tr th:only-of-type {\n",
              "        vertical-align: middle;\n",
              "    }\n",
              "\n",
              "    .dataframe tbody tr th {\n",
              "        vertical-align: top;\n",
              "    }\n",
              "\n",
              "    .dataframe thead th {\n",
              "        text-align: right;\n",
              "    }\n",
              "</style>\n",
              "<table border=\"1\" class=\"dataframe\">\n",
              "  <thead>\n",
              "    <tr style=\"text-align: right;\">\n",
              "      <th></th>\n",
              "      <th>date</th>\n",
              "      <th>headline</th>\n",
              "      <th>summary</th>\n",
              "      <th>url</th>\n",
              "      <th>combined</th>\n",
              "      <th>clean</th>\n",
              "      <th>sentiment_score</th>\n",
              "    </tr>\n",
              "  </thead>\n",
              "  <tbody>\n",
              "    <tr>\n",
              "      <th>9</th>\n",
              "      <td>2020-11-27</td>\n",
              "      <td>Amazon to give US$500m in holiday bonuses to f...</td>\n",
              "      <td>[BENGALURU] Amazon.com Inc said on Thursday it...</td>\n",
              "      <td>https://www.businesstimes.com.sg/consumer/amaz...</td>\n",
              "      <td>Amazon to give US$500m in holiday bonuses to f...</td>\n",
              "      <td>amazon give us500m holiday bonuses frontline u...</td>\n",
              "      <td>0.9442</td>\n",
              "    </tr>\n",
              "  </tbody>\n",
              "</table>\n",
              "</div>"
            ],
            "text/plain": [
              "         date  ... sentiment_score\n",
              "9  2020-11-27  ...          0.9442\n",
              "\n",
              "[1 rows x 7 columns]"
            ]
          },
          "metadata": {
            "tags": []
          },
          "execution_count": 256
        }
      ]
    },
    {
      "cell_type": "code",
      "metadata": {
        "colab": {
          "base_uri": "https://localhost:8080/"
        },
        "id": "kwB8PZ2h0w6m",
        "outputId": "947f23ba-11b7-490b-c6c9-6b7d17fe3bae"
      },
      "source": [
        "print(amzn_df.iloc[9]['combined'])"
      ],
      "execution_count": null,
      "outputs": [
        {
          "output_type": "stream",
          "text": [
            "Amazon to give US$500m in holiday bonuses to front-line US workers [BENGALURU] Amazon.com Inc said on Thursday it would spend more than US$500 million on one-time bonuses for its front-line employees in the United States who are working the holiday season amid the Covid-19 pandemic.\r\n",
            "\n"
          ],
          "name": "stdout"
        }
      ]
    },
    {
      "cell_type": "code",
      "metadata": {
        "colab": {
          "base_uri": "https://localhost:8080/",
          "height": 110
        },
        "id": "TLlNby040w-B",
        "outputId": "c6d29e37-b0e0-4705-cad8-51f247f0387a"
      },
      "source": [
        "amzn_stock[amzn_stock.index == '2020-11-27']"
      ],
      "execution_count": null,
      "outputs": [
        {
          "output_type": "execute_result",
          "data": {
            "text/html": [
              "<div>\n",
              "<style scoped>\n",
              "    .dataframe tbody tr th:only-of-type {\n",
              "        vertical-align: middle;\n",
              "    }\n",
              "\n",
              "    .dataframe tbody tr th {\n",
              "        vertical-align: top;\n",
              "    }\n",
              "\n",
              "    .dataframe thead th {\n",
              "        text-align: right;\n",
              "    }\n",
              "</style>\n",
              "<table border=\"1\" class=\"dataframe\">\n",
              "  <thead>\n",
              "    <tr style=\"text-align: right;\">\n",
              "      <th></th>\n",
              "      <th>High</th>\n",
              "      <th>Low</th>\n",
              "      <th>Open</th>\n",
              "      <th>Close</th>\n",
              "      <th>Volume</th>\n",
              "      <th>Adj Close</th>\n",
              "      <th>Change</th>\n",
              "    </tr>\n",
              "    <tr>\n",
              "      <th>Date</th>\n",
              "      <th></th>\n",
              "      <th></th>\n",
              "      <th></th>\n",
              "      <th></th>\n",
              "      <th></th>\n",
              "      <th></th>\n",
              "      <th></th>\n",
              "    </tr>\n",
              "  </thead>\n",
              "  <tbody>\n",
              "    <tr>\n",
              "      <th>2020-11-27</th>\n",
              "      <td>3216.189941</td>\n",
              "      <td>3190.050049</td>\n",
              "      <td>3211.26001</td>\n",
              "      <td>3195.340088</td>\n",
              "      <td>2392900</td>\n",
              "      <td>3195.340088</td>\n",
              "      <td>10.27002</td>\n",
              "    </tr>\n",
              "  </tbody>\n",
              "</table>\n",
              "</div>"
            ],
            "text/plain": [
              "                   High          Low  ...    Adj Close    Change\n",
              "Date                                  ...                       \n",
              "2020-11-27  3216.189941  3190.050049  ...  3195.340088  10.27002\n",
              "\n",
              "[1 rows x 7 columns]"
            ]
          },
          "metadata": {
            "tags": []
          },
          "execution_count": 261
        }
      ]
    },
    {
      "cell_type": "code",
      "metadata": {
        "colab": {
          "base_uri": "https://localhost:8080/",
          "height": 80
        },
        "id": "aGQs0Npn1VKP",
        "outputId": "92a712fe-9d7a-49b6-bbfb-f37e9041aeb3"
      },
      "source": [
        "amzn_df[amzn_df['sentiment_score']== 0.8834]"
      ],
      "execution_count": null,
      "outputs": [
        {
          "output_type": "execute_result",
          "data": {
            "text/html": [
              "<div>\n",
              "<style scoped>\n",
              "    .dataframe tbody tr th:only-of-type {\n",
              "        vertical-align: middle;\n",
              "    }\n",
              "\n",
              "    .dataframe tbody tr th {\n",
              "        vertical-align: top;\n",
              "    }\n",
              "\n",
              "    .dataframe thead th {\n",
              "        text-align: right;\n",
              "    }\n",
              "</style>\n",
              "<table border=\"1\" class=\"dataframe\">\n",
              "  <thead>\n",
              "    <tr style=\"text-align: right;\">\n",
              "      <th></th>\n",
              "      <th>date</th>\n",
              "      <th>headline</th>\n",
              "      <th>summary</th>\n",
              "      <th>url</th>\n",
              "      <th>combined</th>\n",
              "      <th>clean</th>\n",
              "      <th>sentiment_score</th>\n",
              "    </tr>\n",
              "  </thead>\n",
              "  <tbody>\n",
              "    <tr>\n",
              "      <th>12</th>\n",
              "      <td>2020-11-25</td>\n",
              "      <td>Amazon's US$3,000 signing bonuses irk workers ...</td>\n",
              "      <td>[SEATTLE] Amazon.com is doling out hiring bonu...</td>\n",
              "      <td>https://www.businesstimes.com.sg/consumer/amaz...</td>\n",
              "      <td>Amazon's US$3,000 signing bonuses irk workers ...</td>\n",
              "      <td>amazons us3000 signing bonuses irk workers got...</td>\n",
              "      <td>0.8834</td>\n",
              "    </tr>\n",
              "  </tbody>\n",
              "</table>\n",
              "</div>"
            ],
            "text/plain": [
              "          date  ... sentiment_score\n",
              "12  2020-11-25  ...          0.8834\n",
              "\n",
              "[1 rows x 7 columns]"
            ]
          },
          "metadata": {
            "tags": []
          },
          "execution_count": 267
        }
      ]
    },
    {
      "cell_type": "code",
      "metadata": {
        "colab": {
          "base_uri": "https://localhost:8080/"
        },
        "id": "prNPXqVP1j1v",
        "outputId": "a80787ef-8cbb-4282-92ad-31049c890dab"
      },
      "source": [
        "print(amzn_df.iloc[12]['combined'])"
      ],
      "execution_count": null,
      "outputs": [
        {
          "output_type": "stream",
          "text": [
            "Amazon's US$3,000 signing bonuses irk workers who got US$10 coupons [SEATTLE] Amazon.com is doling out hiring bonuses as high as US$3,000 to make sure it has enough people to squeak through the busy holiday shopping season. That's stoking resentment among existing workers who recently got coupons for Thanksgiving turkeys as a thank you for their hard work.\r\n",
            "\n"
          ],
          "name": "stdout"
        }
      ]
    },
    {
      "cell_type": "code",
      "metadata": {
        "colab": {
          "base_uri": "https://localhost:8080/",
          "height": 110
        },
        "id": "JDK-u7BU1lTX",
        "outputId": "feb24761-79e8-4c55-88d6-879e9fcfb1d8"
      },
      "source": [
        "amzn_stock[amzn_stock.index == '2020-11-25']"
      ],
      "execution_count": null,
      "outputs": [
        {
          "output_type": "execute_result",
          "data": {
            "text/html": [
              "<div>\n",
              "<style scoped>\n",
              "    .dataframe tbody tr th:only-of-type {\n",
              "        vertical-align: middle;\n",
              "    }\n",
              "\n",
              "    .dataframe tbody tr th {\n",
              "        vertical-align: top;\n",
              "    }\n",
              "\n",
              "    .dataframe thead th {\n",
              "        text-align: right;\n",
              "    }\n",
              "</style>\n",
              "<table border=\"1\" class=\"dataframe\">\n",
              "  <thead>\n",
              "    <tr style=\"text-align: right;\">\n",
              "      <th></th>\n",
              "      <th>High</th>\n",
              "      <th>Low</th>\n",
              "      <th>Open</th>\n",
              "      <th>Close</th>\n",
              "      <th>Volume</th>\n",
              "      <th>Adj Close</th>\n",
              "      <th>Change</th>\n",
              "    </tr>\n",
              "    <tr>\n",
              "      <th>Date</th>\n",
              "      <th></th>\n",
              "      <th></th>\n",
              "      <th></th>\n",
              "      <th></th>\n",
              "      <th></th>\n",
              "      <th></th>\n",
              "      <th></th>\n",
              "    </tr>\n",
              "  </thead>\n",
              "  <tbody>\n",
              "    <tr>\n",
              "      <th>2020-11-25</th>\n",
              "      <td>3198.0</td>\n",
              "      <td>3140.26001</td>\n",
              "      <td>3141.870117</td>\n",
              "      <td>3185.070068</td>\n",
              "      <td>3790400</td>\n",
              "      <td>3185.070068</td>\n",
              "      <td>67.01001</td>\n",
              "    </tr>\n",
              "  </tbody>\n",
              "</table>\n",
              "</div>"
            ],
            "text/plain": [
              "              High         Low         Open  ...   Volume    Adj Close    Change\n",
              "Date                                         ...                                \n",
              "2020-11-25  3198.0  3140.26001  3141.870117  ...  3790400  3185.070068  67.01001\n",
              "\n",
              "[1 rows x 7 columns]"
            ]
          },
          "metadata": {
            "tags": []
          },
          "execution_count": 269
        }
      ]
    },
    {
      "cell_type": "markdown",
      "metadata": {
        "id": "lRE9DKxg2UAD"
      },
      "source": [
        "### Apple"
      ]
    },
    {
      "cell_type": "markdown",
      "metadata": {
        "id": "U5-vjJD-2WkD"
      },
      "source": [
        "#### Pre-processing and Data Preparation"
      ]
    },
    {
      "cell_type": "code",
      "metadata": {
        "colab": {
          "base_uri": "https://localhost:8080/",
          "height": 202
        },
        "id": "zSiMYuuR20HL",
        "outputId": "c21cd5be-6b0f-4521-bfc1-a8114559657c"
      },
      "source": [
        "apple_df.head()"
      ],
      "execution_count": null,
      "outputs": [
        {
          "output_type": "execute_result",
          "data": {
            "text/html": [
              "<div>\n",
              "<style scoped>\n",
              "    .dataframe tbody tr th:only-of-type {\n",
              "        vertical-align: middle;\n",
              "    }\n",
              "\n",
              "    .dataframe tbody tr th {\n",
              "        vertical-align: top;\n",
              "    }\n",
              "\n",
              "    .dataframe thead th {\n",
              "        text-align: right;\n",
              "    }\n",
              "</style>\n",
              "<table border=\"1\" class=\"dataframe\">\n",
              "  <thead>\n",
              "    <tr style=\"text-align: right;\">\n",
              "      <th></th>\n",
              "      <th>date</th>\n",
              "      <th>headline</th>\n",
              "      <th>summary</th>\n",
              "      <th>url</th>\n",
              "    </tr>\n",
              "  </thead>\n",
              "  <tbody>\n",
              "    <tr>\n",
              "      <th>0</th>\n",
              "      <td>12 Dec 2020</td>\n",
              "      <td>Apple's greatest chip challenge yet: replacing...</td>\n",
              "      <td>[SAN FRANCISCO] Apple has become a chip powerh...</td>\n",
              "      <td>https://www.businesstimes.com.sg/technology/ap...</td>\n",
              "    </tr>\n",
              "    <tr>\n",
              "      <th>1</th>\n",
              "      <td>08 Dec 2020</td>\n",
              "      <td>Apple could block apps that don't comply with ...</td>\n",
              "      <td>[STOCKHOLM] Apple threatened on Tuesday to rem...</td>\n",
              "      <td>https://www.businesstimes.com.sg/consumer/appl...</td>\n",
              "    </tr>\n",
              "    <tr>\n",
              "      <th>2</th>\n",
              "      <td>08 Dec 2020</td>\n",
              "      <td>Apple launches US$550 over-ear headphones into...</td>\n",
              "      <td>[CUPERTINO] Apple launched its first over-ear ...</td>\n",
              "      <td>https://www.businesstimes.com.sg/technology/ap...</td>\n",
              "    </tr>\n",
              "    <tr>\n",
              "      <th>3</th>\n",
              "      <td>04 Dec 2020</td>\n",
              "      <td>Apple Pay targeted in Dutch antitrust probe in...</td>\n",
              "      <td>[AMSTERDAM] Apple phones face scrutiny from Du...</td>\n",
              "      <td>https://www.businesstimes.com.sg/consumer/appl...</td>\n",
              "    </tr>\n",
              "    <tr>\n",
              "      <th>4</th>\n",
              "      <td>01 Dec 2020</td>\n",
              "      <td>Amazon unveils cloud service to power Apple ap...</td>\n",
              "      <td>[SEATTLE] Amazon.com's cloud business unveiled...</td>\n",
              "      <td>https://www.businesstimes.com.sg/technology/am...</td>\n",
              "    </tr>\n",
              "  </tbody>\n",
              "</table>\n",
              "</div>"
            ],
            "text/plain": [
              "          date  ...                                                url\n",
              "0  12 Dec 2020  ...  https://www.businesstimes.com.sg/technology/ap...\n",
              "1  08 Dec 2020  ...  https://www.businesstimes.com.sg/consumer/appl...\n",
              "2  08 Dec 2020  ...  https://www.businesstimes.com.sg/technology/ap...\n",
              "3  04 Dec 2020  ...  https://www.businesstimes.com.sg/consumer/appl...\n",
              "4  01 Dec 2020  ...  https://www.businesstimes.com.sg/technology/am...\n",
              "\n",
              "[5 rows x 4 columns]"
            ]
          },
          "metadata": {
            "tags": []
          },
          "execution_count": 270
        }
      ]
    },
    {
      "cell_type": "code",
      "metadata": {
        "colab": {
          "base_uri": "https://localhost:8080/",
          "height": 202
        },
        "id": "gib7I3th20Mx",
        "outputId": "7ef0e61a-a20f-4eca-dc90-fc67b21e2b1a"
      },
      "source": [
        "apple_df['combined'] = apple_df['headline'] + ' ' + apple_df['summary']\r\n",
        "apple_df['date'] = pd.to_datetime(apple_df['date']).dt.date\r\n",
        "apple_df['clean'] = apple_df['combined'].apply(text_cleaner)\r\n",
        "apple_df.head()"
      ],
      "execution_count": null,
      "outputs": [
        {
          "output_type": "execute_result",
          "data": {
            "text/html": [
              "<div>\n",
              "<style scoped>\n",
              "    .dataframe tbody tr th:only-of-type {\n",
              "        vertical-align: middle;\n",
              "    }\n",
              "\n",
              "    .dataframe tbody tr th {\n",
              "        vertical-align: top;\n",
              "    }\n",
              "\n",
              "    .dataframe thead th {\n",
              "        text-align: right;\n",
              "    }\n",
              "</style>\n",
              "<table border=\"1\" class=\"dataframe\">\n",
              "  <thead>\n",
              "    <tr style=\"text-align: right;\">\n",
              "      <th></th>\n",
              "      <th>date</th>\n",
              "      <th>headline</th>\n",
              "      <th>summary</th>\n",
              "      <th>url</th>\n",
              "      <th>combined</th>\n",
              "      <th>clean</th>\n",
              "    </tr>\n",
              "  </thead>\n",
              "  <tbody>\n",
              "    <tr>\n",
              "      <th>0</th>\n",
              "      <td>2020-12-12</td>\n",
              "      <td>Apple's greatest chip challenge yet: replacing...</td>\n",
              "      <td>[SAN FRANCISCO] Apple has become a chip powerh...</td>\n",
              "      <td>https://www.businesstimes.com.sg/technology/ap...</td>\n",
              "      <td>Apple's greatest chip challenge yet: replacing...</td>\n",
              "      <td>apples greatest chip challenge yet replacing q...</td>\n",
              "    </tr>\n",
              "    <tr>\n",
              "      <th>1</th>\n",
              "      <td>2020-12-08</td>\n",
              "      <td>Apple could block apps that don't comply with ...</td>\n",
              "      <td>[STOCKHOLM] Apple threatened on Tuesday to rem...</td>\n",
              "      <td>https://www.businesstimes.com.sg/consumer/appl...</td>\n",
              "      <td>Apple could block apps that don't comply with ...</td>\n",
              "      <td>apple could block apps dont comply new privacy...</td>\n",
              "    </tr>\n",
              "    <tr>\n",
              "      <th>2</th>\n",
              "      <td>2020-12-08</td>\n",
              "      <td>Apple launches US$550 over-ear headphones into...</td>\n",
              "      <td>[CUPERTINO] Apple launched its first over-ear ...</td>\n",
              "      <td>https://www.businesstimes.com.sg/technology/ap...</td>\n",
              "      <td>Apple launches US$550 over-ear headphones into...</td>\n",
              "      <td>apple launches us550 overear headphones crowde...</td>\n",
              "    </tr>\n",
              "    <tr>\n",
              "      <th>3</th>\n",
              "      <td>2020-12-04</td>\n",
              "      <td>Apple Pay targeted in Dutch antitrust probe in...</td>\n",
              "      <td>[AMSTERDAM] Apple phones face scrutiny from Du...</td>\n",
              "      <td>https://www.businesstimes.com.sg/consumer/appl...</td>\n",
              "      <td>Apple Pay targeted in Dutch antitrust probe in...</td>\n",
              "      <td>apple pay targeted dutch antitrust probe payme...</td>\n",
              "    </tr>\n",
              "    <tr>\n",
              "      <th>4</th>\n",
              "      <td>2020-12-01</td>\n",
              "      <td>Amazon unveils cloud service to power Apple ap...</td>\n",
              "      <td>[SEATTLE] Amazon.com's cloud business unveiled...</td>\n",
              "      <td>https://www.businesstimes.com.sg/technology/am...</td>\n",
              "      <td>Amazon unveils cloud service to power Apple ap...</td>\n",
              "      <td>amazon unveils cloud service power apple app d...</td>\n",
              "    </tr>\n",
              "  </tbody>\n",
              "</table>\n",
              "</div>"
            ],
            "text/plain": [
              "         date  ...                                              clean\n",
              "0  2020-12-12  ...  apples greatest chip challenge yet replacing q...\n",
              "1  2020-12-08  ...  apple could block apps dont comply new privacy...\n",
              "2  2020-12-08  ...  apple launches us550 overear headphones crowde...\n",
              "3  2020-12-04  ...  apple pay targeted dutch antitrust probe payme...\n",
              "4  2020-12-01  ...  amazon unveils cloud service power apple app d...\n",
              "\n",
              "[5 rows x 6 columns]"
            ]
          },
          "metadata": {
            "tags": []
          },
          "execution_count": 271
        }
      ]
    },
    {
      "cell_type": "code",
      "metadata": {
        "colab": {
          "base_uri": "https://localhost:8080/",
          "height": 233
        },
        "id": "sipJ_Mw_20dw",
        "outputId": "c54603b0-cef1-42cb-924b-a8eff3b41c2b"
      },
      "source": [
        "apple_stock['Change']=apple_stock['Close'].diff()\r\n",
        "apple_stock.head()"
      ],
      "execution_count": null,
      "outputs": [
        {
          "output_type": "execute_result",
          "data": {
            "text/html": [
              "<div>\n",
              "<style scoped>\n",
              "    .dataframe tbody tr th:only-of-type {\n",
              "        vertical-align: middle;\n",
              "    }\n",
              "\n",
              "    .dataframe tbody tr th {\n",
              "        vertical-align: top;\n",
              "    }\n",
              "\n",
              "    .dataframe thead th {\n",
              "        text-align: right;\n",
              "    }\n",
              "</style>\n",
              "<table border=\"1\" class=\"dataframe\">\n",
              "  <thead>\n",
              "    <tr style=\"text-align: right;\">\n",
              "      <th></th>\n",
              "      <th>High</th>\n",
              "      <th>Low</th>\n",
              "      <th>Open</th>\n",
              "      <th>Close</th>\n",
              "      <th>Volume</th>\n",
              "      <th>Adj Close</th>\n",
              "      <th>Change</th>\n",
              "    </tr>\n",
              "    <tr>\n",
              "      <th>Date</th>\n",
              "      <th></th>\n",
              "      <th></th>\n",
              "      <th></th>\n",
              "      <th></th>\n",
              "      <th></th>\n",
              "      <th></th>\n",
              "      <th></th>\n",
              "    </tr>\n",
              "  </thead>\n",
              "  <tbody>\n",
              "    <tr>\n",
              "      <th>2020-07-21</th>\n",
              "      <td>99.250000</td>\n",
              "      <td>96.742500</td>\n",
              "      <td>99.172501</td>\n",
              "      <td>97.000000</td>\n",
              "      <td>103646000.0</td>\n",
              "      <td>96.658661</td>\n",
              "      <td>NaN</td>\n",
              "    </tr>\n",
              "    <tr>\n",
              "      <th>2020-07-22</th>\n",
              "      <td>97.974998</td>\n",
              "      <td>96.602501</td>\n",
              "      <td>96.692497</td>\n",
              "      <td>97.272499</td>\n",
              "      <td>89001600.0</td>\n",
              "      <td>96.930199</td>\n",
              "      <td>0.272499</td>\n",
              "    </tr>\n",
              "    <tr>\n",
              "      <th>2020-07-23</th>\n",
              "      <td>97.077499</td>\n",
              "      <td>92.010002</td>\n",
              "      <td>96.997498</td>\n",
              "      <td>92.845001</td>\n",
              "      <td>197004400.0</td>\n",
              "      <td>92.518288</td>\n",
              "      <td>-4.427498</td>\n",
              "    </tr>\n",
              "    <tr>\n",
              "      <th>2020-07-24</th>\n",
              "      <td>92.970001</td>\n",
              "      <td>89.144997</td>\n",
              "      <td>90.987503</td>\n",
              "      <td>92.614998</td>\n",
              "      <td>185438800.0</td>\n",
              "      <td>92.289093</td>\n",
              "      <td>-0.230003</td>\n",
              "    </tr>\n",
              "    <tr>\n",
              "      <th>2020-07-27</th>\n",
              "      <td>94.904999</td>\n",
              "      <td>93.480003</td>\n",
              "      <td>93.709999</td>\n",
              "      <td>94.809998</td>\n",
              "      <td>121214000.0</td>\n",
              "      <td>94.476364</td>\n",
              "      <td>2.195000</td>\n",
              "    </tr>\n",
              "  </tbody>\n",
              "</table>\n",
              "</div>"
            ],
            "text/plain": [
              "                 High        Low       Open  ...       Volume  Adj Close    Change\n",
              "Date                                         ...                                  \n",
              "2020-07-21  99.250000  96.742500  99.172501  ...  103646000.0  96.658661       NaN\n",
              "2020-07-22  97.974998  96.602501  96.692497  ...   89001600.0  96.930199  0.272499\n",
              "2020-07-23  97.077499  92.010002  96.997498  ...  197004400.0  92.518288 -4.427498\n",
              "2020-07-24  92.970001  89.144997  90.987503  ...  185438800.0  92.289093 -0.230003\n",
              "2020-07-27  94.904999  93.480003  93.709999  ...  121214000.0  94.476364  2.195000\n",
              "\n",
              "[5 rows x 7 columns]"
            ]
          },
          "metadata": {
            "tags": []
          },
          "execution_count": 272
        }
      ]
    },
    {
      "cell_type": "code",
      "metadata": {
        "colab": {
          "base_uri": "https://localhost:8080/",
          "height": 110
        },
        "id": "NHx7Kj5C3OsF",
        "outputId": "c43cd460-d156-4a34-db4b-b716d5b1e420"
      },
      "source": [
        "web.DataReader('AAPL', data_source='yahoo', start='2020-07-20',end='2020-07-20')"
      ],
      "execution_count": null,
      "outputs": [
        {
          "output_type": "execute_result",
          "data": {
            "text/html": [
              "<div>\n",
              "<style scoped>\n",
              "    .dataframe tbody tr th:only-of-type {\n",
              "        vertical-align: middle;\n",
              "    }\n",
              "\n",
              "    .dataframe tbody tr th {\n",
              "        vertical-align: top;\n",
              "    }\n",
              "\n",
              "    .dataframe thead th {\n",
              "        text-align: right;\n",
              "    }\n",
              "</style>\n",
              "<table border=\"1\" class=\"dataframe\">\n",
              "  <thead>\n",
              "    <tr style=\"text-align: right;\">\n",
              "      <th></th>\n",
              "      <th>High</th>\n",
              "      <th>Low</th>\n",
              "      <th>Open</th>\n",
              "      <th>Close</th>\n",
              "      <th>Volume</th>\n",
              "      <th>Adj Close</th>\n",
              "    </tr>\n",
              "    <tr>\n",
              "      <th>Date</th>\n",
              "      <th></th>\n",
              "      <th></th>\n",
              "      <th></th>\n",
              "      <th></th>\n",
              "      <th></th>\n",
              "      <th></th>\n",
              "    </tr>\n",
              "  </thead>\n",
              "  <tbody>\n",
              "    <tr>\n",
              "      <th>2020-07-20</th>\n",
              "      <td>98.5</td>\n",
              "      <td>96.0625</td>\n",
              "      <td>96.417503</td>\n",
              "      <td>98.357498</td>\n",
              "      <td>90318000</td>\n",
              "      <td>98.011391</td>\n",
              "    </tr>\n",
              "  </tbody>\n",
              "</table>\n",
              "</div>"
            ],
            "text/plain": [
              "            High      Low       Open      Close    Volume  Adj Close\n",
              "Date                                                                \n",
              "2020-07-20  98.5  96.0625  96.417503  98.357498  90318000  98.011391"
            ]
          },
          "metadata": {
            "tags": []
          },
          "execution_count": 273
        }
      ]
    },
    {
      "cell_type": "code",
      "metadata": {
        "colab": {
          "base_uri": "https://localhost:8080/",
          "height": 337
        },
        "id": "I-diCpYm3Ovx",
        "outputId": "1156c112-fb97-452e-e43c-5b0fc3886d82"
      },
      "source": [
        "apple_stock.iloc[:1]['Change'] = apple_stock.iloc[:1]['Close'] - 98.357498\r\n",
        "apple_stock.head()"
      ],
      "execution_count": null,
      "outputs": [
        {
          "output_type": "stream",
          "text": [
            "/usr/local/lib/python3.6/dist-packages/ipykernel_launcher.py:1: SettingWithCopyWarning: \n",
            "A value is trying to be set on a copy of a slice from a DataFrame.\n",
            "Try using .loc[row_indexer,col_indexer] = value instead\n",
            "\n",
            "See the caveats in the documentation: https://pandas.pydata.org/pandas-docs/stable/user_guide/indexing.html#returning-a-view-versus-a-copy\n",
            "  \"\"\"Entry point for launching an IPython kernel.\n"
          ],
          "name": "stderr"
        },
        {
          "output_type": "execute_result",
          "data": {
            "text/html": [
              "<div>\n",
              "<style scoped>\n",
              "    .dataframe tbody tr th:only-of-type {\n",
              "        vertical-align: middle;\n",
              "    }\n",
              "\n",
              "    .dataframe tbody tr th {\n",
              "        vertical-align: top;\n",
              "    }\n",
              "\n",
              "    .dataframe thead th {\n",
              "        text-align: right;\n",
              "    }\n",
              "</style>\n",
              "<table border=\"1\" class=\"dataframe\">\n",
              "  <thead>\n",
              "    <tr style=\"text-align: right;\">\n",
              "      <th></th>\n",
              "      <th>High</th>\n",
              "      <th>Low</th>\n",
              "      <th>Open</th>\n",
              "      <th>Close</th>\n",
              "      <th>Volume</th>\n",
              "      <th>Adj Close</th>\n",
              "      <th>Change</th>\n",
              "    </tr>\n",
              "    <tr>\n",
              "      <th>Date</th>\n",
              "      <th></th>\n",
              "      <th></th>\n",
              "      <th></th>\n",
              "      <th></th>\n",
              "      <th></th>\n",
              "      <th></th>\n",
              "      <th></th>\n",
              "    </tr>\n",
              "  </thead>\n",
              "  <tbody>\n",
              "    <tr>\n",
              "      <th>2020-07-21</th>\n",
              "      <td>99.250000</td>\n",
              "      <td>96.742500</td>\n",
              "      <td>99.172501</td>\n",
              "      <td>97.000000</td>\n",
              "      <td>103646000.0</td>\n",
              "      <td>96.658661</td>\n",
              "      <td>-1.357498</td>\n",
              "    </tr>\n",
              "    <tr>\n",
              "      <th>2020-07-22</th>\n",
              "      <td>97.974998</td>\n",
              "      <td>96.602501</td>\n",
              "      <td>96.692497</td>\n",
              "      <td>97.272499</td>\n",
              "      <td>89001600.0</td>\n",
              "      <td>96.930199</td>\n",
              "      <td>0.272499</td>\n",
              "    </tr>\n",
              "    <tr>\n",
              "      <th>2020-07-23</th>\n",
              "      <td>97.077499</td>\n",
              "      <td>92.010002</td>\n",
              "      <td>96.997498</td>\n",
              "      <td>92.845001</td>\n",
              "      <td>197004400.0</td>\n",
              "      <td>92.518288</td>\n",
              "      <td>-4.427498</td>\n",
              "    </tr>\n",
              "    <tr>\n",
              "      <th>2020-07-24</th>\n",
              "      <td>92.970001</td>\n",
              "      <td>89.144997</td>\n",
              "      <td>90.987503</td>\n",
              "      <td>92.614998</td>\n",
              "      <td>185438800.0</td>\n",
              "      <td>92.289093</td>\n",
              "      <td>-0.230003</td>\n",
              "    </tr>\n",
              "    <tr>\n",
              "      <th>2020-07-27</th>\n",
              "      <td>94.904999</td>\n",
              "      <td>93.480003</td>\n",
              "      <td>93.709999</td>\n",
              "      <td>94.809998</td>\n",
              "      <td>121214000.0</td>\n",
              "      <td>94.476364</td>\n",
              "      <td>2.195000</td>\n",
              "    </tr>\n",
              "  </tbody>\n",
              "</table>\n",
              "</div>"
            ],
            "text/plain": [
              "                 High        Low       Open  ...       Volume  Adj Close    Change\n",
              "Date                                         ...                                  \n",
              "2020-07-21  99.250000  96.742500  99.172501  ...  103646000.0  96.658661 -1.357498\n",
              "2020-07-22  97.974998  96.602501  96.692497  ...   89001600.0  96.930199  0.272499\n",
              "2020-07-23  97.077499  92.010002  96.997498  ...  197004400.0  92.518288 -4.427498\n",
              "2020-07-24  92.970001  89.144997  90.987503  ...  185438800.0  92.289093 -0.230003\n",
              "2020-07-27  94.904999  93.480003  93.709999  ...  121214000.0  94.476364  2.195000\n",
              "\n",
              "[5 rows x 7 columns]"
            ]
          },
          "metadata": {
            "tags": []
          },
          "execution_count": 274
        }
      ]
    },
    {
      "cell_type": "markdown",
      "metadata": {
        "id": "M2EYkING2W1Y"
      },
      "source": [
        "#### Sentiment Analysis"
      ]
    },
    {
      "cell_type": "code",
      "metadata": {
        "colab": {
          "base_uri": "https://localhost:8080/",
          "height": 202
        },
        "id": "GXpdLqhN3w3r",
        "outputId": "86fdcd92-5a3a-4d3c-8454-27f0c6ebb70f"
      },
      "source": [
        "apple_df['sentiment_score'] = apple_df['clean'].apply(lambda news: vader.polarity_scores(news)['compound'])\r\n",
        "apple_df.head()"
      ],
      "execution_count": null,
      "outputs": [
        {
          "output_type": "execute_result",
          "data": {
            "text/html": [
              "<div>\n",
              "<style scoped>\n",
              "    .dataframe tbody tr th:only-of-type {\n",
              "        vertical-align: middle;\n",
              "    }\n",
              "\n",
              "    .dataframe tbody tr th {\n",
              "        vertical-align: top;\n",
              "    }\n",
              "\n",
              "    .dataframe thead th {\n",
              "        text-align: right;\n",
              "    }\n",
              "</style>\n",
              "<table border=\"1\" class=\"dataframe\">\n",
              "  <thead>\n",
              "    <tr style=\"text-align: right;\">\n",
              "      <th></th>\n",
              "      <th>date</th>\n",
              "      <th>headline</th>\n",
              "      <th>summary</th>\n",
              "      <th>url</th>\n",
              "      <th>combined</th>\n",
              "      <th>clean</th>\n",
              "      <th>sentiment_score</th>\n",
              "    </tr>\n",
              "  </thead>\n",
              "  <tbody>\n",
              "    <tr>\n",
              "      <th>0</th>\n",
              "      <td>2020-12-12</td>\n",
              "      <td>Apple's greatest chip challenge yet: replacing...</td>\n",
              "      <td>[SAN FRANCISCO] Apple has become a chip powerh...</td>\n",
              "      <td>https://www.businesstimes.com.sg/technology/ap...</td>\n",
              "      <td>Apple's greatest chip challenge yet: replacing...</td>\n",
              "      <td>apples greatest chip challenge yet replacing q...</td>\n",
              "      <td>0.4215</td>\n",
              "    </tr>\n",
              "    <tr>\n",
              "      <th>1</th>\n",
              "      <td>2020-12-08</td>\n",
              "      <td>Apple could block apps that don't comply with ...</td>\n",
              "      <td>[STOCKHOLM] Apple threatened on Tuesday to rem...</td>\n",
              "      <td>https://www.businesstimes.com.sg/consumer/appl...</td>\n",
              "      <td>Apple could block apps that don't comply with ...</td>\n",
              "      <td>apple could block apps dont comply new privacy...</td>\n",
              "      <td>-0.8316</td>\n",
              "    </tr>\n",
              "    <tr>\n",
              "      <th>2</th>\n",
              "      <td>2020-12-08</td>\n",
              "      <td>Apple launches US$550 over-ear headphones into...</td>\n",
              "      <td>[CUPERTINO] Apple launched its first over-ear ...</td>\n",
              "      <td>https://www.businesstimes.com.sg/technology/ap...</td>\n",
              "      <td>Apple launches US$550 over-ear headphones into...</td>\n",
              "      <td>apple launches us550 overear headphones crowde...</td>\n",
              "      <td>0.2960</td>\n",
              "    </tr>\n",
              "    <tr>\n",
              "      <th>3</th>\n",
              "      <td>2020-12-04</td>\n",
              "      <td>Apple Pay targeted in Dutch antitrust probe in...</td>\n",
              "      <td>[AMSTERDAM] Apple phones face scrutiny from Du...</td>\n",
              "      <td>https://www.businesstimes.com.sg/consumer/appl...</td>\n",
              "      <td>Apple Pay targeted in Dutch antitrust probe in...</td>\n",
              "      <td>apple pay targeted dutch antitrust probe payme...</td>\n",
              "      <td>0.4404</td>\n",
              "    </tr>\n",
              "    <tr>\n",
              "      <th>4</th>\n",
              "      <td>2020-12-01</td>\n",
              "      <td>Amazon unveils cloud service to power Apple ap...</td>\n",
              "      <td>[SEATTLE] Amazon.com's cloud business unveiled...</td>\n",
              "      <td>https://www.businesstimes.com.sg/technology/am...</td>\n",
              "      <td>Amazon unveils cloud service to power Apple ap...</td>\n",
              "      <td>amazon unveils cloud service power apple app d...</td>\n",
              "      <td>0.1779</td>\n",
              "    </tr>\n",
              "  </tbody>\n",
              "</table>\n",
              "</div>"
            ],
            "text/plain": [
              "         date  ... sentiment_score\n",
              "0  2020-12-12  ...          0.4215\n",
              "1  2020-12-08  ...         -0.8316\n",
              "2  2020-12-08  ...          0.2960\n",
              "3  2020-12-04  ...          0.4404\n",
              "4  2020-12-01  ...          0.1779\n",
              "\n",
              "[5 rows x 7 columns]"
            ]
          },
          "metadata": {
            "tags": []
          },
          "execution_count": 275
        }
      ]
    },
    {
      "cell_type": "markdown",
      "metadata": {
        "id": "01DIuiTs2XD_"
      },
      "source": [
        "#### Visualisation"
      ]
    },
    {
      "cell_type": "code",
      "metadata": {
        "colab": {
          "base_uri": "https://localhost:8080/",
          "height": 666
        },
        "id": "CcTrgdw_1raX",
        "outputId": "3220fb1c-25a6-42ae-8b08-e6386a9d76be"
      },
      "source": [
        "fig = plt.figure(figsize=(14,8))\r\n",
        "ax = fig.add_axes([0,0,1,1])\r\n",
        "ax.bar(apple_df['date'], apple_df['sentiment_score'])\r\n",
        "ax.set_xlabel('Date')\r\n",
        "ax.set_ylabel('Sentiment Scores')\r\n",
        "ax.set_title('Apple - Sentiment Visualisation')\r\n",
        "plt.show()"
      ],
      "execution_count": null,
      "outputs": [
        {
          "output_type": "display_data",
          "data": {
            "image/png": "[encoded data removed]",
            "text/plain": [
              "<Figure size 1008x576 with 1 Axes>"
            ]
          },
          "metadata": {
            "tags": []
          }
        }
      ]
    },
    {
      "cell_type": "code",
      "metadata": {
        "colab": {
          "base_uri": "https://localhost:8080/",
          "height": 553
        },
        "id": "JwHk8otT4KpF",
        "outputId": "0c42b6eb-557d-401a-c320-3add16804b7e"
      },
      "source": [
        "plt.figure(figsize=(16,8))\r\n",
        "plt.plot(apple_stock['Close'])\r\n",
        "plt.title('Apple Close Price History',fontsize = 18)\r\n",
        "plt.xlabel('Date',fontsize=14)\r\n",
        "plt.ylabel('Close Price USD ($)', fontsize = 14)\r\n",
        "plt.show()"
      ],
      "execution_count": null,
      "outputs": [
        {
          "output_type": "display_data",
          "data": {
            "image/png": "[encoded data removed]",
            "text/plain": [
              "<Figure size 1152x576 with 1 Axes>"
            ]
          },
          "metadata": {
            "tags": []
          }
        }
      ]
    },
    {
      "cell_type": "code",
      "metadata": {
        "colab": {
          "base_uri": "https://localhost:8080/"
        },
        "id": "OGJ5HSjb4bUW",
        "outputId": "da1ca5cb-10fb-4a0c-90c1-de87c7aa14b1"
      },
      "source": [
        "apple_df['sentiment_score'].sort_values()"
      ],
      "execution_count": null,
      "outputs": [
        {
          "output_type": "execute_result",
          "data": {
            "text/plain": [
              "56   -0.8779\n",
              "1    -0.8316\n",
              "90   -0.7579\n",
              "6    -0.7184\n",
              "5    -0.6908\n",
              "       ...  \n",
              "68    0.8126\n",
              "46    0.8176\n",
              "96    0.8360\n",
              "61    0.8885\n",
              "74    0.8885\n",
              "Name: sentiment_score, Length: 100, dtype: float64"
            ]
          },
          "metadata": {
            "tags": []
          },
          "execution_count": 280
        }
      ]
    },
    {
      "cell_type": "code",
      "metadata": {
        "colab": {
          "base_uri": "https://localhost:8080/",
          "height": 80
        },
        "id": "kLQJ8U334qN-",
        "outputId": "7bacad51-00d2-45eb-fb3e-7d5dec1b843c"
      },
      "source": [
        "apple_df[apple_df['sentiment_score']== -0.8779]"
      ],
      "execution_count": null,
      "outputs": [
        {
          "output_type": "execute_result",
          "data": {
            "text/html": [
              "<div>\n",
              "<style scoped>\n",
              "    .dataframe tbody tr th:only-of-type {\n",
              "        vertical-align: middle;\n",
              "    }\n",
              "\n",
              "    .dataframe tbody tr th {\n",
              "        vertical-align: top;\n",
              "    }\n",
              "\n",
              "    .dataframe thead th {\n",
              "        text-align: right;\n",
              "    }\n",
              "</style>\n",
              "<table border=\"1\" class=\"dataframe\">\n",
              "  <thead>\n",
              "    <tr style=\"text-align: right;\">\n",
              "      <th></th>\n",
              "      <th>date</th>\n",
              "      <th>headline</th>\n",
              "      <th>summary</th>\n",
              "      <th>url</th>\n",
              "      <th>combined</th>\n",
              "      <th>clean</th>\n",
              "      <th>sentiment_score</th>\n",
              "    </tr>\n",
              "  </thead>\n",
              "  <tbody>\n",
              "    <tr>\n",
              "      <th>56</th>\n",
              "      <td>2020-09-09</td>\n",
              "      <td>Apple seeks damages from Fortnite maker in App...</td>\n",
              "      <td>[SAN FRANCISCO] Apple on Tuesday asked a US fe...</td>\n",
              "      <td>https://www.businesstimes.com.sg/technology/ap...</td>\n",
              "      <td>Apple seeks damages from Fortnite maker in App...</td>\n",
              "      <td>apple seeks damages fortnite maker app store d...</td>\n",
              "      <td>-0.8779</td>\n",
              "    </tr>\n",
              "  </tbody>\n",
              "</table>\n",
              "</div>"
            ],
            "text/plain": [
              "          date  ... sentiment_score\n",
              "56  2020-09-09  ...         -0.8779\n",
              "\n",
              "[1 rows x 7 columns]"
            ]
          },
          "metadata": {
            "tags": []
          },
          "execution_count": 281
        }
      ]
    },
    {
      "cell_type": "code",
      "metadata": {
        "colab": {
          "base_uri": "https://localhost:8080/"
        },
        "id": "DwJSLpKG4zCG",
        "outputId": "7cbea609-7bf7-4219-fe07-33e70eafc372"
      },
      "source": [
        "print(apple_df.iloc[56]['combined'])"
      ],
      "execution_count": null,
      "outputs": [
        {
          "output_type": "stream",
          "text": [
            "Apple seeks damages from Fortnite maker in App Store dispute [SAN FRANCISCO] Apple on Tuesday asked a US federal court to order Fortnite maker Epic Games to pay damages in a legal dispute over the rules for the iPhone maker's online marketplace.\r\n",
            "\n"
          ],
          "name": "stdout"
        }
      ]
    },
    {
      "cell_type": "code",
      "metadata": {
        "colab": {
          "base_uri": "https://localhost:8080/",
          "height": 110
        },
        "id": "TAhb2DM6464O",
        "outputId": "bffdfe29-88c2-4340-bbdf-3408e8bf7a1c"
      },
      "source": [
        "apple_stock[apple_stock.index == '2020-09-09']"
      ],
      "execution_count": null,
      "outputs": [
        {
          "output_type": "execute_result",
          "data": {
            "text/html": [
              "<div>\n",
              "<style scoped>\n",
              "    .dataframe tbody tr th:only-of-type {\n",
              "        vertical-align: middle;\n",
              "    }\n",
              "\n",
              "    .dataframe tbody tr th {\n",
              "        vertical-align: top;\n",
              "    }\n",
              "\n",
              "    .dataframe thead th {\n",
              "        text-align: right;\n",
              "    }\n",
              "</style>\n",
              "<table border=\"1\" class=\"dataframe\">\n",
              "  <thead>\n",
              "    <tr style=\"text-align: right;\">\n",
              "      <th></th>\n",
              "      <th>High</th>\n",
              "      <th>Low</th>\n",
              "      <th>Open</th>\n",
              "      <th>Close</th>\n",
              "      <th>Volume</th>\n",
              "      <th>Adj Close</th>\n",
              "      <th>Change</th>\n",
              "    </tr>\n",
              "    <tr>\n",
              "      <th>Date</th>\n",
              "      <th></th>\n",
              "      <th></th>\n",
              "      <th></th>\n",
              "      <th></th>\n",
              "      <th></th>\n",
              "      <th></th>\n",
              "      <th></th>\n",
              "    </tr>\n",
              "  </thead>\n",
              "  <tbody>\n",
              "    <tr>\n",
              "      <th>2020-09-09</th>\n",
              "      <td>119.139999</td>\n",
              "      <td>115.260002</td>\n",
              "      <td>117.260002</td>\n",
              "      <td>117.32</td>\n",
              "      <td>176940500.0</td>\n",
              "      <td>117.117943</td>\n",
              "      <td>4.5</td>\n",
              "    </tr>\n",
              "  </tbody>\n",
              "</table>\n",
              "</div>"
            ],
            "text/plain": [
              "                  High         Low        Open  ...       Volume   Adj Close  Change\n",
              "Date                                            ...                                 \n",
              "2020-09-09  119.139999  115.260002  117.260002  ...  176940500.0  117.117943     4.5\n",
              "\n",
              "[1 rows x 7 columns]"
            ]
          },
          "metadata": {
            "tags": []
          },
          "execution_count": 285
        }
      ]
    },
    {
      "cell_type": "code",
      "metadata": {
        "colab": {
          "base_uri": "https://localhost:8080/",
          "height": 110
        },
        "id": "gOdcErM351Td",
        "outputId": "167ee903-83d5-4afb-cbde-aeb014572935"
      },
      "source": [
        "apple_stock[apple_stock.index == '2020-09-10']"
      ],
      "execution_count": null,
      "outputs": [
        {
          "output_type": "execute_result",
          "data": {
            "text/html": [
              "<div>\n",
              "<style scoped>\n",
              "    .dataframe tbody tr th:only-of-type {\n",
              "        vertical-align: middle;\n",
              "    }\n",
              "\n",
              "    .dataframe tbody tr th {\n",
              "        vertical-align: top;\n",
              "    }\n",
              "\n",
              "    .dataframe thead th {\n",
              "        text-align: right;\n",
              "    }\n",
              "</style>\n",
              "<table border=\"1\" class=\"dataframe\">\n",
              "  <thead>\n",
              "    <tr style=\"text-align: right;\">\n",
              "      <th></th>\n",
              "      <th>High</th>\n",
              "      <th>Low</th>\n",
              "      <th>Open</th>\n",
              "      <th>Close</th>\n",
              "      <th>Volume</th>\n",
              "      <th>Adj Close</th>\n",
              "      <th>Change</th>\n",
              "    </tr>\n",
              "    <tr>\n",
              "      <th>Date</th>\n",
              "      <th></th>\n",
              "      <th></th>\n",
              "      <th></th>\n",
              "      <th></th>\n",
              "      <th></th>\n",
              "      <th></th>\n",
              "      <th></th>\n",
              "    </tr>\n",
              "  </thead>\n",
              "  <tbody>\n",
              "    <tr>\n",
              "      <th>2020-09-10</th>\n",
              "      <td>120.5</td>\n",
              "      <td>112.5</td>\n",
              "      <td>120.360001</td>\n",
              "      <td>113.489998</td>\n",
              "      <td>182274400.0</td>\n",
              "      <td>113.29454</td>\n",
              "      <td>-3.830002</td>\n",
              "    </tr>\n",
              "  </tbody>\n",
              "</table>\n",
              "</div>"
            ],
            "text/plain": [
              "             High    Low        Open  ...       Volume  Adj Close    Change\n",
              "Date                                  ...                                  \n",
              "2020-09-10  120.5  112.5  120.360001  ...  182274400.0  113.29454 -3.830002\n",
              "\n",
              "[1 rows x 7 columns]"
            ]
          },
          "metadata": {
            "tags": []
          },
          "execution_count": 286
        }
      ]
    },
    {
      "cell_type": "code",
      "metadata": {
        "colab": {
          "base_uri": "https://localhost:8080/",
          "height": 80
        },
        "id": "Vjy78Jgx58Od",
        "outputId": "faab1178-9174-436c-faa9-4fa369bcbcf9"
      },
      "source": [
        "apple_df[apple_df['sentiment_score']== -0.8316]"
      ],
      "execution_count": null,
      "outputs": [
        {
          "output_type": "execute_result",
          "data": {
            "text/html": [
              "<div>\n",
              "<style scoped>\n",
              "    .dataframe tbody tr th:only-of-type {\n",
              "        vertical-align: middle;\n",
              "    }\n",
              "\n",
              "    .dataframe tbody tr th {\n",
              "        vertical-align: top;\n",
              "    }\n",
              "\n",
              "    .dataframe thead th {\n",
              "        text-align: right;\n",
              "    }\n",
              "</style>\n",
              "<table border=\"1\" class=\"dataframe\">\n",
              "  <thead>\n",
              "    <tr style=\"text-align: right;\">\n",
              "      <th></th>\n",
              "      <th>date</th>\n",
              "      <th>headline</th>\n",
              "      <th>summary</th>\n",
              "      <th>url</th>\n",
              "      <th>combined</th>\n",
              "      <th>clean</th>\n",
              "      <th>sentiment_score</th>\n",
              "    </tr>\n",
              "  </thead>\n",
              "  <tbody>\n",
              "    <tr>\n",
              "      <th>1</th>\n",
              "      <td>2020-12-08</td>\n",
              "      <td>Apple could block apps that don't comply with ...</td>\n",
              "      <td>[STOCKHOLM] Apple threatened on Tuesday to rem...</td>\n",
              "      <td>https://www.businesstimes.com.sg/consumer/appl...</td>\n",
              "      <td>Apple could block apps that don't comply with ...</td>\n",
              "      <td>apple could block apps dont comply new privacy...</td>\n",
              "      <td>-0.8316</td>\n",
              "    </tr>\n",
              "  </tbody>\n",
              "</table>\n",
              "</div>"
            ],
            "text/plain": [
              "         date  ... sentiment_score\n",
              "1  2020-12-08  ...         -0.8316\n",
              "\n",
              "[1 rows x 7 columns]"
            ]
          },
          "metadata": {
            "tags": []
          },
          "execution_count": 287
        }
      ]
    },
    {
      "cell_type": "code",
      "metadata": {
        "colab": {
          "base_uri": "https://localhost:8080/"
        },
        "id": "kM0xzxq-6CUm",
        "outputId": "8ffedb44-edf9-4028-a324-7ffb4bbe01e8"
      },
      "source": [
        "print(apple_df.iloc[1]['combined'])"
      ],
      "execution_count": null,
      "outputs": [
        {
          "output_type": "stream",
          "text": [
            "Apple could block apps that don't comply with new privacy feature [STOCKHOLM] Apple threatened on Tuesday to remove apps from its widely-used App Store if they don't comply with an upcoming private feature allowing users to block advertisers from tracking them across different applications.\r\n",
            "\n"
          ],
          "name": "stdout"
        }
      ]
    },
    {
      "cell_type": "code",
      "metadata": {
        "colab": {
          "base_uri": "https://localhost:8080/",
          "height": 110
        },
        "id": "G146MkbI6Grt",
        "outputId": "89d20288-c298-4bff-8c86-18b547e3074d"
      },
      "source": [
        "apple_stock[apple_stock.index == '2020-12-08']"
      ],
      "execution_count": null,
      "outputs": [
        {
          "output_type": "execute_result",
          "data": {
            "text/html": [
              "<div>\n",
              "<style scoped>\n",
              "    .dataframe tbody tr th:only-of-type {\n",
              "        vertical-align: middle;\n",
              "    }\n",
              "\n",
              "    .dataframe tbody tr th {\n",
              "        vertical-align: top;\n",
              "    }\n",
              "\n",
              "    .dataframe thead th {\n",
              "        text-align: right;\n",
              "    }\n",
              "</style>\n",
              "<table border=\"1\" class=\"dataframe\">\n",
              "  <thead>\n",
              "    <tr style=\"text-align: right;\">\n",
              "      <th></th>\n",
              "      <th>High</th>\n",
              "      <th>Low</th>\n",
              "      <th>Open</th>\n",
              "      <th>Close</th>\n",
              "      <th>Volume</th>\n",
              "      <th>Adj Close</th>\n",
              "      <th>Change</th>\n",
              "    </tr>\n",
              "    <tr>\n",
              "      <th>Date</th>\n",
              "      <th></th>\n",
              "      <th></th>\n",
              "      <th></th>\n",
              "      <th></th>\n",
              "      <th></th>\n",
              "      <th></th>\n",
              "      <th></th>\n",
              "    </tr>\n",
              "  </thead>\n",
              "  <tbody>\n",
              "    <tr>\n",
              "      <th>2020-12-08</th>\n",
              "      <td>124.980003</td>\n",
              "      <td>123.089996</td>\n",
              "      <td>124.370003</td>\n",
              "      <td>124.379997</td>\n",
              "      <td>82225500.0</td>\n",
              "      <td>124.379997</td>\n",
              "      <td>0.629997</td>\n",
              "    </tr>\n",
              "  </tbody>\n",
              "</table>\n",
              "</div>"
            ],
            "text/plain": [
              "                  High         Low  ...   Adj Close    Change\n",
              "Date                                ...                      \n",
              "2020-12-08  124.980003  123.089996  ...  124.379997  0.629997\n",
              "\n",
              "[1 rows x 7 columns]"
            ]
          },
          "metadata": {
            "tags": []
          },
          "execution_count": 291
        }
      ]
    },
    {
      "cell_type": "code",
      "metadata": {
        "colab": {
          "base_uri": "https://localhost:8080/",
          "height": 110
        },
        "id": "RbbiWx6P6MZ9",
        "outputId": "3e26ff42-e5d2-469f-d1cd-851aa6e3665f"
      },
      "source": [
        "apple_stock[apple_stock.index == '2020-12-09']"
      ],
      "execution_count": null,
      "outputs": [
        {
          "output_type": "execute_result",
          "data": {
            "text/html": [
              "<div>\n",
              "<style scoped>\n",
              "    .dataframe tbody tr th:only-of-type {\n",
              "        vertical-align: middle;\n",
              "    }\n",
              "\n",
              "    .dataframe tbody tr th {\n",
              "        vertical-align: top;\n",
              "    }\n",
              "\n",
              "    .dataframe thead th {\n",
              "        text-align: right;\n",
              "    }\n",
              "</style>\n",
              "<table border=\"1\" class=\"dataframe\">\n",
              "  <thead>\n",
              "    <tr style=\"text-align: right;\">\n",
              "      <th></th>\n",
              "      <th>High</th>\n",
              "      <th>Low</th>\n",
              "      <th>Open</th>\n",
              "      <th>Close</th>\n",
              "      <th>Volume</th>\n",
              "      <th>Adj Close</th>\n",
              "      <th>Change</th>\n",
              "    </tr>\n",
              "    <tr>\n",
              "      <th>Date</th>\n",
              "      <th></th>\n",
              "      <th></th>\n",
              "      <th></th>\n",
              "      <th></th>\n",
              "      <th></th>\n",
              "      <th></th>\n",
              "      <th></th>\n",
              "    </tr>\n",
              "  </thead>\n",
              "  <tbody>\n",
              "    <tr>\n",
              "      <th>2020-12-09</th>\n",
              "      <td>125.949997</td>\n",
              "      <td>121.0</td>\n",
              "      <td>124.529999</td>\n",
              "      <td>121.779999</td>\n",
              "      <td>115089200.0</td>\n",
              "      <td>121.779999</td>\n",
              "      <td>-2.599998</td>\n",
              "    </tr>\n",
              "  </tbody>\n",
              "</table>\n",
              "</div>"
            ],
            "text/plain": [
              "                  High    Low        Open  ...       Volume   Adj Close    Change\n",
              "Date                                       ...                                   \n",
              "2020-12-09  125.949997  121.0  124.529999  ...  115089200.0  121.779999 -2.599998\n",
              "\n",
              "[1 rows x 7 columns]"
            ]
          },
          "metadata": {
            "tags": []
          },
          "execution_count": 292
        }
      ]
    },
    {
      "cell_type": "code",
      "metadata": {
        "colab": {
          "base_uri": "https://localhost:8080/",
          "height": 80
        },
        "id": "Z_DOHAVq6SfN",
        "outputId": "847151bd-8c64-4b4e-d89c-396f3f7dc0b1"
      },
      "source": [
        "apple_df[apple_df['sentiment_score']== 0.8360]"
      ],
      "execution_count": null,
      "outputs": [
        {
          "output_type": "execute_result",
          "data": {
            "text/html": [
              "<div>\n",
              "<style scoped>\n",
              "    .dataframe tbody tr th:only-of-type {\n",
              "        vertical-align: middle;\n",
              "    }\n",
              "\n",
              "    .dataframe tbody tr th {\n",
              "        vertical-align: top;\n",
              "    }\n",
              "\n",
              "    .dataframe thead th {\n",
              "        text-align: right;\n",
              "    }\n",
              "</style>\n",
              "<table border=\"1\" class=\"dataframe\">\n",
              "  <thead>\n",
              "    <tr style=\"text-align: right;\">\n",
              "      <th></th>\n",
              "      <th>date</th>\n",
              "      <th>headline</th>\n",
              "      <th>summary</th>\n",
              "      <th>url</th>\n",
              "      <th>combined</th>\n",
              "      <th>clean</th>\n",
              "      <th>sentiment_score</th>\n",
              "    </tr>\n",
              "  </thead>\n",
              "  <tbody>\n",
              "    <tr>\n",
              "      <th>96</th>\n",
              "      <td>2020-07-31</td>\n",
              "      <td>Huawei, Apple gain bigger share of shrinking C...</td>\n",
              "      <td>[SHENZHEN] Huawei Technologies and Apple both ...</td>\n",
              "      <td>https://www.businesstimes.com.sg/consumer/huaw...</td>\n",
              "      <td>Huawei, Apple gain bigger share of shrinking C...</td>\n",
              "      <td>huawei apple gain bigger share shrinking china...</td>\n",
              "      <td>0.836</td>\n",
              "    </tr>\n",
              "  </tbody>\n",
              "</table>\n",
              "</div>"
            ],
            "text/plain": [
              "          date  ... sentiment_score\n",
              "96  2020-07-31  ...           0.836\n",
              "\n",
              "[1 rows x 7 columns]"
            ]
          },
          "metadata": {
            "tags": []
          },
          "execution_count": 301
        }
      ]
    },
    {
      "cell_type": "code",
      "metadata": {
        "colab": {
          "base_uri": "https://localhost:8080/"
        },
        "id": "tnYvVZCW6bSU",
        "outputId": "6e41eb5f-e2dc-4d01-9119-43917030818b"
      },
      "source": [
        "print(apple_df.iloc[96]['combined'])"
      ],
      "execution_count": null,
      "outputs": [
        {
          "output_type": "stream",
          "text": [
            "Huawei, Apple gain bigger share of shrinking China smartphone market [SHENZHEN] Huawei Technologies and Apple both increased their share of the China smartphone market in the second quarter of 2020, bucking a broader trend as the overall market for handsets continued to contract.\r\n",
            "\n"
          ],
          "name": "stdout"
        }
      ]
    },
    {
      "cell_type": "code",
      "metadata": {
        "colab": {
          "base_uri": "https://localhost:8080/",
          "height": 110
        },
        "id": "iJ-rwldN7G0l",
        "outputId": "ce863deb-7ae7-43be-e531-b72149b67f0e"
      },
      "source": [
        "apple_stock[apple_stock.index == '2020-07-31']"
      ],
      "execution_count": null,
      "outputs": [
        {
          "output_type": "execute_result",
          "data": {
            "text/html": [
              "<div>\n",
              "<style scoped>\n",
              "    .dataframe tbody tr th:only-of-type {\n",
              "        vertical-align: middle;\n",
              "    }\n",
              "\n",
              "    .dataframe tbody tr th {\n",
              "        vertical-align: top;\n",
              "    }\n",
              "\n",
              "    .dataframe thead th {\n",
              "        text-align: right;\n",
              "    }\n",
              "</style>\n",
              "<table border=\"1\" class=\"dataframe\">\n",
              "  <thead>\n",
              "    <tr style=\"text-align: right;\">\n",
              "      <th></th>\n",
              "      <th>High</th>\n",
              "      <th>Low</th>\n",
              "      <th>Open</th>\n",
              "      <th>Close</th>\n",
              "      <th>Volume</th>\n",
              "      <th>Adj Close</th>\n",
              "      <th>Change</th>\n",
              "    </tr>\n",
              "    <tr>\n",
              "      <th>Date</th>\n",
              "      <th></th>\n",
              "      <th></th>\n",
              "      <th></th>\n",
              "      <th></th>\n",
              "      <th></th>\n",
              "      <th></th>\n",
              "      <th></th>\n",
              "    </tr>\n",
              "  </thead>\n",
              "  <tbody>\n",
              "    <tr>\n",
              "      <th>2020-07-31</th>\n",
              "      <td>106.415001</td>\n",
              "      <td>100.824997</td>\n",
              "      <td>102.885002</td>\n",
              "      <td>106.260002</td>\n",
              "      <td>374336800.0</td>\n",
              "      <td>105.886086</td>\n",
              "      <td>10.07</td>\n",
              "    </tr>\n",
              "  </tbody>\n",
              "</table>\n",
              "</div>"
            ],
            "text/plain": [
              "                  High         Low        Open  ...       Volume   Adj Close  Change\n",
              "Date                                            ...                                 \n",
              "2020-07-31  106.415001  100.824997  102.885002  ...  374336800.0  105.886086   10.07\n",
              "\n",
              "[1 rows x 7 columns]"
            ]
          },
          "metadata": {
            "tags": []
          },
          "execution_count": 303
        }
      ]
    },
    {
      "cell_type": "code",
      "metadata": {
        "colab": {
          "base_uri": "https://localhost:8080/"
        },
        "id": "dTdztBTq7Tw9",
        "outputId": "0e1a7340-f0a2-4757-ad3a-2339bdc21d8e"
      },
      "source": [
        "print(apple_df.iloc[74]['combined'])"
      ],
      "execution_count": null,
      "outputs": [
        {
          "output_type": "stream",
          "text": [
            "New season of 'Fortnite' is here, Apple users miss out [BENGALURU] Epic Games launched the new season of hit video game Fortnite on Thursday, pitting Marvel super heroes against Fantastic Four-villain Galactus in the first update to exclude iPhone and iPad users due to a legal fight with Apple Inc.\r\n",
            "\n"
          ],
          "name": "stdout"
        }
      ]
    },
    {
      "cell_type": "code",
      "metadata": {
        "colab": {
          "base_uri": "https://localhost:8080/",
          "height": 80
        },
        "id": "MTAGMtDF7XbV",
        "outputId": "7ad2d587-582b-4343-8821-51096ed5fbd5"
      },
      "source": [
        "apple_df[apple_df['sentiment_score']== 0.8176]"
      ],
      "execution_count": null,
      "outputs": [
        {
          "output_type": "execute_result",
          "data": {
            "text/html": [
              "<div>\n",
              "<style scoped>\n",
              "    .dataframe tbody tr th:only-of-type {\n",
              "        vertical-align: middle;\n",
              "    }\n",
              "\n",
              "    .dataframe tbody tr th {\n",
              "        vertical-align: top;\n",
              "    }\n",
              "\n",
              "    .dataframe thead th {\n",
              "        text-align: right;\n",
              "    }\n",
              "</style>\n",
              "<table border=\"1\" class=\"dataframe\">\n",
              "  <thead>\n",
              "    <tr style=\"text-align: right;\">\n",
              "      <th></th>\n",
              "      <th>date</th>\n",
              "      <th>headline</th>\n",
              "      <th>summary</th>\n",
              "      <th>url</th>\n",
              "      <th>combined</th>\n",
              "      <th>clean</th>\n",
              "      <th>sentiment_score</th>\n",
              "    </tr>\n",
              "  </thead>\n",
              "  <tbody>\n",
              "    <tr>\n",
              "      <th>46</th>\n",
              "      <td>2020-09-22</td>\n",
              "      <td>Apple CEO impressed by remote work, sees perma...</td>\n",
              "      <td>[LOS ANGELES] Apple chief executive officer (C...</td>\n",
              "      <td>https://www.businesstimes.com.sg/technology/ap...</td>\n",
              "      <td>Apple CEO impressed by remote work, sees perma...</td>\n",
              "      <td>apple ceo impressed remote work sees permanent...</td>\n",
              "      <td>0.8176</td>\n",
              "    </tr>\n",
              "  </tbody>\n",
              "</table>\n",
              "</div>"
            ],
            "text/plain": [
              "          date  ... sentiment_score\n",
              "46  2020-09-22  ...          0.8176\n",
              "\n",
              "[1 rows x 7 columns]"
            ]
          },
          "metadata": {
            "tags": []
          },
          "execution_count": 304
        }
      ]
    },
    {
      "cell_type": "code",
      "metadata": {
        "colab": {
          "base_uri": "https://localhost:8080/"
        },
        "id": "fvZ4nC-N7jZ2",
        "outputId": "69ad2daa-2a2b-410c-eff8-ab8ae8b6aea1"
      },
      "source": [
        "print(apple_df.iloc[46]['combined'])"
      ],
      "execution_count": null,
      "outputs": [
        {
          "output_type": "stream",
          "text": [
            "Apple CEO impressed by remote work, sees permanent changes [LOS ANGELES] Apple chief executive officer (CEO) Tim Cook said he's been impressed by employees' ability to operate remotely and predicted that some new work habits will remain after the pandemic.\r\n",
            "\n"
          ],
          "name": "stdout"
        }
      ]
    },
    {
      "cell_type": "code",
      "metadata": {
        "colab": {
          "base_uri": "https://localhost:8080/",
          "height": 110
        },
        "id": "BdPFRcAu9l8W",
        "outputId": "19da79ef-27ae-46db-c0a0-a41a1a9bc704"
      },
      "source": [
        "apple_stock[apple_stock.index == '2020-09-23']"
      ],
      "execution_count": null,
      "outputs": [
        {
          "output_type": "execute_result",
          "data": {
            "text/html": [
              "<div>\n",
              "<style scoped>\n",
              "    .dataframe tbody tr th:only-of-type {\n",
              "        vertical-align: middle;\n",
              "    }\n",
              "\n",
              "    .dataframe tbody tr th {\n",
              "        vertical-align: top;\n",
              "    }\n",
              "\n",
              "    .dataframe thead th {\n",
              "        text-align: right;\n",
              "    }\n",
              "</style>\n",
              "<table border=\"1\" class=\"dataframe\">\n",
              "  <thead>\n",
              "    <tr style=\"text-align: right;\">\n",
              "      <th></th>\n",
              "      <th>High</th>\n",
              "      <th>Low</th>\n",
              "      <th>Open</th>\n",
              "      <th>Close</th>\n",
              "      <th>Volume</th>\n",
              "      <th>Adj Close</th>\n",
              "      <th>Change</th>\n",
              "    </tr>\n",
              "    <tr>\n",
              "      <th>Date</th>\n",
              "      <th></th>\n",
              "      <th></th>\n",
              "      <th></th>\n",
              "      <th></th>\n",
              "      <th></th>\n",
              "      <th></th>\n",
              "      <th></th>\n",
              "    </tr>\n",
              "  </thead>\n",
              "  <tbody>\n",
              "    <tr>\n",
              "      <th>2020-09-23</th>\n",
              "      <td>112.110001</td>\n",
              "      <td>106.769997</td>\n",
              "      <td>111.620003</td>\n",
              "      <td>107.120003</td>\n",
              "      <td>150718700.0</td>\n",
              "      <td>106.935509</td>\n",
              "      <td>-4.689995</td>\n",
              "    </tr>\n",
              "  </tbody>\n",
              "</table>\n",
              "</div>"
            ],
            "text/plain": [
              "                  High         Low  ...   Adj Close    Change\n",
              "Date                                ...                      \n",
              "2020-09-23  112.110001  106.769997  ...  106.935509 -4.689995\n",
              "\n",
              "[1 rows x 7 columns]"
            ]
          },
          "metadata": {
            "tags": []
          },
          "execution_count": 307
        }
      ]
    },
    {
      "cell_type": "markdown",
      "metadata": {
        "id": "H8rtBPcF-BvC"
      },
      "source": [
        "### Tesla"
      ]
    },
    {
      "cell_type": "markdown",
      "metadata": {
        "id": "veXFY9qy-JIN"
      },
      "source": [
        "#### Pre-processing and Data Preparation"
      ]
    },
    {
      "cell_type": "code",
      "metadata": {
        "colab": {
          "base_uri": "https://localhost:8080/",
          "height": 202
        },
        "id": "hcf-FjkA93Et",
        "outputId": "b0608ca5-fee6-4991-bc90-07444f35b249"
      },
      "source": [
        "tesla_df.head()"
      ],
      "execution_count": null,
      "outputs": [
        {
          "output_type": "execute_result",
          "data": {
            "text/html": [
              "<div>\n",
              "<style scoped>\n",
              "    .dataframe tbody tr th:only-of-type {\n",
              "        vertical-align: middle;\n",
              "    }\n",
              "\n",
              "    .dataframe tbody tr th {\n",
              "        vertical-align: top;\n",
              "    }\n",
              "\n",
              "    .dataframe thead th {\n",
              "        text-align: right;\n",
              "    }\n",
              "</style>\n",
              "<table border=\"1\" class=\"dataframe\">\n",
              "  <thead>\n",
              "    <tr style=\"text-align: right;\">\n",
              "      <th></th>\n",
              "      <th>date</th>\n",
              "      <th>headline</th>\n",
              "      <th>summary</th>\n",
              "      <th>url</th>\n",
              "    </tr>\n",
              "  </thead>\n",
              "  <tbody>\n",
              "    <tr>\n",
              "      <th>0</th>\n",
              "      <td>13 Dec 2020</td>\n",
              "      <td>Are Tesla's shares worth US$90 or US$780? Wall...</td>\n",
              "      <td>[NEW YORK] For all the headline-making drama s...</td>\n",
              "      <td>https://www.businesstimes.com.sg/transport/are...</td>\n",
              "    </tr>\n",
              "    <tr>\n",
              "      <th>1</th>\n",
              "      <td>12 Dec 2020</td>\n",
              "      <td>Short sellers crushed in 2020 as Tesla, Modern...</td>\n",
              "      <td>SHORT sellers won some high-profile victories ...</td>\n",
              "      <td>https://www.businesstimes.com.sg/wealth-invest...</td>\n",
              "    </tr>\n",
              "    <tr>\n",
              "      <th>2</th>\n",
              "      <td>09 Dec 2020</td>\n",
              "      <td>No model for sale here, but India's small inve...</td>\n",
              "      <td>[MUMBAI] Mom-and-pop Indian investors increasi...</td>\n",
              "      <td>https://www.businesstimes.com.sg/stocks/no-mod...</td>\n",
              "    </tr>\n",
              "    <tr>\n",
              "      <th>3</th>\n",
              "      <td>08 Dec 2020</td>\n",
              "      <td>Tesla raising up to US$5b in third share sale ...</td>\n",
              "      <td>[SAN CARLOS] Tesla is taking advantage of its ...</td>\n",
              "      <td>https://www.businesstimes.com.sg/transport/tes...</td>\n",
              "    </tr>\n",
              "    <tr>\n",
              "      <th>4</th>\n",
              "      <td>04 Dec 2020</td>\n",
              "      <td>Tesla skeptic regrets betting against Musk: re...</td>\n",
              "      <td>[NEW YORK] Prominent investor Jim Chanos ackno...</td>\n",
              "      <td>https://www.businesstimes.com.sg/transport/tes...</td>\n",
              "    </tr>\n",
              "  </tbody>\n",
              "</table>\n",
              "</div>"
            ],
            "text/plain": [
              "          date  ...                                                url\n",
              "0  13 Dec 2020  ...  https://www.businesstimes.com.sg/transport/are...\n",
              "1  12 Dec 2020  ...  https://www.businesstimes.com.sg/wealth-invest...\n",
              "2  09 Dec 2020  ...  https://www.businesstimes.com.sg/stocks/no-mod...\n",
              "3  08 Dec 2020  ...  https://www.businesstimes.com.sg/transport/tes...\n",
              "4  04 Dec 2020  ...  https://www.businesstimes.com.sg/transport/tes...\n",
              "\n",
              "[5 rows x 4 columns]"
            ]
          },
          "metadata": {
            "tags": []
          },
          "execution_count": 312
        }
      ]
    },
    {
      "cell_type": "code",
      "metadata": {
        "colab": {
          "base_uri": "https://localhost:8080/",
          "height": 202
        },
        "id": "3yXTG83c-yLP",
        "outputId": "c5b823b2-cd62-45b0-c2a9-a79c595f02d8"
      },
      "source": [
        "tesla_df['combined'] = tesla_df['headline'] + ' ' + tesla_df['summary']\r\n",
        "tesla_df['date'] = pd.to_datetime(tesla_df['date']).dt.date\r\n",
        "tesla_df['clean'] = tesla_df['combined'].apply(text_cleaner)\r\n",
        "tesla_df.head()"
      ],
      "execution_count": null,
      "outputs": [
        {
          "output_type": "execute_result",
          "data": {
            "text/html": [
              "<div>\n",
              "<style scoped>\n",
              "    .dataframe tbody tr th:only-of-type {\n",
              "        vertical-align: middle;\n",
              "    }\n",
              "\n",
              "    .dataframe tbody tr th {\n",
              "        vertical-align: top;\n",
              "    }\n",
              "\n",
              "    .dataframe thead th {\n",
              "        text-align: right;\n",
              "    }\n",
              "</style>\n",
              "<table border=\"1\" class=\"dataframe\">\n",
              "  <thead>\n",
              "    <tr style=\"text-align: right;\">\n",
              "      <th></th>\n",
              "      <th>date</th>\n",
              "      <th>headline</th>\n",
              "      <th>summary</th>\n",
              "      <th>url</th>\n",
              "      <th>combined</th>\n",
              "      <th>clean</th>\n",
              "    </tr>\n",
              "  </thead>\n",
              "  <tbody>\n",
              "    <tr>\n",
              "      <th>0</th>\n",
              "      <td>2020-12-13</td>\n",
              "      <td>Are Tesla's shares worth US$90 or US$780? Wall...</td>\n",
              "      <td>[NEW YORK] For all the headline-making drama s...</td>\n",
              "      <td>https://www.businesstimes.com.sg/transport/are...</td>\n",
              "      <td>Are Tesla's shares worth US$90 or US$780? Wall...</td>\n",
              "      <td>teslas shares worth us90 us780 wall street can...</td>\n",
              "    </tr>\n",
              "    <tr>\n",
              "      <th>1</th>\n",
              "      <td>2020-12-12</td>\n",
              "      <td>Short sellers crushed in 2020 as Tesla, Modern...</td>\n",
              "      <td>SHORT sellers won some high-profile victories ...</td>\n",
              "      <td>https://www.businesstimes.com.sg/wealth-invest...</td>\n",
              "      <td>Short sellers crushed in 2020 as Tesla, Modern...</td>\n",
              "      <td>short sellers crushed 2020 tesla moderna stock...</td>\n",
              "    </tr>\n",
              "    <tr>\n",
              "      <th>2</th>\n",
              "      <td>2020-12-09</td>\n",
              "      <td>No model for sale here, but India's small inve...</td>\n",
              "      <td>[MUMBAI] Mom-and-pop Indian investors increasi...</td>\n",
              "      <td>https://www.businesstimes.com.sg/stocks/no-mod...</td>\n",
              "      <td>No model for sale here, but India's small inve...</td>\n",
              "      <td>model sale indias small investors flock tesla ...</td>\n",
              "    </tr>\n",
              "    <tr>\n",
              "      <th>3</th>\n",
              "      <td>2020-12-08</td>\n",
              "      <td>Tesla raising up to US$5b in third share sale ...</td>\n",
              "      <td>[SAN CARLOS] Tesla is taking advantage of its ...</td>\n",
              "      <td>https://www.businesstimes.com.sg/transport/tes...</td>\n",
              "      <td>Tesla raising up to US$5b in third share sale ...</td>\n",
              "      <td>tesla raising us5b third share sale year san c...</td>\n",
              "    </tr>\n",
              "    <tr>\n",
              "      <th>4</th>\n",
              "      <td>2020-12-04</td>\n",
              "      <td>Tesla skeptic regrets betting against Musk: re...</td>\n",
              "      <td>[NEW YORK] Prominent investor Jim Chanos ackno...</td>\n",
              "      <td>https://www.businesstimes.com.sg/transport/tes...</td>\n",
              "      <td>Tesla skeptic regrets betting against Musk: re...</td>\n",
              "      <td>tesla skeptic regrets betting musk report new ...</td>\n",
              "    </tr>\n",
              "  </tbody>\n",
              "</table>\n",
              "</div>"
            ],
            "text/plain": [
              "         date  ...                                              clean\n",
              "0  2020-12-13  ...  teslas shares worth us90 us780 wall street can...\n",
              "1  2020-12-12  ...  short sellers crushed 2020 tesla moderna stock...\n",
              "2  2020-12-09  ...  model sale indias small investors flock tesla ...\n",
              "3  2020-12-08  ...  tesla raising us5b third share sale year san c...\n",
              "4  2020-12-04  ...  tesla skeptic regrets betting musk report new ...\n",
              "\n",
              "[5 rows x 6 columns]"
            ]
          },
          "metadata": {
            "tags": []
          },
          "execution_count": 313
        }
      ]
    },
    {
      "cell_type": "code",
      "metadata": {
        "colab": {
          "base_uri": "https://localhost:8080/",
          "height": 233
        },
        "id": "kQEnD7iJ-yWv",
        "outputId": "a2b8ea24-9791-44e0-8a9b-0bf4ac57c163"
      },
      "source": [
        "tesla_stock['Change']=tesla_stock['Close'].diff()\r\n",
        "tesla_stock.head()"
      ],
      "execution_count": null,
      "outputs": [
        {
          "output_type": "execute_result",
          "data": {
            "text/html": [
              "<div>\n",
              "<style scoped>\n",
              "    .dataframe tbody tr th:only-of-type {\n",
              "        vertical-align: middle;\n",
              "    }\n",
              "\n",
              "    .dataframe tbody tr th {\n",
              "        vertical-align: top;\n",
              "    }\n",
              "\n",
              "    .dataframe thead th {\n",
              "        text-align: right;\n",
              "    }\n",
              "</style>\n",
              "<table border=\"1\" class=\"dataframe\">\n",
              "  <thead>\n",
              "    <tr style=\"text-align: right;\">\n",
              "      <th></th>\n",
              "      <th>High</th>\n",
              "      <th>Low</th>\n",
              "      <th>Open</th>\n",
              "      <th>Close</th>\n",
              "      <th>Volume</th>\n",
              "      <th>Adj Close</th>\n",
              "      <th>Change</th>\n",
              "    </tr>\n",
              "    <tr>\n",
              "      <th>Date</th>\n",
              "      <th></th>\n",
              "      <th></th>\n",
              "      <th></th>\n",
              "      <th></th>\n",
              "      <th></th>\n",
              "      <th></th>\n",
              "      <th></th>\n",
              "    </tr>\n",
              "  </thead>\n",
              "  <tbody>\n",
              "    <tr>\n",
              "      <th>2020-02-07</th>\n",
              "      <td>153.949997</td>\n",
              "      <td>146.000000</td>\n",
              "      <td>146.110001</td>\n",
              "      <td>149.613998</td>\n",
              "      <td>85317500.0</td>\n",
              "      <td>149.613998</td>\n",
              "      <td>NaN</td>\n",
              "    </tr>\n",
              "    <tr>\n",
              "      <th>2020-02-10</th>\n",
              "      <td>163.998001</td>\n",
              "      <td>150.479996</td>\n",
              "      <td>160.000000</td>\n",
              "      <td>154.255997</td>\n",
              "      <td>123446000.0</td>\n",
              "      <td>154.255997</td>\n",
              "      <td>4.641998</td>\n",
              "    </tr>\n",
              "    <tr>\n",
              "      <th>2020-02-11</th>\n",
              "      <td>156.701996</td>\n",
              "      <td>151.600006</td>\n",
              "      <td>153.757996</td>\n",
              "      <td>154.876007</td>\n",
              "      <td>58487500.0</td>\n",
              "      <td>154.876007</td>\n",
              "      <td>0.620010</td>\n",
              "    </tr>\n",
              "    <tr>\n",
              "      <th>2020-02-12</th>\n",
              "      <td>157.949997</td>\n",
              "      <td>152.673996</td>\n",
              "      <td>155.574005</td>\n",
              "      <td>153.457993</td>\n",
              "      <td>60112500.0</td>\n",
              "      <td>153.457993</td>\n",
              "      <td>-1.418015</td>\n",
              "    </tr>\n",
              "    <tr>\n",
              "      <th>2020-02-13</th>\n",
              "      <td>163.600006</td>\n",
              "      <td>147.000000</td>\n",
              "      <td>148.367996</td>\n",
              "      <td>160.800003</td>\n",
              "      <td>131446500.0</td>\n",
              "      <td>160.800003</td>\n",
              "      <td>7.342010</td>\n",
              "    </tr>\n",
              "  </tbody>\n",
              "</table>\n",
              "</div>"
            ],
            "text/plain": [
              "                  High         Low  ...   Adj Close    Change\n",
              "Date                                ...                      \n",
              "2020-02-07  153.949997  146.000000  ...  149.613998       NaN\n",
              "2020-02-10  163.998001  150.479996  ...  154.255997  4.641998\n",
              "2020-02-11  156.701996  151.600006  ...  154.876007  0.620010\n",
              "2020-02-12  157.949997  152.673996  ...  153.457993 -1.418015\n",
              "2020-02-13  163.600006  147.000000  ...  160.800003  7.342010\n",
              "\n",
              "[5 rows x 7 columns]"
            ]
          },
          "metadata": {
            "tags": []
          },
          "execution_count": 314
        }
      ]
    },
    {
      "cell_type": "code",
      "metadata": {
        "colab": {
          "base_uri": "https://localhost:8080/",
          "height": 110
        },
        "id": "ynAqckE6_I1o",
        "outputId": "6ae54bb6-9a62-4067-85d8-792ba7d5faec"
      },
      "source": [
        "web.DataReader('TSLA', data_source='yahoo', start='2020-02-06',end='2020-02-06')"
      ],
      "execution_count": null,
      "outputs": [
        {
          "output_type": "execute_result",
          "data": {
            "text/html": [
              "<div>\n",
              "<style scoped>\n",
              "    .dataframe tbody tr th:only-of-type {\n",
              "        vertical-align: middle;\n",
              "    }\n",
              "\n",
              "    .dataframe tbody tr th {\n",
              "        vertical-align: top;\n",
              "    }\n",
              "\n",
              "    .dataframe thead th {\n",
              "        text-align: right;\n",
              "    }\n",
              "</style>\n",
              "<table border=\"1\" class=\"dataframe\">\n",
              "  <thead>\n",
              "    <tr style=\"text-align: right;\">\n",
              "      <th></th>\n",
              "      <th>High</th>\n",
              "      <th>Low</th>\n",
              "      <th>Open</th>\n",
              "      <th>Close</th>\n",
              "      <th>Volume</th>\n",
              "      <th>Adj Close</th>\n",
              "    </tr>\n",
              "    <tr>\n",
              "      <th>Date</th>\n",
              "      <th></th>\n",
              "      <th></th>\n",
              "      <th></th>\n",
              "      <th></th>\n",
              "      <th></th>\n",
              "      <th></th>\n",
              "    </tr>\n",
              "  </thead>\n",
              "  <tbody>\n",
              "    <tr>\n",
              "      <th>2020-02-06</th>\n",
              "      <td>159.166</td>\n",
              "      <td>137.399994</td>\n",
              "      <td>139.983994</td>\n",
              "      <td>149.792007</td>\n",
              "      <td>199404000</td>\n",
              "      <td>149.792007</td>\n",
              "    </tr>\n",
              "  </tbody>\n",
              "</table>\n",
              "</div>"
            ],
            "text/plain": [
              "               High         Low        Open       Close     Volume   Adj Close\n",
              "Date                                                                          \n",
              "2020-02-06  159.166  137.399994  139.983994  149.792007  199404000  149.792007"
            ]
          },
          "metadata": {
            "tags": []
          },
          "execution_count": 315
        }
      ]
    },
    {
      "cell_type": "code",
      "metadata": {
        "colab": {
          "base_uri": "https://localhost:8080/",
          "height": 337
        },
        "id": "UkfLbAn1_JD0",
        "outputId": "5e273685-ef4f-4692-e4fc-456c9bdf9f38"
      },
      "source": [
        "tesla_stock.iloc[:1]['Change'] = tesla_stock.iloc[:1]['Close'] - 149.792007\r\n",
        "tesla_stock.head()"
      ],
      "execution_count": null,
      "outputs": [
        {
          "output_type": "stream",
          "text": [
            "/usr/local/lib/python3.6/dist-packages/ipykernel_launcher.py:1: SettingWithCopyWarning: \n",
            "A value is trying to be set on a copy of a slice from a DataFrame.\n",
            "Try using .loc[row_indexer,col_indexer] = value instead\n",
            "\n",
            "See the caveats in the documentation: https://pandas.pydata.org/pandas-docs/stable/user_guide/indexing.html#returning-a-view-versus-a-copy\n",
            "  \"\"\"Entry point for launching an IPython kernel.\n"
          ],
          "name": "stderr"
        },
        {
          "output_type": "execute_result",
          "data": {
            "text/html": [
              "<div>\n",
              "<style scoped>\n",
              "    .dataframe tbody tr th:only-of-type {\n",
              "        vertical-align: middle;\n",
              "    }\n",
              "\n",
              "    .dataframe tbody tr th {\n",
              "        vertical-align: top;\n",
              "    }\n",
              "\n",
              "    .dataframe thead th {\n",
              "        text-align: right;\n",
              "    }\n",
              "</style>\n",
              "<table border=\"1\" class=\"dataframe\">\n",
              "  <thead>\n",
              "    <tr style=\"text-align: right;\">\n",
              "      <th></th>\n",
              "      <th>High</th>\n",
              "      <th>Low</th>\n",
              "      <th>Open</th>\n",
              "      <th>Close</th>\n",
              "      <th>Volume</th>\n",
              "      <th>Adj Close</th>\n",
              "      <th>Change</th>\n",
              "    </tr>\n",
              "    <tr>\n",
              "      <th>Date</th>\n",
              "      <th></th>\n",
              "      <th></th>\n",
              "      <th></th>\n",
              "      <th></th>\n",
              "      <th></th>\n",
              "      <th></th>\n",
              "      <th></th>\n",
              "    </tr>\n",
              "  </thead>\n",
              "  <tbody>\n",
              "    <tr>\n",
              "      <th>2020-02-07</th>\n",
              "      <td>153.949997</td>\n",
              "      <td>146.000000</td>\n",
              "      <td>146.110001</td>\n",
              "      <td>149.613998</td>\n",
              "      <td>85317500.0</td>\n",
              "      <td>149.613998</td>\n",
              "      <td>-0.178009</td>\n",
              "    </tr>\n",
              "    <tr>\n",
              "      <th>2020-02-10</th>\n",
              "      <td>163.998001</td>\n",
              "      <td>150.479996</td>\n",
              "      <td>160.000000</td>\n",
              "      <td>154.255997</td>\n",
              "      <td>123446000.0</td>\n",
              "      <td>154.255997</td>\n",
              "      <td>4.641998</td>\n",
              "    </tr>\n",
              "    <tr>\n",
              "      <th>2020-02-11</th>\n",
              "      <td>156.701996</td>\n",
              "      <td>151.600006</td>\n",
              "      <td>153.757996</td>\n",
              "      <td>154.876007</td>\n",
              "      <td>58487500.0</td>\n",
              "      <td>154.876007</td>\n",
              "      <td>0.620010</td>\n",
              "    </tr>\n",
              "    <tr>\n",
              "      <th>2020-02-12</th>\n",
              "      <td>157.949997</td>\n",
              "      <td>152.673996</td>\n",
              "      <td>155.574005</td>\n",
              "      <td>153.457993</td>\n",
              "      <td>60112500.0</td>\n",
              "      <td>153.457993</td>\n",
              "      <td>-1.418015</td>\n",
              "    </tr>\n",
              "    <tr>\n",
              "      <th>2020-02-13</th>\n",
              "      <td>163.600006</td>\n",
              "      <td>147.000000</td>\n",
              "      <td>148.367996</td>\n",
              "      <td>160.800003</td>\n",
              "      <td>131446500.0</td>\n",
              "      <td>160.800003</td>\n",
              "      <td>7.342010</td>\n",
              "    </tr>\n",
              "  </tbody>\n",
              "</table>\n",
              "</div>"
            ],
            "text/plain": [
              "                  High         Low  ...   Adj Close    Change\n",
              "Date                                ...                      \n",
              "2020-02-07  153.949997  146.000000  ...  149.613998 -0.178009\n",
              "2020-02-10  163.998001  150.479996  ...  154.255997  4.641998\n",
              "2020-02-11  156.701996  151.600006  ...  154.876007  0.620010\n",
              "2020-02-12  157.949997  152.673996  ...  153.457993 -1.418015\n",
              "2020-02-13  163.600006  147.000000  ...  160.800003  7.342010\n",
              "\n",
              "[5 rows x 7 columns]"
            ]
          },
          "metadata": {
            "tags": []
          },
          "execution_count": 316
        }
      ]
    },
    {
      "cell_type": "markdown",
      "metadata": {
        "id": "FuzofK7f-JTL"
      },
      "source": [
        "#### Sentiment Analysis"
      ]
    },
    {
      "cell_type": "code",
      "metadata": {
        "colab": {
          "base_uri": "https://localhost:8080/",
          "height": 202
        },
        "id": "xErfVEER_zNt",
        "outputId": "eb8418d7-43e0-4a41-924c-d73cbe7e3ada"
      },
      "source": [
        "tesla_df['sentiment_score'] = tesla_df['clean'].apply(lambda news: vader.polarity_scores(news)['compound'])\r\n",
        "tesla_df.head()"
      ],
      "execution_count": null,
      "outputs": [
        {
          "output_type": "execute_result",
          "data": {
            "text/html": [
              "<div>\n",
              "<style scoped>\n",
              "    .dataframe tbody tr th:only-of-type {\n",
              "        vertical-align: middle;\n",
              "    }\n",
              "\n",
              "    .dataframe tbody tr th {\n",
              "        vertical-align: top;\n",
              "    }\n",
              "\n",
              "    .dataframe thead th {\n",
              "        text-align: right;\n",
              "    }\n",
              "</style>\n",
              "<table border=\"1\" class=\"dataframe\">\n",
              "  <thead>\n",
              "    <tr style=\"text-align: right;\">\n",
              "      <th></th>\n",
              "      <th>date</th>\n",
              "      <th>headline</th>\n",
              "      <th>summary</th>\n",
              "      <th>url</th>\n",
              "      <th>combined</th>\n",
              "      <th>clean</th>\n",
              "      <th>sentiment_score</th>\n",
              "    </tr>\n",
              "  </thead>\n",
              "  <tbody>\n",
              "    <tr>\n",
              "      <th>0</th>\n",
              "      <td>2020-12-13</td>\n",
              "      <td>Are Tesla's shares worth US$90 or US$780? Wall...</td>\n",
              "      <td>[NEW YORK] For all the headline-making drama s...</td>\n",
              "      <td>https://www.businesstimes.com.sg/transport/are...</td>\n",
              "      <td>Are Tesla's shares worth US$90 or US$780? Wall...</td>\n",
              "      <td>teslas shares worth us90 us780 wall street can...</td>\n",
              "      <td>0.8481</td>\n",
              "    </tr>\n",
              "    <tr>\n",
              "      <th>1</th>\n",
              "      <td>2020-12-12</td>\n",
              "      <td>Short sellers crushed in 2020 as Tesla, Modern...</td>\n",
              "      <td>SHORT sellers won some high-profile victories ...</td>\n",
              "      <td>https://www.businesstimes.com.sg/wealth-invest...</td>\n",
              "      <td>Short sellers crushed in 2020 as Tesla, Modern...</td>\n",
              "      <td>short sellers crushed 2020 tesla moderna stock...</td>\n",
              "      <td>-0.7184</td>\n",
              "    </tr>\n",
              "    <tr>\n",
              "      <th>2</th>\n",
              "      <td>2020-12-09</td>\n",
              "      <td>No model for sale here, but India's small inve...</td>\n",
              "      <td>[MUMBAI] Mom-and-pop Indian investors increasi...</td>\n",
              "      <td>https://www.businesstimes.com.sg/stocks/no-mod...</td>\n",
              "      <td>No model for sale here, but India's small inve...</td>\n",
              "      <td>model sale indias small investors flock tesla ...</td>\n",
              "      <td>0.0000</td>\n",
              "    </tr>\n",
              "    <tr>\n",
              "      <th>3</th>\n",
              "      <td>2020-12-08</td>\n",
              "      <td>Tesla raising up to US$5b in third share sale ...</td>\n",
              "      <td>[SAN CARLOS] Tesla is taking advantage of its ...</td>\n",
              "      <td>https://www.businesstimes.com.sg/transport/tes...</td>\n",
              "      <td>Tesla raising up to US$5b in third share sale ...</td>\n",
              "      <td>tesla raising us5b third share sale year san c...</td>\n",
              "      <td>0.6597</td>\n",
              "    </tr>\n",
              "    <tr>\n",
              "      <th>4</th>\n",
              "      <td>2020-12-04</td>\n",
              "      <td>Tesla skeptic regrets betting against Musk: re...</td>\n",
              "      <td>[NEW YORK] Prominent investor Jim Chanos ackno...</td>\n",
              "      <td>https://www.businesstimes.com.sg/transport/tes...</td>\n",
              "      <td>Tesla skeptic regrets betting against Musk: re...</td>\n",
              "      <td>tesla skeptic regrets betting musk report new ...</td>\n",
              "      <td>-0.0258</td>\n",
              "    </tr>\n",
              "  </tbody>\n",
              "</table>\n",
              "</div>"
            ],
            "text/plain": [
              "         date  ... sentiment_score\n",
              "0  2020-12-13  ...          0.8481\n",
              "1  2020-12-12  ...         -0.7184\n",
              "2  2020-12-09  ...          0.0000\n",
              "3  2020-12-08  ...          0.6597\n",
              "4  2020-12-04  ...         -0.0258\n",
              "\n",
              "[5 rows x 7 columns]"
            ]
          },
          "metadata": {
            "tags": []
          },
          "execution_count": 317
        }
      ]
    },
    {
      "cell_type": "markdown",
      "metadata": {
        "id": "BQj7M87W-JbJ"
      },
      "source": [
        "#### Visualisation"
      ]
    },
    {
      "cell_type": "code",
      "metadata": {
        "colab": {
          "base_uri": "https://localhost:8080/",
          "height": 666
        },
        "id": "e6Ufczks-Z8s",
        "outputId": "26e328d6-fc03-4202-a604-72284c94279b"
      },
      "source": [
        "fig = plt.figure(figsize=(14,8))\r\n",
        "ax = fig.add_axes([0,0,1,1])\r\n",
        "ax.bar(tesla_df['date'], tesla_df['sentiment_score'])\r\n",
        "ax.set_xlabel('Date')\r\n",
        "ax.set_ylabel('Sentiment Scores')\r\n",
        "ax.set_title('Tesla - Sentiment Visualisation')\r\n",
        "plt.show()"
      ],
      "execution_count": null,
      "outputs": [
        {
          "output_type": "display_data",
          "data": {
            "image/png": "[encoded data removed]",
            "text/plain": [
              "<Figure size 1008x576 with 1 Axes>"
            ]
          },
          "metadata": {
            "tags": []
          }
        }
      ]
    },
    {
      "cell_type": "code",
      "metadata": {
        "colab": {
          "base_uri": "https://localhost:8080/",
          "height": 553
        },
        "id": "hwW7-5neAkGY",
        "outputId": "2c50ba4b-2ff8-4bcb-913d-75bceb66adb7"
      },
      "source": [
        "plt.figure(figsize=(16,8))\r\n",
        "plt.plot(tesla_stock['Close'])\r\n",
        "plt.title('Tesla Close Price History',fontsize = 18)\r\n",
        "plt.xlabel('Date',fontsize=14)\r\n",
        "plt.ylabel('Close Price USD ($)', fontsize = 14)\r\n",
        "plt.show()"
      ],
      "execution_count": null,
      "outputs": [
        {
          "output_type": "display_data",
          "data": {
            "image/png": "[encoded data removed]",
            "text/plain": [
              "<Figure size 1152x576 with 1 Axes>"
            ]
          },
          "metadata": {
            "tags": []
          }
        }
      ]
    },
    {
      "cell_type": "code",
      "metadata": {
        "colab": {
          "base_uri": "https://localhost:8080/"
        },
        "id": "mMTw0kBlAlCU",
        "outputId": "8ce2a67f-f628-4def-e8f7-5a4410c3497e"
      },
      "source": [
        "tesla_df['sentiment_score'].sort_values()"
      ],
      "execution_count": null,
      "outputs": [
        {
          "output_type": "execute_result",
          "data": {
            "text/plain": [
              "44   -0.7579\n",
              "1    -0.7184\n",
              "10   -0.7003\n",
              "21   -0.6597\n",
              "71   -0.6249\n",
              "       ...  \n",
              "12    0.8910\n",
              "48    0.8934\n",
              "56    0.8957\n",
              "68    0.9330\n",
              "54    0.9403\n",
              "Name: sentiment_score, Length: 100, dtype: float64"
            ]
          },
          "metadata": {
            "tags": []
          },
          "execution_count": 320
        }
      ]
    },
    {
      "cell_type": "code",
      "metadata": {
        "colab": {
          "base_uri": "https://localhost:8080/",
          "height": 80
        },
        "id": "c_c0EmAzAlHn",
        "outputId": "964ce2e2-a4a3-4cd2-98c6-f6728bef4774"
      },
      "source": [
        "tesla_df[tesla_df['sentiment_score']== -0.7579]"
      ],
      "execution_count": null,
      "outputs": [
        {
          "output_type": "execute_result",
          "data": {
            "text/html": [
              "<div>\n",
              "<style scoped>\n",
              "    .dataframe tbody tr th:only-of-type {\n",
              "        vertical-align: middle;\n",
              "    }\n",
              "\n",
              "    .dataframe tbody tr th {\n",
              "        vertical-align: top;\n",
              "    }\n",
              "\n",
              "    .dataframe thead th {\n",
              "        text-align: right;\n",
              "    }\n",
              "</style>\n",
              "<table border=\"1\" class=\"dataframe\">\n",
              "  <thead>\n",
              "    <tr style=\"text-align: right;\">\n",
              "      <th></th>\n",
              "      <th>date</th>\n",
              "      <th>headline</th>\n",
              "      <th>summary</th>\n",
              "      <th>url</th>\n",
              "      <th>combined</th>\n",
              "      <th>clean</th>\n",
              "      <th>sentiment_score</th>\n",
              "    </tr>\n",
              "  </thead>\n",
              "  <tbody>\n",
              "    <tr>\n",
              "      <th>44</th>\n",
              "      <td>2020-08-28</td>\n",
              "      <td>Musk confirms Tesla Nevada factory was target ...</td>\n",
              "      <td>[BENGALURU] Elon Musk said on Thursday that Te...</td>\n",
              "      <td>https://www.businesstimes.com.sg/transport/mus...</td>\n",
              "      <td>Musk confirms Tesla Nevada factory was target ...</td>\n",
              "      <td>musk confirms tesla nevada factory target seri...</td>\n",
              "      <td>-0.7579</td>\n",
              "    </tr>\n",
              "  </tbody>\n",
              "</table>\n",
              "</div>"
            ],
            "text/plain": [
              "          date  ... sentiment_score\n",
              "44  2020-08-28  ...         -0.7579\n",
              "\n",
              "[1 rows x 7 columns]"
            ]
          },
          "metadata": {
            "tags": []
          },
          "execution_count": 321
        }
      ]
    },
    {
      "cell_type": "code",
      "metadata": {
        "colab": {
          "base_uri": "https://localhost:8080/"
        },
        "id": "RMIiyQCnAlSP",
        "outputId": "0f7004d3-c295-4af5-ce6f-6604e080a396"
      },
      "source": [
        "print(tesla_df.iloc[44]['combined'])"
      ],
      "execution_count": null,
      "outputs": [
        {
          "output_type": "stream",
          "text": [
            "Musk confirms Tesla Nevada factory was target of 'serious' cyberattack [BENGALURU] Elon Musk said on Thursday that Tesla Inc's factory in Nevada was a target of a \"serious\"cybersecurity attack, confirming a media report that claimed an employee of the company helped the Federal Bureau of Investigation(FBI) thwart the attack.\r\n",
            "\n"
          ],
          "name": "stdout"
        }
      ]
    },
    {
      "cell_type": "code",
      "metadata": {
        "colab": {
          "base_uri": "https://localhost:8080/",
          "height": 110
        },
        "id": "Unqlvo9wBI1c",
        "outputId": "25b3851c-47e7-4c3d-9985-15ab3631cbf8"
      },
      "source": [
        "tesla_stock[tesla_stock.index == '2020-08-28']"
      ],
      "execution_count": null,
      "outputs": [
        {
          "output_type": "execute_result",
          "data": {
            "text/html": [
              "<div>\n",
              "<style scoped>\n",
              "    .dataframe tbody tr th:only-of-type {\n",
              "        vertical-align: middle;\n",
              "    }\n",
              "\n",
              "    .dataframe tbody tr th {\n",
              "        vertical-align: top;\n",
              "    }\n",
              "\n",
              "    .dataframe thead th {\n",
              "        text-align: right;\n",
              "    }\n",
              "</style>\n",
              "<table border=\"1\" class=\"dataframe\">\n",
              "  <thead>\n",
              "    <tr style=\"text-align: right;\">\n",
              "      <th></th>\n",
              "      <th>High</th>\n",
              "      <th>Low</th>\n",
              "      <th>Open</th>\n",
              "      <th>Close</th>\n",
              "      <th>Volume</th>\n",
              "      <th>Adj Close</th>\n",
              "      <th>Change</th>\n",
              "    </tr>\n",
              "    <tr>\n",
              "      <th>Date</th>\n",
              "      <th></th>\n",
              "      <th></th>\n",
              "      <th></th>\n",
              "      <th></th>\n",
              "      <th></th>\n",
              "      <th></th>\n",
              "      <th></th>\n",
              "    </tr>\n",
              "  </thead>\n",
              "  <tbody>\n",
              "    <tr>\n",
              "      <th>2020-08-28</th>\n",
              "      <td>463.697998</td>\n",
              "      <td>437.303986</td>\n",
              "      <td>459.023987</td>\n",
              "      <td>442.679993</td>\n",
              "      <td>100406000.0</td>\n",
              "      <td>442.679993</td>\n",
              "      <td>-5.070007</td>\n",
              "    </tr>\n",
              "  </tbody>\n",
              "</table>\n",
              "</div>"
            ],
            "text/plain": [
              "                  High         Low  ...   Adj Close    Change\n",
              "Date                                ...                      \n",
              "2020-08-28  463.697998  437.303986  ...  442.679993 -5.070007\n",
              "\n",
              "[1 rows x 7 columns]"
            ]
          },
          "metadata": {
            "tags": []
          },
          "execution_count": 325
        }
      ]
    },
    {
      "cell_type": "code",
      "metadata": {
        "colab": {
          "base_uri": "https://localhost:8080/",
          "height": 80
        },
        "id": "PWyJ_KxKBTQM",
        "outputId": "7a9b103d-1018-482d-e637-4a09c3df469a"
      },
      "source": [
        "tesla_df[tesla_df['sentiment_score']== -0.6597]"
      ],
      "execution_count": null,
      "outputs": [
        {
          "output_type": "execute_result",
          "data": {
            "text/html": [
              "<div>\n",
              "<style scoped>\n",
              "    .dataframe tbody tr th:only-of-type {\n",
              "        vertical-align: middle;\n",
              "    }\n",
              "\n",
              "    .dataframe tbody tr th {\n",
              "        vertical-align: top;\n",
              "    }\n",
              "\n",
              "    .dataframe thead th {\n",
              "        text-align: right;\n",
              "    }\n",
              "</style>\n",
              "<table border=\"1\" class=\"dataframe\">\n",
              "  <thead>\n",
              "    <tr style=\"text-align: right;\">\n",
              "      <th></th>\n",
              "      <th>date</th>\n",
              "      <th>headline</th>\n",
              "      <th>summary</th>\n",
              "      <th>url</th>\n",
              "      <th>combined</th>\n",
              "      <th>clean</th>\n",
              "      <th>sentiment_score</th>\n",
              "    </tr>\n",
              "  </thead>\n",
              "  <tbody>\n",
              "    <tr>\n",
              "      <th>21</th>\n",
              "      <td>2020-10-24</td>\n",
              "      <td>Tesla to recall 30,000 cars from China over su...</td>\n",
              "      <td>[BEIJING] US electric car manufacturer Tesla w...</td>\n",
              "      <td>https://www.businesstimes.com.sg/transport/tes...</td>\n",
              "      <td>Tesla to recall 30,000 cars from China over su...</td>\n",
              "      <td>tesla recall 30000 cars china suspension defec...</td>\n",
              "      <td>-0.6597</td>\n",
              "    </tr>\n",
              "  </tbody>\n",
              "</table>\n",
              "</div>"
            ],
            "text/plain": [
              "          date  ... sentiment_score\n",
              "21  2020-10-24  ...         -0.6597\n",
              "\n",
              "[1 rows x 7 columns]"
            ]
          },
          "metadata": {
            "tags": []
          },
          "execution_count": 342
        }
      ]
    },
    {
      "cell_type": "code",
      "metadata": {
        "colab": {
          "base_uri": "https://localhost:8080/"
        },
        "id": "SgIhV_H9BcAO",
        "outputId": "3d7c0441-5727-4c51-8aba-e929899dc21f"
      },
      "source": [
        "print(tesla_df.iloc[21]['combined'])\r\n"
      ],
      "execution_count": null,
      "outputs": [
        {
          "output_type": "stream",
          "text": [
            "Tesla to recall 30,000 cars from China over suspension defects [BEIJING] US electric car manufacturer Tesla will recall almost 30,000 vehicles imported into China due to suspension defects, China's market regulator said Friday.\r\n",
            "\n"
          ],
          "name": "stdout"
        }
      ]
    },
    {
      "cell_type": "code",
      "metadata": {
        "colab": {
          "base_uri": "https://localhost:8080/",
          "height": 110
        },
        "id": "jc9GpOCpBdCE",
        "outputId": "4f96c3a2-6913-4523-fb38-cb42458a72dc"
      },
      "source": [
        "tesla_stock[tesla_stock.index == '2020-10-26']"
      ],
      "execution_count": null,
      "outputs": [
        {
          "output_type": "execute_result",
          "data": {
            "text/html": [
              "<div>\n",
              "<style scoped>\n",
              "    .dataframe tbody tr th:only-of-type {\n",
              "        vertical-align: middle;\n",
              "    }\n",
              "\n",
              "    .dataframe tbody tr th {\n",
              "        vertical-align: top;\n",
              "    }\n",
              "\n",
              "    .dataframe thead th {\n",
              "        text-align: right;\n",
              "    }\n",
              "</style>\n",
              "<table border=\"1\" class=\"dataframe\">\n",
              "  <thead>\n",
              "    <tr style=\"text-align: right;\">\n",
              "      <th></th>\n",
              "      <th>High</th>\n",
              "      <th>Low</th>\n",
              "      <th>Open</th>\n",
              "      <th>Close</th>\n",
              "      <th>Volume</th>\n",
              "      <th>Adj Close</th>\n",
              "      <th>Change</th>\n",
              "    </tr>\n",
              "    <tr>\n",
              "      <th>Date</th>\n",
              "      <th></th>\n",
              "      <th></th>\n",
              "      <th></th>\n",
              "      <th></th>\n",
              "      <th></th>\n",
              "      <th></th>\n",
              "      <th></th>\n",
              "    </tr>\n",
              "  </thead>\n",
              "  <tbody>\n",
              "    <tr>\n",
              "      <th>2020-10-26</th>\n",
              "      <td>425.76001</td>\n",
              "      <td>410.0</td>\n",
              "      <td>411.630005</td>\n",
              "      <td>420.279999</td>\n",
              "      <td>28239200.0</td>\n",
              "      <td>420.279999</td>\n",
              "      <td>-0.350006</td>\n",
              "    </tr>\n",
              "  </tbody>\n",
              "</table>\n",
              "</div>"
            ],
            "text/plain": [
              "                 High    Low        Open  ...      Volume   Adj Close    Change\n",
              "Date                                      ...                                  \n",
              "2020-10-26  425.76001  410.0  411.630005  ...  28239200.0  420.279999 -0.350006\n",
              "\n",
              "[1 rows x 7 columns]"
            ]
          },
          "metadata": {
            "tags": []
          },
          "execution_count": 346
        }
      ]
    },
    {
      "cell_type": "code",
      "metadata": {
        "colab": {
          "base_uri": "https://localhost:8080/",
          "height": 80
        },
        "id": "j9Mti77lBixc",
        "outputId": "7f1a705b-5663-4751-d446-6db703e98da4"
      },
      "source": [
        "tesla_df[tesla_df['sentiment_score']== 0.9330]"
      ],
      "execution_count": null,
      "outputs": [
        {
          "output_type": "execute_result",
          "data": {
            "text/html": [
              "<div>\n",
              "<style scoped>\n",
              "    .dataframe tbody tr th:only-of-type {\n",
              "        vertical-align: middle;\n",
              "    }\n",
              "\n",
              "    .dataframe tbody tr th {\n",
              "        vertical-align: top;\n",
              "    }\n",
              "\n",
              "    .dataframe thead th {\n",
              "        text-align: right;\n",
              "    }\n",
              "</style>\n",
              "<table border=\"1\" class=\"dataframe\">\n",
              "  <thead>\n",
              "    <tr style=\"text-align: right;\">\n",
              "      <th></th>\n",
              "      <th>date</th>\n",
              "      <th>headline</th>\n",
              "      <th>summary</th>\n",
              "      <th>url</th>\n",
              "      <th>combined</th>\n",
              "      <th>clean</th>\n",
              "      <th>sentiment_score</th>\n",
              "    </tr>\n",
              "  </thead>\n",
              "  <tbody>\n",
              "    <tr>\n",
              "      <th>68</th>\n",
              "      <td>2020-06-27</td>\n",
              "      <td>Why you should be glad Audi's E-Tron isn't a T...</td>\n",
              "      <td>YOU probably don't remember your first Interne...</td>\n",
              "      <td>https://www.businesstimes.com.sg/life-culture/...</td>\n",
              "      <td>Why you should be glad Audi's E-Tron isn't a T...</td>\n",
              "      <td>glad audis etron isnt tesla killer probably do...</td>\n",
              "      <td>0.933</td>\n",
              "    </tr>\n",
              "  </tbody>\n",
              "</table>\n",
              "</div>"
            ],
            "text/plain": [
              "          date  ... sentiment_score\n",
              "68  2020-06-27  ...           0.933\n",
              "\n",
              "[1 rows x 7 columns]"
            ]
          },
          "metadata": {
            "tags": []
          },
          "execution_count": 352
        }
      ]
    },
    {
      "cell_type": "code",
      "metadata": {
        "colab": {
          "base_uri": "https://localhost:8080/"
        },
        "id": "BEVZS6IsCjIV",
        "outputId": "48b6ca3d-ecdb-4477-a5e6-f840b656a4bd"
      },
      "source": [
        "print(tesla_df.iloc[68]['combined'])"
      ],
      "execution_count": null,
      "outputs": [
        {
          "output_type": "stream",
          "text": [
            "Why you should be glad Audi's E-Tron isn't a Tesla killer YOU probably don't remember your first Internet-capable phone (WAP anyone?), but you surely remember your first proper smartphone? For many, that would have been the 2007 Apple iPhone, which simply did what it promised: it put the Internet in your hand.\r\n",
            "\n"
          ],
          "name": "stdout"
        }
      ]
    },
    {
      "cell_type": "code",
      "metadata": {
        "colab": {
          "base_uri": "https://localhost:8080/",
          "height": 110
        },
        "id": "86XOKbJWCoer",
        "outputId": "80212d7a-d0f5-40b3-c3ce-84b67902cef7"
      },
      "source": [
        "tesla_stock[tesla_stock.index == '2020-06-29']"
      ],
      "execution_count": null,
      "outputs": [
        {
          "output_type": "execute_result",
          "data": {
            "text/html": [
              "<div>\n",
              "<style scoped>\n",
              "    .dataframe tbody tr th:only-of-type {\n",
              "        vertical-align: middle;\n",
              "    }\n",
              "\n",
              "    .dataframe tbody tr th {\n",
              "        vertical-align: top;\n",
              "    }\n",
              "\n",
              "    .dataframe thead th {\n",
              "        text-align: right;\n",
              "    }\n",
              "</style>\n",
              "<table border=\"1\" class=\"dataframe\">\n",
              "  <thead>\n",
              "    <tr style=\"text-align: right;\">\n",
              "      <th></th>\n",
              "      <th>High</th>\n",
              "      <th>Low</th>\n",
              "      <th>Open</th>\n",
              "      <th>Close</th>\n",
              "      <th>Volume</th>\n",
              "      <th>Adj Close</th>\n",
              "      <th>Change</th>\n",
              "    </tr>\n",
              "    <tr>\n",
              "      <th>Date</th>\n",
              "      <th></th>\n",
              "      <th></th>\n",
              "      <th></th>\n",
              "      <th></th>\n",
              "      <th></th>\n",
              "      <th></th>\n",
              "      <th></th>\n",
              "    </tr>\n",
              "  </thead>\n",
              "  <tbody>\n",
              "    <tr>\n",
              "      <th>2020-06-29</th>\n",
              "      <td>202.0</td>\n",
              "      <td>189.703995</td>\n",
              "      <td>193.802002</td>\n",
              "      <td>201.869995</td>\n",
              "      <td>45132000.0</td>\n",
              "      <td>201.869995</td>\n",
              "      <td>9.921997</td>\n",
              "    </tr>\n",
              "  </tbody>\n",
              "</table>\n",
              "</div>"
            ],
            "text/plain": [
              "             High         Low        Open  ...      Volume   Adj Close    Change\n",
              "Date                                       ...                                  \n",
              "2020-06-29  202.0  189.703995  193.802002  ...  45132000.0  201.869995  9.921997\n",
              "\n",
              "[1 rows x 7 columns]"
            ]
          },
          "metadata": {
            "tags": []
          },
          "execution_count": 356
        }
      ]
    },
    {
      "cell_type": "code",
      "metadata": {
        "colab": {
          "base_uri": "https://localhost:8080/",
          "height": 80
        },
        "id": "hF4b9nlJC6kj",
        "outputId": "118b819f-96b9-4147-c376-83903ae77c5d"
      },
      "source": [
        "tesla_df[tesla_df['sentiment_score']== 0.8957]"
      ],
      "execution_count": null,
      "outputs": [
        {
          "output_type": "execute_result",
          "data": {
            "text/html": [
              "<div>\n",
              "<style scoped>\n",
              "    .dataframe tbody tr th:only-of-type {\n",
              "        vertical-align: middle;\n",
              "    }\n",
              "\n",
              "    .dataframe tbody tr th {\n",
              "        vertical-align: top;\n",
              "    }\n",
              "\n",
              "    .dataframe thead th {\n",
              "        text-align: right;\n",
              "    }\n",
              "</style>\n",
              "<table border=\"1\" class=\"dataframe\">\n",
              "  <thead>\n",
              "    <tr style=\"text-align: right;\">\n",
              "      <th></th>\n",
              "      <th>date</th>\n",
              "      <th>headline</th>\n",
              "      <th>summary</th>\n",
              "      <th>url</th>\n",
              "      <th>combined</th>\n",
              "      <th>clean</th>\n",
              "      <th>sentiment_score</th>\n",
              "    </tr>\n",
              "  </thead>\n",
              "  <tbody>\n",
              "    <tr>\n",
              "      <th>56</th>\n",
              "      <td>2020-07-21</td>\n",
              "      <td>Tesla share rally propels some early fan inves...</td>\n",
              "      <td>[SEOUL] Convinced of Tesla Inc's imminent mete...</td>\n",
              "      <td>https://www.businesstimes.com.sg/transport/tes...</td>\n",
              "      <td>Tesla share rally propels some early fan inves...</td>\n",
              "      <td>tesla share rally propels early fan investors ...</td>\n",
              "      <td>0.8957</td>\n",
              "    </tr>\n",
              "  </tbody>\n",
              "</table>\n",
              "</div>"
            ],
            "text/plain": [
              "          date  ... sentiment_score\n",
              "56  2020-07-21  ...          0.8957\n",
              "\n",
              "[1 rows x 7 columns]"
            ]
          },
          "metadata": {
            "tags": []
          },
          "execution_count": 357
        }
      ]
    },
    {
      "cell_type": "code",
      "metadata": {
        "colab": {
          "base_uri": "https://localhost:8080/"
        },
        "id": "sGv69W2LDYAL",
        "outputId": "8e4ccf70-6b46-40f8-cd6f-7448f2db4f8a"
      },
      "source": [
        "print(tesla_df.iloc[56]['combined'])"
      ],
      "execution_count": null,
      "outputs": [
        {
          "output_type": "stream",
          "text": [
            "Tesla share rally propels some early fan investors to riches [SEOUL] Convinced of Tesla Inc's imminent meteoric rise, Orestis Palampougioukis, a Netherlands-based software developer, took out a 43,000 euro (S$68,150) loan in early October to invest it all in the electric carmaker, which at the time was trading at around US$230 a share.\r\n",
            "\n"
          ],
          "name": "stdout"
        }
      ]
    },
    {
      "cell_type": "code",
      "metadata": {
        "colab": {
          "base_uri": "https://localhost:8080/",
          "height": 110
        },
        "id": "M3rBhJiUDbSr",
        "outputId": "f427aa40-12eb-4f1e-c993-84ca756f947f"
      },
      "source": [
        "tesla_stock[tesla_stock.index == '2020-07-22']"
      ],
      "execution_count": null,
      "outputs": [
        {
          "output_type": "execute_result",
          "data": {
            "text/html": [
              "<div>\n",
              "<style scoped>\n",
              "    .dataframe tbody tr th:only-of-type {\n",
              "        vertical-align: middle;\n",
              "    }\n",
              "\n",
              "    .dataframe tbody tr th {\n",
              "        vertical-align: top;\n",
              "    }\n",
              "\n",
              "    .dataframe thead th {\n",
              "        text-align: right;\n",
              "    }\n",
              "</style>\n",
              "<table border=\"1\" class=\"dataframe\">\n",
              "  <thead>\n",
              "    <tr style=\"text-align: right;\">\n",
              "      <th></th>\n",
              "      <th>High</th>\n",
              "      <th>Low</th>\n",
              "      <th>Open</th>\n",
              "      <th>Close</th>\n",
              "      <th>Volume</th>\n",
              "      <th>Adj Close</th>\n",
              "      <th>Change</th>\n",
              "    </tr>\n",
              "    <tr>\n",
              "      <th>Date</th>\n",
              "      <th></th>\n",
              "      <th></th>\n",
              "      <th></th>\n",
              "      <th></th>\n",
              "      <th></th>\n",
              "      <th></th>\n",
              "      <th></th>\n",
              "    </tr>\n",
              "  </thead>\n",
              "  <tbody>\n",
              "    <tr>\n",
              "      <th>2020-07-22</th>\n",
              "      <td>325.283997</td>\n",
              "      <td>312.399994</td>\n",
              "      <td>319.799988</td>\n",
              "      <td>318.466003</td>\n",
              "      <td>70805500.0</td>\n",
              "      <td>318.466003</td>\n",
              "      <td>4.794006</td>\n",
              "    </tr>\n",
              "  </tbody>\n",
              "</table>\n",
              "</div>"
            ],
            "text/plain": [
              "                  High         Low  ...   Adj Close    Change\n",
              "Date                                ...                      \n",
              "2020-07-22  325.283997  312.399994  ...  318.466003  4.794006\n",
              "\n",
              "[1 rows x 7 columns]"
            ]
          },
          "metadata": {
            "tags": []
          },
          "execution_count": 360
        }
      ]
    },
    {
      "cell_type": "markdown",
      "metadata": {
        "id": "1H9eMcG0DrLP"
      },
      "source": [
        "### Netflix"
      ]
    },
    {
      "cell_type": "markdown",
      "metadata": {
        "id": "oAqwB7VHDugZ"
      },
      "source": [
        "#### Pre-processing and Data Preparation"
      ]
    },
    {
      "cell_type": "code",
      "metadata": {
        "colab": {
          "base_uri": "https://localhost:8080/",
          "height": 202
        },
        "id": "waLYzrCkEZu6",
        "outputId": "4d2eaf62-c74c-485f-cb60-c24aee3bf7fc"
      },
      "source": [
        "netflix_df.head()"
      ],
      "execution_count": null,
      "outputs": [
        {
          "output_type": "execute_result",
          "data": {
            "text/html": [
              "<div>\n",
              "<style scoped>\n",
              "    .dataframe tbody tr th:only-of-type {\n",
              "        vertical-align: middle;\n",
              "    }\n",
              "\n",
              "    .dataframe tbody tr th {\n",
              "        vertical-align: top;\n",
              "    }\n",
              "\n",
              "    .dataframe thead th {\n",
              "        text-align: right;\n",
              "    }\n",
              "</style>\n",
              "<table border=\"1\" class=\"dataframe\">\n",
              "  <thead>\n",
              "    <tr style=\"text-align: right;\">\n",
              "      <th></th>\n",
              "      <th>date</th>\n",
              "      <th>headline</th>\n",
              "      <th>summary</th>\n",
              "      <th>url</th>\n",
              "    </tr>\n",
              "  </thead>\n",
              "  <tbody>\n",
              "    <tr>\n",
              "      <th>0</th>\n",
              "      <td>09 Dec 2020</td>\n",
              "      <td>Viacom poised to win suit over Netflix talent ...</td>\n",
              "      <td>[LOS ANGELES] A ViacomCBS unit is poised to wi...</td>\n",
              "      <td>https://www.businesstimes.com.sg/consumer/viac...</td>\n",
              "    </tr>\n",
              "    <tr>\n",
              "      <th>1</th>\n",
              "      <td>04 Dec 2020</td>\n",
              "      <td>Netflix hit 'The Crown' blasted for anti-Charl...</td>\n",
              "      <td>[LONDON] The fourth season of Netflix hit The ...</td>\n",
              "      <td>https://www.businesstimes.com.sg/life-culture/...</td>\n",
              "    </tr>\n",
              "    <tr>\n",
              "      <th>2</th>\n",
              "      <td>03 Dec 2020</td>\n",
              "      <td>Netflix plans to double its spending on origin...</td>\n",
              "      <td>NETFLIX Inc is planning to double its spending...</td>\n",
              "      <td>https://www.businesstimes.com.sg/consumer/netf...</td>\n",
              "    </tr>\n",
              "    <tr>\n",
              "      <th>3</th>\n",
              "      <td>03 Nov 2020</td>\n",
              "      <td>Will Mank be Netflix's first Best Picture winner?</td>\n",
              "      <td>CITIZEN Kane has cast a vast cinematic shadow ...</td>\n",
              "      <td>https://www.businesstimes.com.sg/life-culture/...</td>\n",
              "    </tr>\n",
              "    <tr>\n",
              "      <th>4</th>\n",
              "      <td>24 Oct 2020</td>\n",
              "      <td>Apple and Netflix discussed acquiring 'Bond' m...</td>\n",
              "      <td>[LOS ANGELES] Metro-Goldwyn-Mayer held discuss...</td>\n",
              "      <td>https://www.businesstimes.com.sg/technology/ap...</td>\n",
              "    </tr>\n",
              "  </tbody>\n",
              "</table>\n",
              "</div>"
            ],
            "text/plain": [
              "          date  ...                                                url\n",
              "0  09 Dec 2020  ...  https://www.businesstimes.com.sg/consumer/viac...\n",
              "1  04 Dec 2020  ...  https://www.businesstimes.com.sg/life-culture/...\n",
              "2  03 Dec 2020  ...  https://www.businesstimes.com.sg/consumer/netf...\n",
              "3  03 Nov 2020  ...  https://www.businesstimes.com.sg/life-culture/...\n",
              "4  24 Oct 2020  ...  https://www.businesstimes.com.sg/technology/ap...\n",
              "\n",
              "[5 rows x 4 columns]"
            ]
          },
          "metadata": {
            "tags": []
          },
          "execution_count": 361
        }
      ]
    },
    {
      "cell_type": "code",
      "metadata": {
        "colab": {
          "base_uri": "https://localhost:8080/",
          "height": 202
        },
        "id": "s8hM6l4yEZ3D",
        "outputId": "563ee6b7-8c45-447e-ecb7-4b1092a6fb08"
      },
      "source": [
        "netflix_df['combined'] = netflix_df['headline'] + ' ' + netflix_df['summary']\r\n",
        "netflix_df['date'] = pd.to_datetime(netflix_df['date']).dt.date\r\n",
        "netflix_df['clean'] = netflix_df['combined'].apply(text_cleaner)\r\n",
        "netflix_df.head()"
      ],
      "execution_count": null,
      "outputs": [
        {
          "output_type": "execute_result",
          "data": {
            "text/html": [
              "<div>\n",
              "<style scoped>\n",
              "    .dataframe tbody tr th:only-of-type {\n",
              "        vertical-align: middle;\n",
              "    }\n",
              "\n",
              "    .dataframe tbody tr th {\n",
              "        vertical-align: top;\n",
              "    }\n",
              "\n",
              "    .dataframe thead th {\n",
              "        text-align: right;\n",
              "    }\n",
              "</style>\n",
              "<table border=\"1\" class=\"dataframe\">\n",
              "  <thead>\n",
              "    <tr style=\"text-align: right;\">\n",
              "      <th></th>\n",
              "      <th>date</th>\n",
              "      <th>headline</th>\n",
              "      <th>summary</th>\n",
              "      <th>url</th>\n",
              "      <th>combined</th>\n",
              "      <th>clean</th>\n",
              "    </tr>\n",
              "  </thead>\n",
              "  <tbody>\n",
              "    <tr>\n",
              "      <th>0</th>\n",
              "      <td>2020-12-09</td>\n",
              "      <td>Viacom poised to win suit over Netflix talent ...</td>\n",
              "      <td>[LOS ANGELES] A ViacomCBS unit is poised to wi...</td>\n",
              "      <td>https://www.businesstimes.com.sg/consumer/viac...</td>\n",
              "      <td>Viacom poised to win suit over Netflix talent ...</td>\n",
              "      <td>viacom poised win suit netflix talent poaching...</td>\n",
              "    </tr>\n",
              "    <tr>\n",
              "      <th>1</th>\n",
              "      <td>2020-12-04</td>\n",
              "      <td>Netflix hit 'The Crown' blasted for anti-Charl...</td>\n",
              "      <td>[LONDON] The fourth season of Netflix hit The ...</td>\n",
              "      <td>https://www.businesstimes.com.sg/life-culture/...</td>\n",
              "      <td>Netflix hit 'The Crown' blasted for anti-Charl...</td>\n",
              "      <td>netflix hit crown blasted anticharles bias lon...</td>\n",
              "    </tr>\n",
              "    <tr>\n",
              "      <th>2</th>\n",
              "      <td>2020-12-03</td>\n",
              "      <td>Netflix plans to double its spending on origin...</td>\n",
              "      <td>NETFLIX Inc is planning to double its spending...</td>\n",
              "      <td>https://www.businesstimes.com.sg/consumer/netf...</td>\n",
              "      <td>Netflix plans to double its spending on origin...</td>\n",
              "      <td>netflix plans double spending original content...</td>\n",
              "    </tr>\n",
              "    <tr>\n",
              "      <th>3</th>\n",
              "      <td>2020-11-03</td>\n",
              "      <td>Will Mank be Netflix's first Best Picture winner?</td>\n",
              "      <td>CITIZEN Kane has cast a vast cinematic shadow ...</td>\n",
              "      <td>https://www.businesstimes.com.sg/life-culture/...</td>\n",
              "      <td>Will Mank be Netflix's first Best Picture winn...</td>\n",
              "      <td>mank netflixs first best picture winner citize...</td>\n",
              "    </tr>\n",
              "    <tr>\n",
              "      <th>4</th>\n",
              "      <td>2020-10-24</td>\n",
              "      <td>Apple and Netflix discussed acquiring 'Bond' m...</td>\n",
              "      <td>[LOS ANGELES] Metro-Goldwyn-Mayer held discuss...</td>\n",
              "      <td>https://www.businesstimes.com.sg/technology/ap...</td>\n",
              "      <td>Apple and Netflix discussed acquiring 'Bond' m...</td>\n",
              "      <td>apple netflix discussed acquiring bond movie s...</td>\n",
              "    </tr>\n",
              "  </tbody>\n",
              "</table>\n",
              "</div>"
            ],
            "text/plain": [
              "         date  ...                                              clean\n",
              "0  2020-12-09  ...  viacom poised win suit netflix talent poaching...\n",
              "1  2020-12-04  ...  netflix hit crown blasted anticharles bias lon...\n",
              "2  2020-12-03  ...  netflix plans double spending original content...\n",
              "3  2020-11-03  ...  mank netflixs first best picture winner citize...\n",
              "4  2020-10-24  ...  apple netflix discussed acquiring bond movie s...\n",
              "\n",
              "[5 rows x 6 columns]"
            ]
          },
          "metadata": {
            "tags": []
          },
          "execution_count": 362
        }
      ]
    },
    {
      "cell_type": "code",
      "metadata": {
        "colab": {
          "base_uri": "https://localhost:8080/",
          "height": 233
        },
        "id": "MKy5g8_XEaAr",
        "outputId": "041d1c71-03a7-49d5-a1f3-6b1b3b3dab99"
      },
      "source": [
        "netflix_stock['Change']=netflix_stock['Close'].diff()\r\n",
        "netflix_stock.head()"
      ],
      "execution_count": null,
      "outputs": [
        {
          "output_type": "execute_result",
          "data": {
            "text/html": [
              "<div>\n",
              "<style scoped>\n",
              "    .dataframe tbody tr th:only-of-type {\n",
              "        vertical-align: middle;\n",
              "    }\n",
              "\n",
              "    .dataframe tbody tr th {\n",
              "        vertical-align: top;\n",
              "    }\n",
              "\n",
              "    .dataframe thead th {\n",
              "        text-align: right;\n",
              "    }\n",
              "</style>\n",
              "<table border=\"1\" class=\"dataframe\">\n",
              "  <thead>\n",
              "    <tr style=\"text-align: right;\">\n",
              "      <th></th>\n",
              "      <th>High</th>\n",
              "      <th>Low</th>\n",
              "      <th>Open</th>\n",
              "      <th>Close</th>\n",
              "      <th>Volume</th>\n",
              "      <th>Adj Close</th>\n",
              "      <th>Change</th>\n",
              "    </tr>\n",
              "    <tr>\n",
              "      <th>Date</th>\n",
              "      <th></th>\n",
              "      <th></th>\n",
              "      <th></th>\n",
              "      <th></th>\n",
              "      <th></th>\n",
              "      <th></th>\n",
              "      <th></th>\n",
              "    </tr>\n",
              "  </thead>\n",
              "  <tbody>\n",
              "    <tr>\n",
              "      <th>2018-10-16</th>\n",
              "      <td>347.950012</td>\n",
              "      <td>330.559998</td>\n",
              "      <td>337.239990</td>\n",
              "      <td>346.399994</td>\n",
              "      <td>20156400</td>\n",
              "      <td>346.399994</td>\n",
              "      <td>NaN</td>\n",
              "    </tr>\n",
              "    <tr>\n",
              "      <th>2018-10-17</th>\n",
              "      <td>380.000000</td>\n",
              "      <td>356.500000</td>\n",
              "      <td>378.329987</td>\n",
              "      <td>364.700012</td>\n",
              "      <td>32610900</td>\n",
              "      <td>364.700012</td>\n",
              "      <td>18.300018</td>\n",
              "    </tr>\n",
              "    <tr>\n",
              "      <th>2018-10-18</th>\n",
              "      <td>362.200012</td>\n",
              "      <td>346.049988</td>\n",
              "      <td>360.670013</td>\n",
              "      <td>346.709991</td>\n",
              "      <td>18461000</td>\n",
              "      <td>346.709991</td>\n",
              "      <td>-17.990021</td>\n",
              "    </tr>\n",
              "    <tr>\n",
              "      <th>2018-10-19</th>\n",
              "      <td>355.799988</td>\n",
              "      <td>332.200012</td>\n",
              "      <td>351.000000</td>\n",
              "      <td>332.670013</td>\n",
              "      <td>16717200</td>\n",
              "      <td>332.670013</td>\n",
              "      <td>-14.039978</td>\n",
              "    </tr>\n",
              "    <tr>\n",
              "      <th>2018-10-22</th>\n",
              "      <td>335.799988</td>\n",
              "      <td>320.339996</td>\n",
              "      <td>333.100006</td>\n",
              "      <td>329.540009</td>\n",
              "      <td>17097200</td>\n",
              "      <td>329.540009</td>\n",
              "      <td>-3.130005</td>\n",
              "    </tr>\n",
              "  </tbody>\n",
              "</table>\n",
              "</div>"
            ],
            "text/plain": [
              "                  High         Low        Open  ...    Volume   Adj Close     Change\n",
              "Date                                            ...                                 \n",
              "2018-10-16  347.950012  330.559998  337.239990  ...  20156400  346.399994        NaN\n",
              "2018-10-17  380.000000  356.500000  378.329987  ...  32610900  364.700012  18.300018\n",
              "2018-10-18  362.200012  346.049988  360.670013  ...  18461000  346.709991 -17.990021\n",
              "2018-10-19  355.799988  332.200012  351.000000  ...  16717200  332.670013 -14.039978\n",
              "2018-10-22  335.799988  320.339996  333.100006  ...  17097200  329.540009  -3.130005\n",
              "\n",
              "[5 rows x 7 columns]"
            ]
          },
          "metadata": {
            "tags": []
          },
          "execution_count": 363
        }
      ]
    },
    {
      "cell_type": "code",
      "metadata": {
        "colab": {
          "base_uri": "https://localhost:8080/",
          "height": 110
        },
        "id": "ZQ6g6D4nEaGi",
        "outputId": "caed997f-8bb7-4299-c32c-84ffdb2f27ab"
      },
      "source": [
        "web.DataReader('NFLX', data_source='yahoo', start='2018-10-15',end='2018-10-15')"
      ],
      "execution_count": null,
      "outputs": [
        {
          "output_type": "execute_result",
          "data": {
            "text/html": [
              "<div>\n",
              "<style scoped>\n",
              "    .dataframe tbody tr th:only-of-type {\n",
              "        vertical-align: middle;\n",
              "    }\n",
              "\n",
              "    .dataframe tbody tr th {\n",
              "        vertical-align: top;\n",
              "    }\n",
              "\n",
              "    .dataframe thead th {\n",
              "        text-align: right;\n",
              "    }\n",
              "</style>\n",
              "<table border=\"1\" class=\"dataframe\">\n",
              "  <thead>\n",
              "    <tr style=\"text-align: right;\">\n",
              "      <th></th>\n",
              "      <th>High</th>\n",
              "      <th>Low</th>\n",
              "      <th>Open</th>\n",
              "      <th>Close</th>\n",
              "      <th>Volume</th>\n",
              "      <th>Adj Close</th>\n",
              "    </tr>\n",
              "    <tr>\n",
              "      <th>Date</th>\n",
              "      <th></th>\n",
              "      <th></th>\n",
              "      <th></th>\n",
              "      <th></th>\n",
              "      <th></th>\n",
              "      <th></th>\n",
              "    </tr>\n",
              "  </thead>\n",
              "  <tbody>\n",
              "    <tr>\n",
              "      <th>2018-10-15</th>\n",
              "      <td>339.209991</td>\n",
              "      <td>326.929993</td>\n",
              "      <td>337.630005</td>\n",
              "      <td>333.130005</td>\n",
              "      <td>11215000</td>\n",
              "      <td>333.130005</td>\n",
              "    </tr>\n",
              "  </tbody>\n",
              "</table>\n",
              "</div>"
            ],
            "text/plain": [
              "                  High         Low  ...    Volume   Adj Close\n",
              "Date                                ...                      \n",
              "2018-10-15  339.209991  326.929993  ...  11215000  333.130005\n",
              "\n",
              "[1 rows x 6 columns]"
            ]
          },
          "metadata": {
            "tags": []
          },
          "execution_count": 364
        }
      ]
    },
    {
      "cell_type": "code",
      "metadata": {
        "colab": {
          "base_uri": "https://localhost:8080/",
          "height": 337
        },
        "id": "IsVa1_-fE4HI",
        "outputId": "12deb371-e3e1-479c-c4cf-b75e2fe1ff4c"
      },
      "source": [
        "netflix_stock.iloc[:1]['Change'] = netflix_stock.iloc[:1]['Close'] - 333.130005\r\n",
        "netflix_stock.head()"
      ],
      "execution_count": null,
      "outputs": [
        {
          "output_type": "stream",
          "text": [
            "/usr/local/lib/python3.6/dist-packages/ipykernel_launcher.py:1: SettingWithCopyWarning: \n",
            "A value is trying to be set on a copy of a slice from a DataFrame.\n",
            "Try using .loc[row_indexer,col_indexer] = value instead\n",
            "\n",
            "See the caveats in the documentation: https://pandas.pydata.org/pandas-docs/stable/user_guide/indexing.html#returning-a-view-versus-a-copy\n",
            "  \"\"\"Entry point for launching an IPython kernel.\n"
          ],
          "name": "stderr"
        },
        {
          "output_type": "execute_result",
          "data": {
            "text/html": [
              "<div>\n",
              "<style scoped>\n",
              "    .dataframe tbody tr th:only-of-type {\n",
              "        vertical-align: middle;\n",
              "    }\n",
              "\n",
              "    .dataframe tbody tr th {\n",
              "        vertical-align: top;\n",
              "    }\n",
              "\n",
              "    .dataframe thead th {\n",
              "        text-align: right;\n",
              "    }\n",
              "</style>\n",
              "<table border=\"1\" class=\"dataframe\">\n",
              "  <thead>\n",
              "    <tr style=\"text-align: right;\">\n",
              "      <th></th>\n",
              "      <th>High</th>\n",
              "      <th>Low</th>\n",
              "      <th>Open</th>\n",
              "      <th>Close</th>\n",
              "      <th>Volume</th>\n",
              "      <th>Adj Close</th>\n",
              "      <th>Change</th>\n",
              "    </tr>\n",
              "    <tr>\n",
              "      <th>Date</th>\n",
              "      <th></th>\n",
              "      <th></th>\n",
              "      <th></th>\n",
              "      <th></th>\n",
              "      <th></th>\n",
              "      <th></th>\n",
              "      <th></th>\n",
              "    </tr>\n",
              "  </thead>\n",
              "  <tbody>\n",
              "    <tr>\n",
              "      <th>2018-10-16</th>\n",
              "      <td>347.950012</td>\n",
              "      <td>330.559998</td>\n",
              "      <td>337.239990</td>\n",
              "      <td>346.399994</td>\n",
              "      <td>20156400</td>\n",
              "      <td>346.399994</td>\n",
              "      <td>13.269989</td>\n",
              "    </tr>\n",
              "    <tr>\n",
              "      <th>2018-10-17</th>\n",
              "      <td>380.000000</td>\n",
              "      <td>356.500000</td>\n",
              "      <td>378.329987</td>\n",
              "      <td>364.700012</td>\n",
              "      <td>32610900</td>\n",
              "      <td>364.700012</td>\n",
              "      <td>18.300018</td>\n",
              "    </tr>\n",
              "    <tr>\n",
              "      <th>2018-10-18</th>\n",
              "      <td>362.200012</td>\n",
              "      <td>346.049988</td>\n",
              "      <td>360.670013</td>\n",
              "      <td>346.709991</td>\n",
              "      <td>18461000</td>\n",
              "      <td>346.709991</td>\n",
              "      <td>-17.990021</td>\n",
              "    </tr>\n",
              "    <tr>\n",
              "      <th>2018-10-19</th>\n",
              "      <td>355.799988</td>\n",
              "      <td>332.200012</td>\n",
              "      <td>351.000000</td>\n",
              "      <td>332.670013</td>\n",
              "      <td>16717200</td>\n",
              "      <td>332.670013</td>\n",
              "      <td>-14.039978</td>\n",
              "    </tr>\n",
              "    <tr>\n",
              "      <th>2018-10-22</th>\n",
              "      <td>335.799988</td>\n",
              "      <td>320.339996</td>\n",
              "      <td>333.100006</td>\n",
              "      <td>329.540009</td>\n",
              "      <td>17097200</td>\n",
              "      <td>329.540009</td>\n",
              "      <td>-3.130005</td>\n",
              "    </tr>\n",
              "  </tbody>\n",
              "</table>\n",
              "</div>"
            ],
            "text/plain": [
              "                  High         Low        Open  ...    Volume   Adj Close     Change\n",
              "Date                                            ...                                 \n",
              "2018-10-16  347.950012  330.559998  337.239990  ...  20156400  346.399994  13.269989\n",
              "2018-10-17  380.000000  356.500000  378.329987  ...  32610900  364.700012  18.300018\n",
              "2018-10-18  362.200012  346.049988  360.670013  ...  18461000  346.709991 -17.990021\n",
              "2018-10-19  355.799988  332.200012  351.000000  ...  16717200  332.670013 -14.039978\n",
              "2018-10-22  335.799988  320.339996  333.100006  ...  17097200  329.540009  -3.130005\n",
              "\n",
              "[5 rows x 7 columns]"
            ]
          },
          "metadata": {
            "tags": []
          },
          "execution_count": 365
        }
      ]
    },
    {
      "cell_type": "markdown",
      "metadata": {
        "id": "ZDyl5WhhDusB"
      },
      "source": [
        "#### Sentiment Analysis"
      ]
    },
    {
      "cell_type": "code",
      "metadata": {
        "colab": {
          "base_uri": "https://localhost:8080/",
          "height": 202
        },
        "id": "jpl79Oh9FSxW",
        "outputId": "602eacfa-69ee-4274-ee00-3ec5f9ddf109"
      },
      "source": [
        "netflix_df['sentiment_score'] = netflix_df['clean'].apply(lambda news: vader.polarity_scores(news)['compound'])\r\n",
        "netflix_df.head()"
      ],
      "execution_count": null,
      "outputs": [
        {
          "output_type": "execute_result",
          "data": {
            "text/html": [
              "<div>\n",
              "<style scoped>\n",
              "    .dataframe tbody tr th:only-of-type {\n",
              "        vertical-align: middle;\n",
              "    }\n",
              "\n",
              "    .dataframe tbody tr th {\n",
              "        vertical-align: top;\n",
              "    }\n",
              "\n",
              "    .dataframe thead th {\n",
              "        text-align: right;\n",
              "    }\n",
              "</style>\n",
              "<table border=\"1\" class=\"dataframe\">\n",
              "  <thead>\n",
              "    <tr style=\"text-align: right;\">\n",
              "      <th></th>\n",
              "      <th>date</th>\n",
              "      <th>headline</th>\n",
              "      <th>summary</th>\n",
              "      <th>url</th>\n",
              "      <th>combined</th>\n",
              "      <th>clean</th>\n",
              "      <th>sentiment_score</th>\n",
              "    </tr>\n",
              "  </thead>\n",
              "  <tbody>\n",
              "    <tr>\n",
              "      <th>0</th>\n",
              "      <td>2020-12-09</td>\n",
              "      <td>Viacom poised to win suit over Netflix talent ...</td>\n",
              "      <td>[LOS ANGELES] A ViacomCBS unit is poised to wi...</td>\n",
              "      <td>https://www.businesstimes.com.sg/consumer/viac...</td>\n",
              "      <td>Viacom poised to win suit over Netflix talent ...</td>\n",
              "      <td>viacom poised win suit netflix talent poaching...</td>\n",
              "      <td>0.8957</td>\n",
              "    </tr>\n",
              "    <tr>\n",
              "      <th>1</th>\n",
              "      <td>2020-12-04</td>\n",
              "      <td>Netflix hit 'The Crown' blasted for anti-Charl...</td>\n",
              "      <td>[LONDON] The fourth season of Netflix hit The ...</td>\n",
              "      <td>https://www.businesstimes.com.sg/life-culture/...</td>\n",
              "      <td>Netflix hit 'The Crown' blasted for anti-Charl...</td>\n",
              "      <td>netflix hit crown blasted anticharles bias lon...</td>\n",
              "      <td>-0.4939</td>\n",
              "    </tr>\n",
              "    <tr>\n",
              "      <th>2</th>\n",
              "      <td>2020-12-03</td>\n",
              "      <td>Netflix plans to double its spending on origin...</td>\n",
              "      <td>NETFLIX Inc is planning to double its spending...</td>\n",
              "      <td>https://www.businesstimes.com.sg/consumer/netf...</td>\n",
              "      <td>Netflix plans to double its spending on origin...</td>\n",
              "      <td>netflix plans double spending original content...</td>\n",
              "      <td>0.8225</td>\n",
              "    </tr>\n",
              "    <tr>\n",
              "      <th>3</th>\n",
              "      <td>2020-11-03</td>\n",
              "      <td>Will Mank be Netflix's first Best Picture winner?</td>\n",
              "      <td>CITIZEN Kane has cast a vast cinematic shadow ...</td>\n",
              "      <td>https://www.businesstimes.com.sg/life-culture/...</td>\n",
              "      <td>Will Mank be Netflix's first Best Picture winn...</td>\n",
              "      <td>mank netflixs first best picture winner citize...</td>\n",
              "      <td>0.9493</td>\n",
              "    </tr>\n",
              "    <tr>\n",
              "      <th>4</th>\n",
              "      <td>2020-10-24</td>\n",
              "      <td>Apple and Netflix discussed acquiring 'Bond' m...</td>\n",
              "      <td>[LOS ANGELES] Metro-Goldwyn-Mayer held discuss...</td>\n",
              "      <td>https://www.businesstimes.com.sg/technology/ap...</td>\n",
              "      <td>Apple and Netflix discussed acquiring 'Bond' m...</td>\n",
              "      <td>apple netflix discussed acquiring bond movie s...</td>\n",
              "      <td>0.2732</td>\n",
              "    </tr>\n",
              "  </tbody>\n",
              "</table>\n",
              "</div>"
            ],
            "text/plain": [
              "         date  ... sentiment_score\n",
              "0  2020-12-09  ...          0.8957\n",
              "1  2020-12-04  ...         -0.4939\n",
              "2  2020-12-03  ...          0.8225\n",
              "3  2020-11-03  ...          0.9493\n",
              "4  2020-10-24  ...          0.2732\n",
              "\n",
              "[5 rows x 7 columns]"
            ]
          },
          "metadata": {
            "tags": []
          },
          "execution_count": 366
        }
      ]
    },
    {
      "cell_type": "markdown",
      "metadata": {
        "id": "9we0TiI7Du1v"
      },
      "source": [
        "#### Visualisation"
      ]
    },
    {
      "cell_type": "code",
      "metadata": {
        "colab": {
          "base_uri": "https://localhost:8080/",
          "height": 666
        },
        "id": "dlVUD-DJDeyl",
        "outputId": "7a9c4e85-9bd1-4bbc-b105-f3dc4142be55"
      },
      "source": [
        "fig = plt.figure(figsize=(14,8))\r\n",
        "ax = fig.add_axes([0,0,1,1])\r\n",
        "ax.bar(netflix_df['date'], netflix_df['sentiment_score'])\r\n",
        "ax.set_xlabel('Date')\r\n",
        "ax.set_ylabel('Sentiment Scores')\r\n",
        "ax.set_title('Netflix - Sentiment Visualisation')\r\n",
        "plt.show()"
      ],
      "execution_count": null,
      "outputs": [
        {
          "output_type": "display_data",
          "data": {
            "image/png": "[encoded data removed]",
            "text/plain": [
              "<Figure size 1008x576 with 1 Axes>"
            ]
          },
          "metadata": {
            "tags": []
          }
        }
      ]
    },
    {
      "cell_type": "code",
      "metadata": {
        "colab": {
          "base_uri": "https://localhost:8080/",
          "height": 553
        },
        "id": "f-n8xLcrF00q",
        "outputId": "87e285d7-a122-4da0-d026-11e55b7c4477"
      },
      "source": [
        "plt.figure(figsize=(16,8))\r\n",
        "plt.plot(netflix_stock['Close'])\r\n",
        "plt.title('Netflix Close Price History',fontsize = 18)\r\n",
        "plt.xlabel('Date',fontsize=14)\r\n",
        "plt.ylabel('Close Price USD ($)', fontsize = 14)\r\n",
        "plt.show()"
      ],
      "execution_count": null,
      "outputs": [
        {
          "output_type": "display_data",
          "data": {
            "image/png": "[encoded data removed]",
            "text/plain": [
              "<Figure size 1152x576 with 1 Axes>"
            ]
          },
          "metadata": {
            "tags": []
          }
        }
      ]
    },
    {
      "cell_type": "code",
      "metadata": {
        "colab": {
          "base_uri": "https://localhost:8080/"
        },
        "id": "Xo_gwcHlGXiW",
        "outputId": "15ebab93-1f98-4752-cfc4-171c88d9db18"
      },
      "source": [
        "netflix_df['sentiment_score'].sort_values()"
      ],
      "execution_count": null,
      "outputs": [
        {
          "output_type": "execute_result",
          "data": {
            "text/plain": [
              "85   -0.9136\n",
              "8    -0.9022\n",
              "33   -0.8885\n",
              "43   -0.8625\n",
              "36   -0.8442\n",
              "       ...  \n",
              "62    0.9013\n",
              "80    0.9022\n",
              "3     0.9493\n",
              "98    0.9559\n",
              "78    0.9590\n",
              "Name: sentiment_score, Length: 100, dtype: float64"
            ]
          },
          "metadata": {
            "tags": []
          },
          "execution_count": 369
        }
      ]
    },
    {
      "cell_type": "code",
      "metadata": {
        "colab": {
          "base_uri": "https://localhost:8080/",
          "height": 80
        },
        "id": "iVUeYNjxGXn8",
        "outputId": "e93af21c-a450-47d3-b929-be40915b933b"
      },
      "source": [
        "netflix_df[netflix_df['sentiment_score']== -0.9136]"
      ],
      "execution_count": null,
      "outputs": [
        {
          "output_type": "execute_result",
          "data": {
            "text/html": [
              "<div>\n",
              "<style scoped>\n",
              "    .dataframe tbody tr th:only-of-type {\n",
              "        vertical-align: middle;\n",
              "    }\n",
              "\n",
              "    .dataframe tbody tr th {\n",
              "        vertical-align: top;\n",
              "    }\n",
              "\n",
              "    .dataframe thead th {\n",
              "        text-align: right;\n",
              "    }\n",
              "</style>\n",
              "<table border=\"1\" class=\"dataframe\">\n",
              "  <thead>\n",
              "    <tr style=\"text-align: right;\">\n",
              "      <th></th>\n",
              "      <th>date</th>\n",
              "      <th>headline</th>\n",
              "      <th>summary</th>\n",
              "      <th>url</th>\n",
              "      <th>combined</th>\n",
              "      <th>clean</th>\n",
              "      <th>sentiment_score</th>\n",
              "    </tr>\n",
              "  </thead>\n",
              "  <tbody>\n",
              "    <tr>\n",
              "      <th>85</th>\n",
              "      <td>2019-01-02</td>\n",
              "      <td>Netflix blocks show in Saudi Arabia critical o...</td>\n",
              "      <td>[NEW YORK] Netflix has blocked an episode of i...</td>\n",
              "      <td>https://www.businesstimes.com.sg/consumer/netf...</td>\n",
              "      <td>Netflix blocks show in Saudi Arabia critical o...</td>\n",
              "      <td>netflix blocks show saudi arabia critical saud...</td>\n",
              "      <td>-0.9136</td>\n",
              "    </tr>\n",
              "  </tbody>\n",
              "</table>\n",
              "</div>"
            ],
            "text/plain": [
              "          date  ... sentiment_score\n",
              "85  2019-01-02  ...         -0.9136\n",
              "\n",
              "[1 rows x 7 columns]"
            ]
          },
          "metadata": {
            "tags": []
          },
          "execution_count": 370
        }
      ]
    },
    {
      "cell_type": "code",
      "metadata": {
        "colab": {
          "base_uri": "https://localhost:8080/"
        },
        "id": "DanMZda9GX0Q",
        "outputId": "d24f319f-682e-4399-a659-adb410349f10"
      },
      "source": [
        "print(netflix_df.iloc[85]['combined'])"
      ],
      "execution_count": null,
      "outputs": [
        {
          "output_type": "stream",
          "text": [
            "Netflix blocks show in Saudi Arabia critical of Saudi Prince [NEW YORK] Netflix has blocked an episode of its show \"Patriot Act With Hasan Minhaj\" from streaming in Saudi Arabia after the Saudi government complained that the episode — which is critical of Crown Prince Mohammed bin Salman — violated its cybercrime laws.\n"
          ],
          "name": "stdout"
        }
      ]
    },
    {
      "cell_type": "code",
      "metadata": {
        "colab": {
          "base_uri": "https://localhost:8080/",
          "height": 110
        },
        "id": "ZeqVYnwNGX74",
        "outputId": "b3d0d0dc-433f-43b2-dd5c-23171d808531"
      },
      "source": [
        "netflix_stock[netflix_stock.index == '2019-01-02']"
      ],
      "execution_count": null,
      "outputs": [
        {
          "output_type": "execute_result",
          "data": {
            "text/html": [
              "<div>\n",
              "<style scoped>\n",
              "    .dataframe tbody tr th:only-of-type {\n",
              "        vertical-align: middle;\n",
              "    }\n",
              "\n",
              "    .dataframe tbody tr th {\n",
              "        vertical-align: top;\n",
              "    }\n",
              "\n",
              "    .dataframe thead th {\n",
              "        text-align: right;\n",
              "    }\n",
              "</style>\n",
              "<table border=\"1\" class=\"dataframe\">\n",
              "  <thead>\n",
              "    <tr style=\"text-align: right;\">\n",
              "      <th></th>\n",
              "      <th>High</th>\n",
              "      <th>Low</th>\n",
              "      <th>Open</th>\n",
              "      <th>Close</th>\n",
              "      <th>Volume</th>\n",
              "      <th>Adj Close</th>\n",
              "      <th>Change</th>\n",
              "    </tr>\n",
              "    <tr>\n",
              "      <th>Date</th>\n",
              "      <th></th>\n",
              "      <th></th>\n",
              "      <th></th>\n",
              "      <th></th>\n",
              "      <th></th>\n",
              "      <th></th>\n",
              "      <th></th>\n",
              "    </tr>\n",
              "  </thead>\n",
              "  <tbody>\n",
              "    <tr>\n",
              "      <th>2019-01-02</th>\n",
              "      <td>269.75</td>\n",
              "      <td>256.579987</td>\n",
              "      <td>259.279999</td>\n",
              "      <td>267.660004</td>\n",
              "      <td>11679500</td>\n",
              "      <td>267.660004</td>\n",
              "      <td>0.0</td>\n",
              "    </tr>\n",
              "  </tbody>\n",
              "</table>\n",
              "</div>"
            ],
            "text/plain": [
              "              High         Low        Open  ...    Volume   Adj Close  Change\n",
              "Date                                        ...                              \n",
              "2019-01-02  269.75  256.579987  259.279999  ...  11679500  267.660004     0.0\n",
              "\n",
              "[1 rows x 7 columns]"
            ]
          },
          "metadata": {
            "tags": []
          },
          "execution_count": 372
        }
      ]
    },
    {
      "cell_type": "code",
      "metadata": {
        "colab": {
          "base_uri": "https://localhost:8080/",
          "height": 80
        },
        "id": "JjdmtFXkF-HL",
        "outputId": "60d9f143-104d-403e-9c60-b69f611944d0"
      },
      "source": [
        "netflix_df[netflix_df['sentiment_score']== -0.8885]"
      ],
      "execution_count": null,
      "outputs": [
        {
          "output_type": "execute_result",
          "data": {
            "text/html": [
              "<div>\n",
              "<style scoped>\n",
              "    .dataframe tbody tr th:only-of-type {\n",
              "        vertical-align: middle;\n",
              "    }\n",
              "\n",
              "    .dataframe tbody tr th {\n",
              "        vertical-align: top;\n",
              "    }\n",
              "\n",
              "    .dataframe thead th {\n",
              "        text-align: right;\n",
              "    }\n",
              "</style>\n",
              "<table border=\"1\" class=\"dataframe\">\n",
              "  <thead>\n",
              "    <tr style=\"text-align: right;\">\n",
              "      <th></th>\n",
              "      <th>date</th>\n",
              "      <th>headline</th>\n",
              "      <th>summary</th>\n",
              "      <th>url</th>\n",
              "      <th>combined</th>\n",
              "      <th>clean</th>\n",
              "      <th>sentiment_score</th>\n",
              "    </tr>\n",
              "  </thead>\n",
              "  <tbody>\n",
              "    <tr>\n",
              "      <th>33</th>\n",
              "      <td>2019-12-23</td>\n",
              "      <td>Netflix price cuts are heating up India's stre...</td>\n",
              "      <td>[MUMBAI] Netflix Inc and its rivals are facing...</td>\n",
              "      <td>https://www.businesstimes.com.sg/consumer/netf...</td>\n",
              "      <td>Netflix price cuts are heating up India's stre...</td>\n",
              "      <td>netflix price cuts heating indias streaming wa...</td>\n",
              "      <td>-0.8885</td>\n",
              "    </tr>\n",
              "  </tbody>\n",
              "</table>\n",
              "</div>"
            ],
            "text/plain": [
              "          date  ... sentiment_score\n",
              "33  2019-12-23  ...         -0.8885\n",
              "\n",
              "[1 rows x 7 columns]"
            ]
          },
          "metadata": {
            "tags": []
          },
          "execution_count": 378
        }
      ]
    },
    {
      "cell_type": "code",
      "metadata": {
        "colab": {
          "base_uri": "https://localhost:8080/"
        },
        "id": "5mEgQBNuHPV6",
        "outputId": "c3bd4d12-4639-43b4-e07a-2d882f8aecbd"
      },
      "source": [
        "print(netflix_df.iloc[33]['combined'])"
      ],
      "execution_count": null,
      "outputs": [
        {
          "output_type": "stream",
          "text": [
            "Netflix price cuts are heating up India's streaming war [MUMBAI] Netflix Inc and its rivals are facing a price war in India as a jump in the cost of watching video on mobile phones threatens to slow demand in what is shaping up as a key growth market globally for streaming.\r\n",
            "\n"
          ],
          "name": "stdout"
        }
      ]
    },
    {
      "cell_type": "code",
      "metadata": {
        "colab": {
          "base_uri": "https://localhost:8080/",
          "height": 110
        },
        "id": "s0IRC1HEH6Ws",
        "outputId": "b213eeb6-6169-4e1d-eb0b-db564f29f99e"
      },
      "source": [
        "netflix_stock[netflix_stock.index == '2019-01-02']"
      ],
      "execution_count": null,
      "outputs": [
        {
          "output_type": "execute_result",
          "data": {
            "text/html": [
              "<div>\n",
              "<style scoped>\n",
              "    .dataframe tbody tr th:only-of-type {\n",
              "        vertical-align: middle;\n",
              "    }\n",
              "\n",
              "    .dataframe tbody tr th {\n",
              "        vertical-align: top;\n",
              "    }\n",
              "\n",
              "    .dataframe thead th {\n",
              "        text-align: right;\n",
              "    }\n",
              "</style>\n",
              "<table border=\"1\" class=\"dataframe\">\n",
              "  <thead>\n",
              "    <tr style=\"text-align: right;\">\n",
              "      <th></th>\n",
              "      <th>High</th>\n",
              "      <th>Low</th>\n",
              "      <th>Open</th>\n",
              "      <th>Close</th>\n",
              "      <th>Volume</th>\n",
              "      <th>Adj Close</th>\n",
              "      <th>Change</th>\n",
              "    </tr>\n",
              "    <tr>\n",
              "      <th>Date</th>\n",
              "      <th></th>\n",
              "      <th></th>\n",
              "      <th></th>\n",
              "      <th></th>\n",
              "      <th></th>\n",
              "      <th></th>\n",
              "      <th></th>\n",
              "    </tr>\n",
              "  </thead>\n",
              "  <tbody>\n",
              "    <tr>\n",
              "      <th>2019-01-02</th>\n",
              "      <td>269.75</td>\n",
              "      <td>256.579987</td>\n",
              "      <td>259.279999</td>\n",
              "      <td>267.660004</td>\n",
              "      <td>11679500</td>\n",
              "      <td>267.660004</td>\n",
              "      <td>0.0</td>\n",
              "    </tr>\n",
              "  </tbody>\n",
              "</table>\n",
              "</div>"
            ],
            "text/plain": [
              "              High         Low        Open  ...    Volume   Adj Close  Change\n",
              "Date                                        ...                              \n",
              "2019-01-02  269.75  256.579987  259.279999  ...  11679500  267.660004     0.0\n",
              "\n",
              "[1 rows x 7 columns]"
            ]
          },
          "metadata": {
            "tags": []
          },
          "execution_count": 380
        }
      ]
    },
    {
      "cell_type": "code",
      "metadata": {
        "colab": {
          "base_uri": "https://localhost:8080/",
          "height": 80
        },
        "id": "YsEHMgGpKM9B",
        "outputId": "29db53a4-8cfd-4d35-fe8a-f15c60d32c7f"
      },
      "source": [
        "netflix_df[netflix_df['sentiment_score']== -0.8442]"
      ],
      "execution_count": null,
      "outputs": [
        {
          "output_type": "execute_result",
          "data": {
            "text/html": [
              "<div>\n",
              "<style scoped>\n",
              "    .dataframe tbody tr th:only-of-type {\n",
              "        vertical-align: middle;\n",
              "    }\n",
              "\n",
              "    .dataframe tbody tr th {\n",
              "        vertical-align: top;\n",
              "    }\n",
              "\n",
              "    .dataframe thead th {\n",
              "        text-align: right;\n",
              "    }\n",
              "</style>\n",
              "<table border=\"1\" class=\"dataframe\">\n",
              "  <thead>\n",
              "    <tr style=\"text-align: right;\">\n",
              "      <th></th>\n",
              "      <th>date</th>\n",
              "      <th>headline</th>\n",
              "      <th>summary</th>\n",
              "      <th>url</th>\n",
              "      <th>combined</th>\n",
              "      <th>clean</th>\n",
              "      <th>sentiment_score</th>\n",
              "    </tr>\n",
              "  </thead>\n",
              "  <tbody>\n",
              "    <tr>\n",
              "      <th>36</th>\n",
              "      <td>2019-12-10</td>\n",
              "      <td>Netflix could lose 4 million US subscribers in...</td>\n",
              "      <td>[NEW YORKA] Needham and Co was the fourth Wall...</td>\n",
              "      <td>https://www.businesstimes.com.sg/consumer/netf...</td>\n",
              "      <td>Netflix could lose 4 million US subscribers in...</td>\n",
              "      <td>netflix could lose 4 million us subscribers 20...</td>\n",
              "      <td>-0.8442</td>\n",
              "    </tr>\n",
              "  </tbody>\n",
              "</table>\n",
              "</div>"
            ],
            "text/plain": [
              "          date  ... sentiment_score\n",
              "36  2019-12-10  ...         -0.8442\n",
              "\n",
              "[1 rows x 7 columns]"
            ]
          },
          "metadata": {
            "tags": []
          },
          "execution_count": 381
        }
      ]
    },
    {
      "cell_type": "code",
      "metadata": {
        "colab": {
          "base_uri": "https://localhost:8080/"
        },
        "id": "k524FUzbKkzh",
        "outputId": "2422e3ea-ac57-4dec-9f95-c4c21c708615"
      },
      "source": [
        "print(netflix_df.iloc[36]['combined'])"
      ],
      "execution_count": null,
      "outputs": [
        {
          "output_type": "stream",
          "text": [
            "Netflix could lose 4 million US subscribers in 2020  [NEW YORKA] Needham and Co was the fourth Wall Street brokerage in two months to cut its rating for Netflix Inc on Tuesday, arguing competition from new streaming services could lead to the loss of 4 million premium US subscribers next year.\n"
          ],
          "name": "stdout"
        }
      ]
    },
    {
      "cell_type": "code",
      "metadata": {
        "colab": {
          "base_uri": "https://localhost:8080/",
          "height": 110
        },
        "id": "htzl4P9lKk5b",
        "outputId": "ef52b09c-a738-4f39-eb4b-b8932416093a"
      },
      "source": [
        "netflix_stock[netflix_stock.index == '2019-12-10']"
      ],
      "execution_count": null,
      "outputs": [
        {
          "output_type": "execute_result",
          "data": {
            "text/html": [
              "<div>\n",
              "<style scoped>\n",
              "    .dataframe tbody tr th:only-of-type {\n",
              "        vertical-align: middle;\n",
              "    }\n",
              "\n",
              "    .dataframe tbody tr th {\n",
              "        vertical-align: top;\n",
              "    }\n",
              "\n",
              "    .dataframe thead th {\n",
              "        text-align: right;\n",
              "    }\n",
              "</style>\n",
              "<table border=\"1\" class=\"dataframe\">\n",
              "  <thead>\n",
              "    <tr style=\"text-align: right;\">\n",
              "      <th></th>\n",
              "      <th>High</th>\n",
              "      <th>Low</th>\n",
              "      <th>Open</th>\n",
              "      <th>Close</th>\n",
              "      <th>Volume</th>\n",
              "      <th>Adj Close</th>\n",
              "      <th>Change</th>\n",
              "    </tr>\n",
              "    <tr>\n",
              "      <th>Date</th>\n",
              "      <th></th>\n",
              "      <th></th>\n",
              "      <th></th>\n",
              "      <th></th>\n",
              "      <th></th>\n",
              "      <th></th>\n",
              "      <th></th>\n",
              "    </tr>\n",
              "  </thead>\n",
              "  <tbody>\n",
              "    <tr>\n",
              "      <th>2019-12-10</th>\n",
              "      <td>298.940002</td>\n",
              "      <td>292.019989</td>\n",
              "      <td>296.119995</td>\n",
              "      <td>293.119995</td>\n",
              "      <td>10476100</td>\n",
              "      <td>293.119995</td>\n",
              "      <td>-9.380005</td>\n",
              "    </tr>\n",
              "  </tbody>\n",
              "</table>\n",
              "</div>"
            ],
            "text/plain": [
              "                  High         Low        Open  ...    Volume   Adj Close    Change\n",
              "Date                                            ...                                \n",
              "2019-12-10  298.940002  292.019989  296.119995  ...  10476100  293.119995 -9.380005\n",
              "\n",
              "[1 rows x 7 columns]"
            ]
          },
          "metadata": {
            "tags": []
          },
          "execution_count": 383
        }
      ]
    },
    {
      "cell_type": "code",
      "metadata": {
        "colab": {
          "base_uri": "https://localhost:8080/",
          "height": 80
        },
        "id": "JkN9kSzwKlB4",
        "outputId": "f6d05c7b-917e-4bff-9214-730a1ebf3177"
      },
      "source": [
        "netflix_df[netflix_df['sentiment_score']== 0.9590]"
      ],
      "execution_count": null,
      "outputs": [
        {
          "output_type": "execute_result",
          "data": {
            "text/html": [
              "<div>\n",
              "<style scoped>\n",
              "    .dataframe tbody tr th:only-of-type {\n",
              "        vertical-align: middle;\n",
              "    }\n",
              "\n",
              "    .dataframe tbody tr th {\n",
              "        vertical-align: top;\n",
              "    }\n",
              "\n",
              "    .dataframe thead th {\n",
              "        text-align: right;\n",
              "    }\n",
              "</style>\n",
              "<table border=\"1\" class=\"dataframe\">\n",
              "  <thead>\n",
              "    <tr style=\"text-align: right;\">\n",
              "      <th></th>\n",
              "      <th>date</th>\n",
              "      <th>headline</th>\n",
              "      <th>summary</th>\n",
              "      <th>url</th>\n",
              "      <th>combined</th>\n",
              "      <th>clean</th>\n",
              "      <th>sentiment_score</th>\n",
              "    </tr>\n",
              "  </thead>\n",
              "  <tbody>\n",
              "    <tr>\n",
              "      <th>78</th>\n",
              "      <td>2019-02-12</td>\n",
              "      <td>Netflix's Roma takes Bafta glory</td>\n",
              "      <td>NETFLIX production Roma, a cinematic love lett...</td>\n",
              "      <td>https://www.businesstimes.com.sg/life-culture/...</td>\n",
              "      <td>Netflix's Roma takes Bafta glory NETFLIX produ...</td>\n",
              "      <td>netflixs roma takes bafta glory netflix produc...</td>\n",
              "      <td>0.959</td>\n",
              "    </tr>\n",
              "  </tbody>\n",
              "</table>\n",
              "</div>"
            ],
            "text/plain": [
              "          date  ... sentiment_score\n",
              "78  2019-02-12  ...           0.959\n",
              "\n",
              "[1 rows x 7 columns]"
            ]
          },
          "metadata": {
            "tags": []
          },
          "execution_count": 385
        }
      ]
    },
    {
      "cell_type": "code",
      "metadata": {
        "colab": {
          "base_uri": "https://localhost:8080/"
        },
        "id": "h-1Xo5TDKlKd",
        "outputId": "71429330-869c-4839-d052-2ac2e95f7a2c"
      },
      "source": [
        "print(netflix_df.iloc[78]['combined'])"
      ],
      "execution_count": null,
      "outputs": [
        {
          "output_type": "stream",
          "text": [
            "Netflix's Roma takes Bafta glory NETFLIX production Roma, a cinematic love letter to director Alfonso Cuaron's childhood in Mexico City, triumphed at the Bafta film awards on Sunday, boosting its Oscar hopes.\n"
          ],
          "name": "stdout"
        }
      ]
    },
    {
      "cell_type": "code",
      "metadata": {
        "colab": {
          "base_uri": "https://localhost:8080/",
          "height": 110
        },
        "id": "AY2qwcWJLD_S",
        "outputId": "83b759c7-e741-4e8d-94b4-f200fd2cfc94"
      },
      "source": [
        "netflix_stock[netflix_stock.index == '2019-02-12']"
      ],
      "execution_count": null,
      "outputs": [
        {
          "output_type": "execute_result",
          "data": {
            "text/html": [
              "<div>\n",
              "<style scoped>\n",
              "    .dataframe tbody tr th:only-of-type {\n",
              "        vertical-align: middle;\n",
              "    }\n",
              "\n",
              "    .dataframe tbody tr th {\n",
              "        vertical-align: top;\n",
              "    }\n",
              "\n",
              "    .dataframe thead th {\n",
              "        text-align: right;\n",
              "    }\n",
              "</style>\n",
              "<table border=\"1\" class=\"dataframe\">\n",
              "  <thead>\n",
              "    <tr style=\"text-align: right;\">\n",
              "      <th></th>\n",
              "      <th>High</th>\n",
              "      <th>Low</th>\n",
              "      <th>Open</th>\n",
              "      <th>Close</th>\n",
              "      <th>Volume</th>\n",
              "      <th>Adj Close</th>\n",
              "      <th>Change</th>\n",
              "    </tr>\n",
              "    <tr>\n",
              "      <th>Date</th>\n",
              "      <th></th>\n",
              "      <th></th>\n",
              "      <th></th>\n",
              "      <th></th>\n",
              "      <th></th>\n",
              "      <th></th>\n",
              "      <th></th>\n",
              "    </tr>\n",
              "  </thead>\n",
              "  <tbody>\n",
              "    <tr>\n",
              "      <th>2019-02-12</th>\n",
              "      <td>360.0</td>\n",
              "      <td>346.519989</td>\n",
              "      <td>348.089996</td>\n",
              "      <td>359.970001</td>\n",
              "      <td>10429400</td>\n",
              "      <td>359.970001</td>\n",
              "      <td>14.23999</td>\n",
              "    </tr>\n",
              "  </tbody>\n",
              "</table>\n",
              "</div>"
            ],
            "text/plain": [
              "             High         Low        Open  ...    Volume   Adj Close    Change\n",
              "Date                                       ...                                \n",
              "2019-02-12  360.0  346.519989  348.089996  ...  10429400  359.970001  14.23999\n",
              "\n",
              "[1 rows x 7 columns]"
            ]
          },
          "metadata": {
            "tags": []
          },
          "execution_count": 389
        }
      ]
    },
    {
      "cell_type": "code",
      "metadata": {
        "colab": {
          "base_uri": "https://localhost:8080/",
          "height": 80
        },
        "id": "F4FRY_LXLMCZ",
        "outputId": "cacaf824-3e63-4ee7-818f-702565ae1a6f"
      },
      "source": [
        "netflix_df[netflix_df['sentiment_score']== 0.9559]"
      ],
      "execution_count": null,
      "outputs": [
        {
          "output_type": "execute_result",
          "data": {
            "text/html": [
              "<div>\n",
              "<style scoped>\n",
              "    .dataframe tbody tr th:only-of-type {\n",
              "        vertical-align: middle;\n",
              "    }\n",
              "\n",
              "    .dataframe tbody tr th {\n",
              "        vertical-align: top;\n",
              "    }\n",
              "\n",
              "    .dataframe thead th {\n",
              "        text-align: right;\n",
              "    }\n",
              "</style>\n",
              "<table border=\"1\" class=\"dataframe\">\n",
              "  <thead>\n",
              "    <tr style=\"text-align: right;\">\n",
              "      <th></th>\n",
              "      <th>date</th>\n",
              "      <th>headline</th>\n",
              "      <th>summary</th>\n",
              "      <th>url</th>\n",
              "      <th>combined</th>\n",
              "      <th>clean</th>\n",
              "      <th>sentiment_score</th>\n",
              "    </tr>\n",
              "  </thead>\n",
              "  <tbody>\n",
              "    <tr>\n",
              "      <th>98</th>\n",
              "      <td>2018-10-17</td>\n",
              "      <td>Netflix surges on user gains, strong profits</td>\n",
              "      <td>[SAN FRANCISCO] Netflix reported on Tuesday a ...</td>\n",
              "      <td>https://www.businesstimes.com.sg/consumer/netf...</td>\n",
              "      <td>Netflix surges on user gains, strong profits [...</td>\n",
              "      <td>netflix surges user gains strong profits san f...</td>\n",
              "      <td>0.9559</td>\n",
              "    </tr>\n",
              "  </tbody>\n",
              "</table>\n",
              "</div>"
            ],
            "text/plain": [
              "          date  ... sentiment_score\n",
              "98  2018-10-17  ...          0.9559\n",
              "\n",
              "[1 rows x 7 columns]"
            ]
          },
          "metadata": {
            "tags": []
          },
          "execution_count": 390
        }
      ]
    },
    {
      "cell_type": "code",
      "metadata": {
        "colab": {
          "base_uri": "https://localhost:8080/"
        },
        "id": "uMfFXNNKNWCe",
        "outputId": "7c1a7c1b-97f5-4625-db7f-12bba65d8ffc"
      },
      "source": [
        "print(netflix_df.iloc[98]['combined'])"
      ],
      "execution_count": null,
      "outputs": [
        {
          "output_type": "stream",
          "text": [
            "Netflix surges on user gains, strong profits [SAN FRANCISCO] Netflix reported on Tuesday a strong jump in profits and better-than-expected growth in users in the past quarter, sparking a rally in shares of the streaming television market leader.\n"
          ],
          "name": "stdout"
        }
      ]
    },
    {
      "cell_type": "code",
      "metadata": {
        "colab": {
          "base_uri": "https://localhost:8080/",
          "height": 110
        },
        "id": "B8yfxnnqNWKw",
        "outputId": "d523a25c-596e-4edb-8998-34af2197f84e"
      },
      "source": [
        "netflix_stock[netflix_stock.index == '2018-10-17']"
      ],
      "execution_count": null,
      "outputs": [
        {
          "output_type": "execute_result",
          "data": {
            "text/html": [
              "<div>\n",
              "<style scoped>\n",
              "    .dataframe tbody tr th:only-of-type {\n",
              "        vertical-align: middle;\n",
              "    }\n",
              "\n",
              "    .dataframe tbody tr th {\n",
              "        vertical-align: top;\n",
              "    }\n",
              "\n",
              "    .dataframe thead th {\n",
              "        text-align: right;\n",
              "    }\n",
              "</style>\n",
              "<table border=\"1\" class=\"dataframe\">\n",
              "  <thead>\n",
              "    <tr style=\"text-align: right;\">\n",
              "      <th></th>\n",
              "      <th>High</th>\n",
              "      <th>Low</th>\n",
              "      <th>Open</th>\n",
              "      <th>Close</th>\n",
              "      <th>Volume</th>\n",
              "      <th>Adj Close</th>\n",
              "      <th>Change</th>\n",
              "    </tr>\n",
              "    <tr>\n",
              "      <th>Date</th>\n",
              "      <th></th>\n",
              "      <th></th>\n",
              "      <th></th>\n",
              "      <th></th>\n",
              "      <th></th>\n",
              "      <th></th>\n",
              "      <th></th>\n",
              "    </tr>\n",
              "  </thead>\n",
              "  <tbody>\n",
              "    <tr>\n",
              "      <th>2018-10-17</th>\n",
              "      <td>380.0</td>\n",
              "      <td>356.5</td>\n",
              "      <td>378.329987</td>\n",
              "      <td>364.700012</td>\n",
              "      <td>32610900</td>\n",
              "      <td>364.700012</td>\n",
              "      <td>18.300018</td>\n",
              "    </tr>\n",
              "  </tbody>\n",
              "</table>\n",
              "</div>"
            ],
            "text/plain": [
              "             High    Low        Open  ...    Volume   Adj Close     Change\n",
              "Date                                  ...                                 \n",
              "2018-10-17  380.0  356.5  378.329987  ...  32610900  364.700012  18.300018\n",
              "\n",
              "[1 rows x 7 columns]"
            ]
          },
          "metadata": {
            "tags": []
          },
          "execution_count": 392
        }
      ]
    },
    {
      "cell_type": "markdown",
      "metadata": {
        "id": "ULrBozTENmJf"
      },
      "source": [
        "### Findings\r\n",
        "\r\n",
        "In the project I tried to answer the question **\" Is there any relationship between stock market news and stock market prices?\"** by comparing sentiment analysis of specific news and stock prices of that news' date. \r\n",
        "\r\n",
        "Our visualisation plots show the correlation between news and stock values. \r\n",
        "When we check the sentiment scores and close value of that day of particular day, the positive or negative news sentiment scores affects the  close stock price of that particular. \r\n",
        "\r\n",
        "As a result, I successfully achieved my project goal by proofing the relationship between stock news and stock market prices.\r\n"
      ]
    },
    {
      "cell_type": "code",
      "metadata": {
        "id": "fAvIZw0hOQ8o"
      },
      "source": [
        ""
      ],
      "execution_count": null,
      "outputs": []
    }
  ]
}